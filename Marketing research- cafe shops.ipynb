{
 "cells": [
  {
   "cell_type": "markdown",
   "id": "cb9de156",
   "metadata": {},
   "source": [
    "# Telling a Story Using Data- A Robot-Run Cafe  "
   ]
  },
  {
   "cell_type": "markdown",
   "id": "540a1c9c",
   "metadata": {},
   "source": [
    "## Project description\n",
    "This project's aim was to assist decision makers regarding the opening of a small robot-run cafe in Los Angeles, by preparing market research. In order to attract investors, we are interested in providing a clear picture about the current market conditions- specifically: The distribution of foodservice shops across different types of foodservices, as well as across different streets in the city. Also, we would like to know more about the distribution of chain and non-chain shops, and the number of seats in each establishment. \n",
    "Relevant data was extracted from open-source data on restaurants in LA."
   ]
  },
  {
   "cell_type": "markdown",
   "id": "9d2d7c05",
   "metadata": {},
   "source": [
    "## Step 1. Download the data and prepare it for analysis"
   ]
  },
  {
   "cell_type": "code",
   "execution_count": 1,
   "id": "af429939",
   "metadata": {},
   "outputs": [
    {
     "name": "stdout",
     "output_type": "stream",
     "text": [
      "Collecting kaleido\n",
      "  Downloading kaleido-0.2.1-py2.py3-none-win_amd64.whl (65.9 MB)\n",
      "Note: you may need to restart the kernel to use updated packages.\n",
      "Installing collected packages: kaleido\n",
      "Successfully installed kaleido-0.2.1\n"
     ]
    }
   ],
   "source": [
    " pip install -U kaleido"
   ]
  },
  {
   "cell_type": "code",
   "execution_count": 2,
   "id": "95658807",
   "metadata": {},
   "outputs": [
    {
     "name": "stdout",
     "output_type": "stream",
     "text": [
      "Requirement already satisfied: usaddress in c:\\users\\user\\anaconda3\\lib\\site-packages (0.5.10)\n",
      "Requirement already satisfied: future>=0.14 in c:\\users\\user\\anaconda3\\lib\\site-packages (from usaddress) (0.18.2)\n",
      "Requirement already satisfied: python-crfsuite>=0.7 in c:\\users\\user\\anaconda3\\lib\\site-packages (from usaddress) (0.9.8)\n",
      "Requirement already satisfied: probableparsing in c:\\users\\user\\anaconda3\\lib\\site-packages (from usaddress) (0.0.1)\n"
     ]
    }
   ],
   "source": [
    "!pip install usaddress"
   ]
  },
  {
   "cell_type": "code",
   "execution_count": 3,
   "id": "a572e717",
   "metadata": {},
   "outputs": [
    {
     "name": "stdout",
     "output_type": "stream",
     "text": [
      "Requirement already satisfied: sidetable in c:\\users\\user\\anaconda3\\lib\\site-packages (0.9.0)\n",
      "Requirement already satisfied: pandas>=1.0 in c:\\users\\user\\anaconda3\\lib\\site-packages (from sidetable) (1.3.4)\n",
      "Requirement already satisfied: pytz>=2017.3 in c:\\users\\user\\anaconda3\\lib\\site-packages (from pandas>=1.0->sidetable) (2021.3)\n",
      "Requirement already satisfied: python-dateutil>=2.7.3 in c:\\users\\user\\anaconda3\\lib\\site-packages (from pandas>=1.0->sidetable) (2.8.2)\n",
      "Requirement already satisfied: numpy>=1.17.3 in c:\\users\\user\\anaconda3\\lib\\site-packages (from pandas>=1.0->sidetable) (1.20.3)\n",
      "Requirement already satisfied: six>=1.5 in c:\\users\\user\\anaconda3\\lib\\site-packages (from python-dateutil>=2.7.3->pandas>=1.0->sidetable) (1.16.0)\n",
      "Note: you may need to restart the kernel to use updated packages.\n"
     ]
    }
   ],
   "source": [
    "pip install sidetable"
   ]
  },
  {
   "cell_type": "code",
   "execution_count": 4,
   "id": "0e722082",
   "metadata": {},
   "outputs": [
    {
     "name": "stdout",
     "output_type": "stream",
     "text": [
      "Collecting plotly-expressNote: you may need to restart the kernel to use updated packages.\n",
      "\n",
      "  Downloading plotly_express-0.4.1-py2.py3-none-any.whl (2.9 kB)\n",
      "Requirement already satisfied: scipy>=0.18 in c:\\users\\user\\anaconda3\\lib\\site-packages (from plotly-express) (1.7.1)\n",
      "Requirement already satisfied: statsmodels>=0.9.0 in c:\\users\\user\\anaconda3\\lib\\site-packages (from plotly-express) (0.12.2)\n",
      "Requirement already satisfied: patsy>=0.5 in c:\\users\\user\\anaconda3\\lib\\site-packages (from plotly-express) (0.5.2)\n",
      "Requirement already satisfied: plotly>=4.1.0 in c:\\users\\user\\anaconda3\\lib\\site-packages (from plotly-express) (5.6.0)\n",
      "Requirement already satisfied: pandas>=0.20.0 in c:\\users\\user\\anaconda3\\lib\\site-packages (from plotly-express) (1.3.4)\n",
      "Requirement already satisfied: numpy>=1.11 in c:\\users\\user\\anaconda3\\lib\\site-packages (from plotly-express) (1.20.3)\n",
      "Requirement already satisfied: python-dateutil>=2.7.3 in c:\\users\\user\\anaconda3\\lib\\site-packages (from pandas>=0.20.0->plotly-express) (2.8.2)\n",
      "Requirement already satisfied: pytz>=2017.3 in c:\\users\\user\\anaconda3\\lib\\site-packages (from pandas>=0.20.0->plotly-express) (2021.3)\n",
      "Requirement already satisfied: six in c:\\users\\user\\anaconda3\\lib\\site-packages (from patsy>=0.5->plotly-express) (1.16.0)\n",
      "Requirement already satisfied: tenacity>=6.2.0 in c:\\users\\user\\anaconda3\\lib\\site-packages (from plotly>=4.1.0->plotly-express) (8.0.1)\n",
      "Installing collected packages: plotly-express\n",
      "Successfully installed plotly-express-0.4.1\n"
     ]
    }
   ],
   "source": [
    "pip install plotly-express"
   ]
  },
  {
   "cell_type": "code",
   "execution_count": 5,
   "id": "e1de9c91",
   "metadata": {},
   "outputs": [],
   "source": [
    "import pandas as pd\n",
    "import numpy as np\n",
    "import sidetable\n",
    "import usaddress\n",
    "import re\n",
    "import matplotlib.pyplot as plt\n",
    "from scipy import stats as st\n",
    "import scipy.stats as stats\n",
    "from statsmodels.stats.proportion import proportions_ztest\n",
    "import datetime as dt\n",
    "import math as mth\n",
    "import seaborn as sns\n",
    "import plotly.express as px\n",
    "import plotly.graph_objects as go\n",
    "from IPython.core.interactiveshell import InteractiveShell\n",
    "InteractiveShell.ast_node_interactivity = 'all'"
   ]
  },
  {
   "cell_type": "code",
   "execution_count": 6,
   "id": "989e7f30",
   "metadata": {},
   "outputs": [],
   "source": [
    "try:\n",
    "    rest = pd.read_csv(r\"C:\\Users\\USER\\OneDrive\\מסמכים\\DATA ANALYST\\Practicum100\\How to tell a story using data\\story telling project\\rest_data_us.csv\", sep=',')\n",
    "    \n",
    "except:\n",
    "    rest = pd.read_csv(\"/datasets/rest_data_us.csv\", sep=',')"
   ]
  },
  {
   "cell_type": "code",
   "execution_count": 7,
   "id": "34d379cf",
   "metadata": {},
   "outputs": [
    {
     "data": {
      "text/html": [
       "<div>\n",
       "<style scoped>\n",
       "    .dataframe tbody tr th:only-of-type {\n",
       "        vertical-align: middle;\n",
       "    }\n",
       "\n",
       "    .dataframe tbody tr th {\n",
       "        vertical-align: top;\n",
       "    }\n",
       "\n",
       "    .dataframe thead th {\n",
       "        text-align: right;\n",
       "    }\n",
       "</style>\n",
       "<table border=\"1\" class=\"dataframe\">\n",
       "  <thead>\n",
       "    <tr style=\"text-align: right;\">\n",
       "      <th></th>\n",
       "      <th>id</th>\n",
       "      <th>object_name</th>\n",
       "      <th>address</th>\n",
       "      <th>chain</th>\n",
       "      <th>object_type</th>\n",
       "      <th>number</th>\n",
       "    </tr>\n",
       "  </thead>\n",
       "  <tbody>\n",
       "    <tr>\n",
       "      <th>9636</th>\n",
       "      <td>21422</td>\n",
       "      <td>CHIPOTLE #3094</td>\n",
       "      <td>6719 LA TIJERA BLVD # A-B</td>\n",
       "      <td>True</td>\n",
       "      <td>Restaurant</td>\n",
       "      <td>47</td>\n",
       "    </tr>\n",
       "    <tr>\n",
       "      <th>8846</th>\n",
       "      <td>20632</td>\n",
       "      <td>POLLOS AL CARBON RESTAURANT</td>\n",
       "      <td>326 E PICO BLVD</td>\n",
       "      <td>True</td>\n",
       "      <td>Restaurant</td>\n",
       "      <td>12</td>\n",
       "    </tr>\n",
       "    <tr>\n",
       "      <th>4769</th>\n",
       "      <td>16555</td>\n",
       "      <td>ROCK AND BREWS CONCERT BAR</td>\n",
       "      <td>500 WORLD WAY #5J</td>\n",
       "      <td>True</td>\n",
       "      <td>Bar</td>\n",
       "      <td>69</td>\n",
       "    </tr>\n",
       "    <tr>\n",
       "      <th>3288</th>\n",
       "      <td>15074</td>\n",
       "      <td>LAUNDRY ZONE</td>\n",
       "      <td>3278 W PICO BLVD</td>\n",
       "      <td>False</td>\n",
       "      <td>Restaurant</td>\n",
       "      <td>13</td>\n",
       "    </tr>\n",
       "    <tr>\n",
       "      <th>3864</th>\n",
       "      <td>15650</td>\n",
       "      <td>ERIK'S 4 VIENTOS #2</td>\n",
       "      <td>1412 S LORENA ST</td>\n",
       "      <td>False</td>\n",
       "      <td>Restaurant</td>\n",
       "      <td>147</td>\n",
       "    </tr>\n",
       "    <tr>\n",
       "      <th>2311</th>\n",
       "      <td>14097</td>\n",
       "      <td>BLUE COW CAFE</td>\n",
       "      <td>350 S GRAND AVE STE R-3</td>\n",
       "      <td>False</td>\n",
       "      <td>Restaurant</td>\n",
       "      <td>62</td>\n",
       "    </tr>\n",
       "    <tr>\n",
       "      <th>4114</th>\n",
       "      <td>15900</td>\n",
       "      <td>KREATION ABBOT</td>\n",
       "      <td>1202 ABBOT KINNEY BLVD</td>\n",
       "      <td>False</td>\n",
       "      <td>Restaurant</td>\n",
       "      <td>62</td>\n",
       "    </tr>\n",
       "    <tr>\n",
       "      <th>4059</th>\n",
       "      <td>15845</td>\n",
       "      <td>TOUS LES JOURS</td>\n",
       "      <td>450 S WESTERN AVE # 103</td>\n",
       "      <td>True</td>\n",
       "      <td>Restaurant</td>\n",
       "      <td>12</td>\n",
       "    </tr>\n",
       "    <tr>\n",
       "      <th>4028</th>\n",
       "      <td>15814</td>\n",
       "      <td>EMILIA'S FASTFOOD</td>\n",
       "      <td>4433 S ALAMEDA ST # D-55</td>\n",
       "      <td>True</td>\n",
       "      <td>Restaurant</td>\n",
       "      <td>16</td>\n",
       "    </tr>\n",
       "    <tr>\n",
       "      <th>8175</th>\n",
       "      <td>19961</td>\n",
       "      <td>COFFEE BEAN AND TEA LEAF</td>\n",
       "      <td>500 WORLD WAY</td>\n",
       "      <td>True</td>\n",
       "      <td>Cafe</td>\n",
       "      <td>29</td>\n",
       "    </tr>\n",
       "  </tbody>\n",
       "</table>\n",
       "</div>"
      ],
      "text/plain": [
       "         id                  object_name                    address  chain  \\\n",
       "9636  21422               CHIPOTLE #3094  6719 LA TIJERA BLVD # A-B   True   \n",
       "8846  20632  POLLOS AL CARBON RESTAURANT            326 E PICO BLVD   True   \n",
       "4769  16555   ROCK AND BREWS CONCERT BAR          500 WORLD WAY #5J   True   \n",
       "3288  15074                 LAUNDRY ZONE           3278 W PICO BLVD  False   \n",
       "3864  15650          ERIK'S 4 VIENTOS #2           1412 S LORENA ST  False   \n",
       "2311  14097                BLUE COW CAFE    350 S GRAND AVE STE R-3  False   \n",
       "4114  15900               KREATION ABBOT     1202 ABBOT KINNEY BLVD  False   \n",
       "4059  15845               TOUS LES JOURS    450 S WESTERN AVE # 103   True   \n",
       "4028  15814            EMILIA'S FASTFOOD   4433 S ALAMEDA ST # D-55   True   \n",
       "8175  19961     COFFEE BEAN AND TEA LEAF              500 WORLD WAY   True   \n",
       "\n",
       "     object_type  number  \n",
       "9636  Restaurant      47  \n",
       "8846  Restaurant      12  \n",
       "4769         Bar      69  \n",
       "3288  Restaurant      13  \n",
       "3864  Restaurant     147  \n",
       "2311  Restaurant      62  \n",
       "4114  Restaurant      62  \n",
       "4059  Restaurant      12  \n",
       "4028  Restaurant      16  \n",
       "8175        Cafe      29  "
      ]
     },
     "execution_count": 7,
     "metadata": {},
     "output_type": "execute_result"
    },
    {
     "name": "stdout",
     "output_type": "stream",
     "text": [
      "<class 'pandas.core.frame.DataFrame'>\n",
      "RangeIndex: 9651 entries, 0 to 9650\n",
      "Data columns (total 6 columns):\n",
      " #   Column       Non-Null Count  Dtype \n",
      "---  ------       --------------  ----- \n",
      " 0   id           9651 non-null   int64 \n",
      " 1   object_name  9651 non-null   object\n",
      " 2   address      9651 non-null   object\n",
      " 3   chain        9648 non-null   object\n",
      " 4   object_type  9651 non-null   object\n",
      " 5   number       9651 non-null   int64 \n",
      "dtypes: int64(2), object(4)\n",
      "memory usage: 452.5+ KB\n"
     ]
    }
   ],
   "source": [
    "rest.sample(10)\n",
    "rest.info()"
   ]
  },
  {
   "cell_type": "markdown",
   "id": "8a38c482",
   "metadata": {},
   "source": [
    "A few remarks:\n",
    "- Looks like there are 3 missing values in \"chain\". It is 0.03% of data, so can be dropped.\n",
    "- I would change the data type of \"chain\" to boolean and of \"object_type\" to category."
   ]
  },
  {
   "cell_type": "markdown",
   "id": "fa6847a1",
   "metadata": {},
   "source": [
    "#### # Dropping missing values:"
   ]
  },
  {
   "cell_type": "code",
   "execution_count": 8,
   "id": "48d8e356",
   "metadata": {},
   "outputs": [],
   "source": [
    "# dropping rows with missing values:\n",
    "rest=rest.dropna()\n"
   ]
  },
  {
   "cell_type": "markdown",
   "id": "b30de939",
   "metadata": {},
   "source": [
    "#### # Converting data types:"
   ]
  },
  {
   "cell_type": "code",
   "execution_count": 9,
   "id": "a94ca1cf",
   "metadata": {},
   "outputs": [
    {
     "name": "stdout",
     "output_type": "stream",
     "text": [
      "<class 'pandas.core.frame.DataFrame'>\n",
      "Int64Index: 9648 entries, 0 to 9650\n",
      "Data columns (total 6 columns):\n",
      " #   Column       Non-Null Count  Dtype   \n",
      "---  ------       --------------  -----   \n",
      " 0   id           9648 non-null   int64   \n",
      " 1   object_name  9648 non-null   object  \n",
      " 2   address      9648 non-null   object  \n",
      " 3   chain        9648 non-null   bool    \n",
      " 4   object_type  9648 non-null   category\n",
      " 5   number       9648 non-null   int64   \n",
      "dtypes: bool(1), category(1), int64(2), object(2)\n",
      "memory usage: 395.9+ KB\n"
     ]
    }
   ],
   "source": [
    "# changing dtypes:\n",
    "rest['chain'] = rest['chain'].astype('bool')\n",
    "rest['object_type'] = rest['object_type'].astype('category')\n",
    "rest.info()"
   ]
  },
  {
   "cell_type": "markdown",
   "id": "26703f77",
   "metadata": {},
   "source": [
    "#### # Checking for duplicates in the whole dataframe and in object_name column:"
   ]
  },
  {
   "cell_type": "code",
   "execution_count": 10,
   "id": "5906cf37",
   "metadata": {},
   "outputs": [
    {
     "data": {
      "text/plain": [
       "0"
      ]
     },
     "execution_count": 10,
     "metadata": {},
     "output_type": "execute_result"
    }
   ],
   "source": [
    "# checking for duplicates: (none)\n",
    "rest.duplicated().sum()"
   ]
  },
  {
   "cell_type": "code",
   "execution_count": 11,
   "id": "beffc77e",
   "metadata": {},
   "outputs": [
    {
     "data": {
      "text/html": [
       "<div>\n",
       "<style scoped>\n",
       "    .dataframe tbody tr th:only-of-type {\n",
       "        vertical-align: middle;\n",
       "    }\n",
       "\n",
       "    .dataframe tbody tr th {\n",
       "        vertical-align: top;\n",
       "    }\n",
       "\n",
       "    .dataframe thead th {\n",
       "        text-align: right;\n",
       "    }\n",
       "</style>\n",
       "<table border=\"1\" class=\"dataframe\">\n",
       "  <thead>\n",
       "    <tr style=\"text-align: right;\">\n",
       "      <th></th>\n",
       "      <th>object_name</th>\n",
       "      <th>object_type</th>\n",
       "      <th>number</th>\n",
       "      <th>id</th>\n",
       "    </tr>\n",
       "  </thead>\n",
       "  <tbody>\n",
       "    <tr>\n",
       "      <th>8171</th>\n",
       "      <td>ZIP SUSHI &amp; IZAKAYA</td>\n",
       "      <td>Restaurant</td>\n",
       "      <td>98</td>\n",
       "      <td>19957</td>\n",
       "    </tr>\n",
       "    <tr>\n",
       "      <th>4373</th>\n",
       "      <td>ZION MARKET DELI &amp; ISLAND</td>\n",
       "      <td>Restaurant</td>\n",
       "      <td>16</td>\n",
       "      <td>16159</td>\n",
       "    </tr>\n",
       "    <tr>\n",
       "      <th>1616</th>\n",
       "      <td>ZERMENOS RESTAURANT INC</td>\n",
       "      <td>Restaurant</td>\n",
       "      <td>10</td>\n",
       "      <td>13402</td>\n",
       "    </tr>\n",
       "    <tr>\n",
       "      <th>6021</th>\n",
       "      <td>ZEN BAKERY (RETAIL)</td>\n",
       "      <td>Bakery</td>\n",
       "      <td>19</td>\n",
       "      <td>17807</td>\n",
       "    </tr>\n",
       "    <tr>\n",
       "      <th>8509</th>\n",
       "      <td>ZANKOU CHICKEN</td>\n",
       "      <td>Restaurant</td>\n",
       "      <td>67</td>\n",
       "      <td>20295</td>\n",
       "    </tr>\n",
       "    <tr>\n",
       "      <th>...</th>\n",
       "      <td>...</td>\n",
       "      <td>...</td>\n",
       "      <td>...</td>\n",
       "      <td>...</td>\n",
       "    </tr>\n",
       "    <tr>\n",
       "      <th>6180</th>\n",
       "      <td>4 CAMINOS RESTAURANT</td>\n",
       "      <td>Restaurant</td>\n",
       "      <td>18</td>\n",
       "      <td>17966</td>\n",
       "    </tr>\n",
       "    <tr>\n",
       "      <th>6548</th>\n",
       "      <td>3RD ST MARKET &amp; DELI</td>\n",
       "      <td>Restaurant</td>\n",
       "      <td>7</td>\n",
       "      <td>18334</td>\n",
       "    </tr>\n",
       "    <tr>\n",
       "      <th>1445</th>\n",
       "      <td>333</td>\n",
       "      <td>Restaurant</td>\n",
       "      <td>180</td>\n",
       "      <td>13231</td>\n",
       "    </tr>\n",
       "    <tr>\n",
       "      <th>5614</th>\n",
       "      <td>1810 RESTAURANT</td>\n",
       "      <td>Restaurant</td>\n",
       "      <td>45</td>\n",
       "      <td>17400</td>\n",
       "    </tr>\n",
       "    <tr>\n",
       "      <th>1710</th>\n",
       "      <td>#1 CHINESE FAST FOOD</td>\n",
       "      <td>Restaurant</td>\n",
       "      <td>6</td>\n",
       "      <td>13496</td>\n",
       "    </tr>\n",
       "  </tbody>\n",
       "</table>\n",
       "<p>3676 rows × 4 columns</p>\n",
       "</div>"
      ],
      "text/plain": [
       "                    object_name object_type  number     id\n",
       "8171        ZIP SUSHI & IZAKAYA  Restaurant      98  19957\n",
       "4373  ZION MARKET DELI & ISLAND  Restaurant      16  16159\n",
       "1616    ZERMENOS RESTAURANT INC  Restaurant      10  13402\n",
       "6021        ZEN BAKERY (RETAIL)      Bakery      19  17807\n",
       "8509             ZANKOU CHICKEN  Restaurant      67  20295\n",
       "...                         ...         ...     ...    ...\n",
       "6180       4 CAMINOS RESTAURANT  Restaurant      18  17966\n",
       "6548       3RD ST MARKET & DELI  Restaurant       7  18334\n",
       "1445                        333  Restaurant     180  13231\n",
       "5614            1810 RESTAURANT  Restaurant      45  17400\n",
       "1710       #1 CHINESE FAST FOOD  Restaurant       6  13496\n",
       "\n",
       "[3676 rows x 4 columns]"
      ]
     },
     "execution_count": 11,
     "metadata": {},
     "output_type": "execute_result"
    }
   ],
   "source": [
    "# checking for optional duplications in the object_names of establishments belonging to the same chain-\n",
    "chains = rest.query('chain == True')[['object_name', 'object_type', 'number', 'id']]\n",
    "chains.sort_values(by='object_name', ascending=False)\n"
   ]
  },
  {
   "cell_type": "markdown",
   "id": "4d06563b",
   "metadata": {},
   "source": [
    "* There are 3676 foodservice places that are part of a foodserice chain. This table shows that chain establishments (sometimes) have the same name. In order to know the true number of establishments per chain we have to add them up by name."
   ]
  },
  {
   "cell_type": "code",
   "execution_count": 12,
   "id": "b572833c",
   "metadata": {},
   "outputs": [
    {
     "data": {
      "text/html": [
       "<div>\n",
       "<style scoped>\n",
       "    .dataframe tbody tr th:only-of-type {\n",
       "        vertical-align: middle;\n",
       "    }\n",
       "\n",
       "    .dataframe tbody tr th {\n",
       "        vertical-align: top;\n",
       "    }\n",
       "\n",
       "    .dataframe thead th {\n",
       "        text-align: right;\n",
       "    }\n",
       "</style>\n",
       "<table border=\"1\" class=\"dataframe\">\n",
       "  <thead>\n",
       "    <tr style=\"text-align: right;\">\n",
       "      <th></th>\n",
       "      <th>object_name</th>\n",
       "      <th>id</th>\n",
       "    </tr>\n",
       "  </thead>\n",
       "  <tbody>\n",
       "    <tr>\n",
       "      <th>0</th>\n",
       "      <td>#1 CHINESE FAST FOOD</td>\n",
       "      <td>1</td>\n",
       "    </tr>\n",
       "    <tr>\n",
       "      <th>1</th>\n",
       "      <td>PANDA EXPRESS #792</td>\n",
       "      <td>1</td>\n",
       "    </tr>\n",
       "    <tr>\n",
       "      <th>2</th>\n",
       "      <td>PANDA EXPRESS #948</td>\n",
       "      <td>1</td>\n",
       "    </tr>\n",
       "    <tr>\n",
       "      <th>3</th>\n",
       "      <td>PANDA EXPRESS 2919</td>\n",
       "      <td>1</td>\n",
       "    </tr>\n",
       "    <tr>\n",
       "      <th>4</th>\n",
       "      <td>PANDA EXPRESS INC.</td>\n",
       "      <td>1</td>\n",
       "    </tr>\n",
       "    <tr>\n",
       "      <th>...</th>\n",
       "      <td>...</td>\n",
       "      <td>...</td>\n",
       "    </tr>\n",
       "    <tr>\n",
       "      <th>2728</th>\n",
       "      <td>KENTUCKY FRIED CHICKEN</td>\n",
       "      <td>14</td>\n",
       "    </tr>\n",
       "    <tr>\n",
       "      <th>2729</th>\n",
       "      <td>WABA GRILL</td>\n",
       "      <td>14</td>\n",
       "    </tr>\n",
       "    <tr>\n",
       "      <th>2730</th>\n",
       "      <td>DOMINO'S PIZZA</td>\n",
       "      <td>15</td>\n",
       "    </tr>\n",
       "    <tr>\n",
       "      <th>2731</th>\n",
       "      <td>SUBWAY</td>\n",
       "      <td>31</td>\n",
       "    </tr>\n",
       "    <tr>\n",
       "      <th>2732</th>\n",
       "      <td>THE COFFEE BEAN &amp; TEA LEAF</td>\n",
       "      <td>47</td>\n",
       "    </tr>\n",
       "  </tbody>\n",
       "</table>\n",
       "<p>2733 rows × 2 columns</p>\n",
       "</div>"
      ],
      "text/plain": [
       "                     object_name  id\n",
       "0           #1 CHINESE FAST FOOD   1\n",
       "1             PANDA EXPRESS #792   1\n",
       "2             PANDA EXPRESS #948   1\n",
       "3             PANDA EXPRESS 2919   1\n",
       "4             PANDA EXPRESS INC.   1\n",
       "...                          ...  ..\n",
       "2728      KENTUCKY FRIED CHICKEN  14\n",
       "2729                  WABA GRILL  14\n",
       "2730              DOMINO'S PIZZA  15\n",
       "2731                      SUBWAY  31\n",
       "2732  THE COFFEE BEAN & TEA LEAF  47\n",
       "\n",
       "[2733 rows x 2 columns]"
      ]
     },
     "execution_count": 12,
     "metadata": {},
     "output_type": "execute_result"
    }
   ],
   "source": [
    "chains.groupby('object_name')['id'].count().sort_values().reset_index()"
   ]
  },
  {
   "cell_type": "markdown",
   "id": "da6056a9",
   "metadata": {},
   "source": [
    "* When grouped by name we get 2733 records, but as can be seen, the establishment names ('object_name') are misleading: \"Panda Express\", for example, appears as different names although they belong to the same chain. We should join them together. "
   ]
  },
  {
   "cell_type": "code",
   "execution_count": 13,
   "id": "e3fc280a",
   "metadata": {},
   "outputs": [],
   "source": [
    "# A function to eliminate numbers and '#':\n",
    "def clean_up(name):\n",
    "    name= re.sub(' [^A-Za-z]+', '', name)\n",
    "    return name"
   ]
  },
  {
   "cell_type": "code",
   "execution_count": 14,
   "id": "8b5b5f16",
   "metadata": {},
   "outputs": [
    {
     "data": {
      "text/plain": [
       "'PANDA EXPRESS'"
      ]
     },
     "execution_count": 14,
     "metadata": {},
     "output_type": "execute_result"
    }
   ],
   "source": [
    "# an example- trying the function on one name:\n",
    "clean_up('PANDA EXPRESS #792')"
   ]
  },
  {
   "cell_type": "code",
   "execution_count": 15,
   "id": "82b99ee8",
   "metadata": {},
   "outputs": [],
   "source": [
    "# calling the function to work on the column:\n",
    "chains['clean_name'] = chains['object_name'].apply(clean_up)"
   ]
  },
  {
   "cell_type": "code",
   "execution_count": 16,
   "id": "27f184df",
   "metadata": {},
   "outputs": [
    {
     "data": {
      "text/plain": [
       "clean_name                           id\n",
       "#1 CHINESE FAST FOOD                 1     1\n",
       "PALM TREE LA                         2     1\n",
       "PAPILLON INTERNATIONAL BAKERY        1     1\n",
       "PAPA JOHNS PIZZA                     2     1\n",
       "PAPA JOHN'S PIZZA                    14    1\n",
       "                                          ..\n",
       "HAESHIN RESTAURANT                   1     1\n",
       "HAE JANG CHON KOREAN BBQ RESTAURANT  1     1\n",
       "HABAYIT RESTAURANT                   1     1\n",
       "GUSTO                                2     1\n",
       "ZIP SUSHIIZAKAYA                     1     1\n",
       "Length: 2071, dtype: int64"
      ]
     },
     "execution_count": 16,
     "metadata": {},
     "output_type": "execute_result"
    }
   ],
   "source": [
    "#checking:\n",
    "chains.groupby('clean_name')['id'].count().reset_index().value_counts()"
   ]
  },
  {
   "cell_type": "markdown",
   "id": "ac534273",
   "metadata": {},
   "source": [
    "**Now there are 2071 records of names "
   ]
  },
  {
   "cell_type": "markdown",
   "id": "714d1cc1",
   "metadata": {},
   "source": [
    "#### # General descriptive statistics: "
   ]
  },
  {
   "cell_type": "code",
   "execution_count": 17,
   "id": "8144a5a2",
   "metadata": {},
   "outputs": [
    {
     "data": {
      "text/html": [
       "<div>\n",
       "<style scoped>\n",
       "    .dataframe tbody tr th:only-of-type {\n",
       "        vertical-align: middle;\n",
       "    }\n",
       "\n",
       "    .dataframe tbody tr th {\n",
       "        vertical-align: top;\n",
       "    }\n",
       "\n",
       "    .dataframe thead th {\n",
       "        text-align: right;\n",
       "    }\n",
       "</style>\n",
       "<table border=\"1\" class=\"dataframe\">\n",
       "  <thead>\n",
       "    <tr style=\"text-align: right;\">\n",
       "      <th></th>\n",
       "      <th>count</th>\n",
       "      <th>unique</th>\n",
       "      <th>top</th>\n",
       "      <th>freq</th>\n",
       "      <th>mean</th>\n",
       "      <th>std</th>\n",
       "      <th>min</th>\n",
       "      <th>25%</th>\n",
       "      <th>50%</th>\n",
       "      <th>75%</th>\n",
       "      <th>max</th>\n",
       "    </tr>\n",
       "  </thead>\n",
       "  <tbody>\n",
       "    <tr>\n",
       "      <th>id</th>\n",
       "      <td>9648.0</td>\n",
       "      <td>NaN</td>\n",
       "      <td>NaN</td>\n",
       "      <td>NaN</td>\n",
       "      <td>16610.056385</td>\n",
       "      <td>2786.049701</td>\n",
       "      <td>11786.0</td>\n",
       "      <td>14197.75</td>\n",
       "      <td>16609.5</td>\n",
       "      <td>19021.25</td>\n",
       "      <td>21436.0</td>\n",
       "    </tr>\n",
       "    <tr>\n",
       "      <th>object_name</th>\n",
       "      <td>9648</td>\n",
       "      <td>8669</td>\n",
       "      <td>THE COFFEE BEAN &amp; TEA LEAF</td>\n",
       "      <td>47</td>\n",
       "      <td>NaN</td>\n",
       "      <td>NaN</td>\n",
       "      <td>NaN</td>\n",
       "      <td>NaN</td>\n",
       "      <td>NaN</td>\n",
       "      <td>NaN</td>\n",
       "      <td>NaN</td>\n",
       "    </tr>\n",
       "    <tr>\n",
       "      <th>address</th>\n",
       "      <td>9648</td>\n",
       "      <td>8514</td>\n",
       "      <td>3607 TROUSDALE PKWY</td>\n",
       "      <td>11</td>\n",
       "      <td>NaN</td>\n",
       "      <td>NaN</td>\n",
       "      <td>NaN</td>\n",
       "      <td>NaN</td>\n",
       "      <td>NaN</td>\n",
       "      <td>NaN</td>\n",
       "      <td>NaN</td>\n",
       "    </tr>\n",
       "    <tr>\n",
       "      <th>chain</th>\n",
       "      <td>9648</td>\n",
       "      <td>2</td>\n",
       "      <td>False</td>\n",
       "      <td>5972</td>\n",
       "      <td>NaN</td>\n",
       "      <td>NaN</td>\n",
       "      <td>NaN</td>\n",
       "      <td>NaN</td>\n",
       "      <td>NaN</td>\n",
       "      <td>NaN</td>\n",
       "      <td>NaN</td>\n",
       "    </tr>\n",
       "    <tr>\n",
       "      <th>object_type</th>\n",
       "      <td>9648</td>\n",
       "      <td>6</td>\n",
       "      <td>Restaurant</td>\n",
       "      <td>7253</td>\n",
       "      <td>NaN</td>\n",
       "      <td>NaN</td>\n",
       "      <td>NaN</td>\n",
       "      <td>NaN</td>\n",
       "      <td>NaN</td>\n",
       "      <td>NaN</td>\n",
       "      <td>NaN</td>\n",
       "    </tr>\n",
       "    <tr>\n",
       "      <th>number</th>\n",
       "      <td>9648.0</td>\n",
       "      <td>NaN</td>\n",
       "      <td>NaN</td>\n",
       "      <td>NaN</td>\n",
       "      <td>43.703566</td>\n",
       "      <td>47.627252</td>\n",
       "      <td>1.0</td>\n",
       "      <td>14.0</td>\n",
       "      <td>27.0</td>\n",
       "      <td>46.0</td>\n",
       "      <td>229.0</td>\n",
       "    </tr>\n",
       "  </tbody>\n",
       "</table>\n",
       "</div>"
      ],
      "text/plain": [
       "              count unique                         top  freq          mean  \\\n",
       "id           9648.0    NaN                         NaN   NaN  16610.056385   \n",
       "object_name    9648   8669  THE COFFEE BEAN & TEA LEAF    47           NaN   \n",
       "address        9648   8514         3607 TROUSDALE PKWY    11           NaN   \n",
       "chain          9648      2                       False  5972           NaN   \n",
       "object_type    9648      6                  Restaurant  7253           NaN   \n",
       "number       9648.0    NaN                         NaN   NaN     43.703566   \n",
       "\n",
       "                     std      min       25%      50%       75%      max  \n",
       "id           2786.049701  11786.0  14197.75  16609.5  19021.25  21436.0  \n",
       "object_name          NaN      NaN       NaN      NaN       NaN      NaN  \n",
       "address              NaN      NaN       NaN      NaN       NaN      NaN  \n",
       "chain                NaN      NaN       NaN      NaN       NaN      NaN  \n",
       "object_type          NaN      NaN       NaN      NaN       NaN      NaN  \n",
       "number         47.627252      1.0      14.0     27.0      46.0    229.0  "
      ]
     },
     "execution_count": 17,
     "metadata": {},
     "output_type": "execute_result"
    }
   ],
   "source": [
    "# Looking deeper into the data:\n",
    "rest.describe(include='all').T"
   ]
  },
  {
   "cell_type": "markdown",
   "id": "2c695bfa",
   "metadata": {},
   "source": [
    "**A few remarks:**\n",
    "- The most popular object_name is THE COFFEE BEAN & TEA LEAF (47 times)- probably a chain\n",
    "- The most popular adress is: 3607 TROUSDALE PKWY (11 times)\n",
    "- The most popular object_type is a Restaurant (7253 out of 9648= 75.18%)\n",
    "- The average number of seats is 43.70, but with a very wide variance, and a much lower median, so maybe median or mode would be a better measure.\n",
    "- Also, the minimum number of seats is 1- would be good to look into this number and understand where and how many times it is registered.\n"
   ]
  },
  {
   "cell_type": "code",
   "execution_count": 18,
   "id": "8eb2a7a3",
   "metadata": {},
   "outputs": [
    {
     "data": {
      "text/html": [
       "<div>\n",
       "<style scoped>\n",
       "    .dataframe tbody tr th:only-of-type {\n",
       "        vertical-align: middle;\n",
       "    }\n",
       "\n",
       "    .dataframe tbody tr th {\n",
       "        vertical-align: top;\n",
       "    }\n",
       "\n",
       "    .dataframe thead th {\n",
       "        text-align: right;\n",
       "    }\n",
       "</style>\n",
       "<table border=\"1\" class=\"dataframe\">\n",
       "  <thead>\n",
       "    <tr style=\"text-align: right;\">\n",
       "      <th></th>\n",
       "      <th>id</th>\n",
       "      <th>object_name</th>\n",
       "      <th>address</th>\n",
       "      <th>chain</th>\n",
       "      <th>object_type</th>\n",
       "      <th>number</th>\n",
       "    </tr>\n",
       "  </thead>\n",
       "  <tbody>\n",
       "    <tr>\n",
       "      <th>8</th>\n",
       "      <td>11794</td>\n",
       "      <td>ABC DONUTS</td>\n",
       "      <td>3027 N SAN FERNANDO RD UNIT 103</td>\n",
       "      <td>True</td>\n",
       "      <td>Fast Food</td>\n",
       "      <td>1</td>\n",
       "    </tr>\n",
       "    <tr>\n",
       "      <th>35</th>\n",
       "      <td>11821</td>\n",
       "      <td>REGGIE'S DELI &amp; CAFE</td>\n",
       "      <td>1910 W SUNSET BLVD STE 150</td>\n",
       "      <td>True</td>\n",
       "      <td>Restaurant</td>\n",
       "      <td>1</td>\n",
       "    </tr>\n",
       "    <tr>\n",
       "      <th>93</th>\n",
       "      <td>11879</td>\n",
       "      <td>TACOMIENDO</td>\n",
       "      <td>11462 GATEWAY BLVD</td>\n",
       "      <td>False</td>\n",
       "      <td>Fast Food</td>\n",
       "      <td>1</td>\n",
       "    </tr>\n",
       "    <tr>\n",
       "      <th>139</th>\n",
       "      <td>11925</td>\n",
       "      <td>KIKKA SUSHI</td>\n",
       "      <td>308 WESTWOOD PLZ # A233B</td>\n",
       "      <td>True</td>\n",
       "      <td>Restaurant</td>\n",
       "      <td>1</td>\n",
       "    </tr>\n",
       "    <tr>\n",
       "      <th>265</th>\n",
       "      <td>12051</td>\n",
       "      <td>LUCKY STRIKE HOLLYWOOD</td>\n",
       "      <td>6801 HOLLYWOOD BLVD STE #143</td>\n",
       "      <td>False</td>\n",
       "      <td>Restaurant</td>\n",
       "      <td>1</td>\n",
       "    </tr>\n",
       "    <tr>\n",
       "      <th>...</th>\n",
       "      <td>...</td>\n",
       "      <td>...</td>\n",
       "      <td>...</td>\n",
       "      <td>...</td>\n",
       "      <td>...</td>\n",
       "      <td>...</td>\n",
       "    </tr>\n",
       "    <tr>\n",
       "      <th>9562</th>\n",
       "      <td>21348</td>\n",
       "      <td>7-ELEVEN STORE #18778D</td>\n",
       "      <td>7600 W SUNSET BLVD</td>\n",
       "      <td>False</td>\n",
       "      <td>Restaurant</td>\n",
       "      <td>1</td>\n",
       "    </tr>\n",
       "    <tr>\n",
       "      <th>9566</th>\n",
       "      <td>21352</td>\n",
       "      <td>THE BUTLER'S KITCHEN</td>\n",
       "      <td>5616 E BEVERLY BLVD</td>\n",
       "      <td>False</td>\n",
       "      <td>Restaurant</td>\n",
       "      <td>1</td>\n",
       "    </tr>\n",
       "    <tr>\n",
       "      <th>9589</th>\n",
       "      <td>21375</td>\n",
       "      <td>WHITE AND BROWN</td>\n",
       "      <td>603 S MARIPOSA AVE</td>\n",
       "      <td>False</td>\n",
       "      <td>Restaurant</td>\n",
       "      <td>1</td>\n",
       "    </tr>\n",
       "    <tr>\n",
       "      <th>9600</th>\n",
       "      <td>21386</td>\n",
       "      <td>YAKITORI TEN</td>\n",
       "      <td>3470 W 6TH ST STE 2A</td>\n",
       "      <td>False</td>\n",
       "      <td>Restaurant</td>\n",
       "      <td>1</td>\n",
       "    </tr>\n",
       "    <tr>\n",
       "      <th>9610</th>\n",
       "      <td>21396</td>\n",
       "      <td>TERRAZA CAFE COFFEE SHOP</td>\n",
       "      <td>4017 1/2 CITY TERRACE DR</td>\n",
       "      <td>False</td>\n",
       "      <td>Cafe</td>\n",
       "      <td>1</td>\n",
       "    </tr>\n",
       "  </tbody>\n",
       "</table>\n",
       "<p>186 rows × 6 columns</p>\n",
       "</div>"
      ],
      "text/plain": [
       "         id               object_name                          address  chain  \\\n",
       "8     11794                ABC DONUTS  3027 N SAN FERNANDO RD UNIT 103   True   \n",
       "35    11821      REGGIE'S DELI & CAFE       1910 W SUNSET BLVD STE 150   True   \n",
       "93    11879                TACOMIENDO               11462 GATEWAY BLVD  False   \n",
       "139   11925               KIKKA SUSHI         308 WESTWOOD PLZ # A233B   True   \n",
       "265   12051    LUCKY STRIKE HOLLYWOOD     6801 HOLLYWOOD BLVD STE #143  False   \n",
       "...     ...                       ...                              ...    ...   \n",
       "9562  21348    7-ELEVEN STORE #18778D               7600 W SUNSET BLVD  False   \n",
       "9566  21352      THE BUTLER'S KITCHEN              5616 E BEVERLY BLVD  False   \n",
       "9589  21375           WHITE AND BROWN               603 S MARIPOSA AVE  False   \n",
       "9600  21386              YAKITORI TEN             3470 W 6TH ST STE 2A  False   \n",
       "9610  21396  TERRAZA CAFE COFFEE SHOP         4017 1/2 CITY TERRACE DR  False   \n",
       "\n",
       "     object_type  number  \n",
       "8      Fast Food       1  \n",
       "35    Restaurant       1  \n",
       "93     Fast Food       1  \n",
       "139   Restaurant       1  \n",
       "265   Restaurant       1  \n",
       "...          ...     ...  \n",
       "9562  Restaurant       1  \n",
       "9566  Restaurant       1  \n",
       "9589  Restaurant       1  \n",
       "9600  Restaurant       1  \n",
       "9610        Cafe       1  \n",
       "\n",
       "[186 rows x 6 columns]"
      ]
     },
     "execution_count": 18,
     "metadata": {},
     "output_type": "execute_result"
    }
   ],
   "source": [
    "rest[rest['number'] == 1]"
   ]
  },
  {
   "cell_type": "markdown",
   "id": "447a5ae0",
   "metadata": {},
   "source": [
    "There are 186 businesses that allow only one seated customer(maybe a take away place..?), and they are from all types of object_type and chain."
   ]
  },
  {
   "cell_type": "markdown",
   "id": "b93b5d98",
   "metadata": {},
   "source": [
    "## Step 2. Data analysis"
   ]
  },
  {
   "cell_type": "markdown",
   "id": "0e60bb5c",
   "metadata": {},
   "source": [
    "### 2.1. Investigate the proportions of the various types of establishments. Plot a graph."
   ]
  },
  {
   "cell_type": "code",
   "execution_count": 19,
   "id": "99b66ab5",
   "metadata": {},
   "outputs": [
    {
     "data": {
      "text/html": [
       "<div>\n",
       "<style scoped>\n",
       "    .dataframe tbody tr th:only-of-type {\n",
       "        vertical-align: middle;\n",
       "    }\n",
       "\n",
       "    .dataframe tbody tr th {\n",
       "        vertical-align: top;\n",
       "    }\n",
       "\n",
       "    .dataframe thead th {\n",
       "        text-align: right;\n",
       "    }\n",
       "</style>\n",
       "<table border=\"1\" class=\"dataframe\">\n",
       "  <thead>\n",
       "    <tr style=\"text-align: right;\">\n",
       "      <th></th>\n",
       "      <th>object_type</th>\n",
       "      <th>count</th>\n",
       "      <th>percent</th>\n",
       "      <th>cumulative_count</th>\n",
       "      <th>cumulative_percent</th>\n",
       "    </tr>\n",
       "  </thead>\n",
       "  <tbody>\n",
       "    <tr>\n",
       "      <th>0</th>\n",
       "      <td>Restaurant</td>\n",
       "      <td>7253</td>\n",
       "      <td>75.176202</td>\n",
       "      <td>7253</td>\n",
       "      <td>75.176202</td>\n",
       "    </tr>\n",
       "    <tr>\n",
       "      <th>1</th>\n",
       "      <td>Fast Food</td>\n",
       "      <td>1066</td>\n",
       "      <td>11.048922</td>\n",
       "      <td>8319</td>\n",
       "      <td>86.225124</td>\n",
       "    </tr>\n",
       "    <tr>\n",
       "      <th>2</th>\n",
       "      <td>Cafe</td>\n",
       "      <td>435</td>\n",
       "      <td>4.508706</td>\n",
       "      <td>8754</td>\n",
       "      <td>90.733831</td>\n",
       "    </tr>\n",
       "    <tr>\n",
       "      <th>3</th>\n",
       "      <td>Pizza</td>\n",
       "      <td>319</td>\n",
       "      <td>3.306385</td>\n",
       "      <td>9073</td>\n",
       "      <td>94.040216</td>\n",
       "    </tr>\n",
       "    <tr>\n",
       "      <th>4</th>\n",
       "      <td>Bar</td>\n",
       "      <td>292</td>\n",
       "      <td>3.026534</td>\n",
       "      <td>9365</td>\n",
       "      <td>97.066750</td>\n",
       "    </tr>\n",
       "    <tr>\n",
       "      <th>5</th>\n",
       "      <td>Bakery</td>\n",
       "      <td>283</td>\n",
       "      <td>2.933250</td>\n",
       "      <td>9648</td>\n",
       "      <td>100.000000</td>\n",
       "    </tr>\n",
       "  </tbody>\n",
       "</table>\n",
       "</div>"
      ],
      "text/plain": [
       "  object_type  count    percent  cumulative_count  cumulative_percent\n",
       "0  Restaurant   7253  75.176202              7253           75.176202\n",
       "1   Fast Food   1066  11.048922              8319           86.225124\n",
       "2        Cafe    435   4.508706              8754           90.733831\n",
       "3       Pizza    319   3.306385              9073           94.040216\n",
       "4         Bar    292   3.026534              9365           97.066750\n",
       "5      Bakery    283   2.933250              9648          100.000000"
      ]
     },
     "execution_count": 19,
     "metadata": {},
     "output_type": "execute_result"
    }
   ],
   "source": [
    "type_des = rest.stb.freq(['object_type']).sort_values(by='percent', ascending=False)\n",
    "type_des"
   ]
  },
  {
   "cell_type": "code",
   "execution_count": 20,
   "id": "211e3ae7",
   "metadata": {},
   "outputs": [
    {
     "data": {
      "image/png": "[encoded data removed]",
      "text/plain": [
       "<Figure size 1008x720 with 1 Axes>"
      ]
     },
     "metadata": {},
     "output_type": "display_data"
    }
   ],
   "source": [
    "#define data\n",
    "values = type_des['percent']\n",
    "labels = type_des['object_type']\n",
    "\n",
    "#define Seaborn color palette to use\n",
    "colors = sns.color_palette('Set2')[0:6]\n",
    "\n",
    "#create pie chart\n",
    "plt.figure(figsize=(14, 10))\n",
    "plt.pie(values, labels = labels, colors = colors, autopct='%.2f%%')\n",
    "plt.title(\"Proportion of different foodservices in LA\")\n",
    "plt.show();\n"
   ]
  },
  {
   "cell_type": "markdown",
   "id": "77954b24",
   "metadata": {},
   "source": [
    "### 2.2 - Investigate the proportions of chain and nonchain establishments. Plot a graph."
   ]
  },
  {
   "cell_type": "code",
   "execution_count": 21,
   "id": "9e0678db",
   "metadata": {},
   "outputs": [
    {
     "data": {
      "text/html": [
       "<div>\n",
       "<style scoped>\n",
       "    .dataframe tbody tr th:only-of-type {\n",
       "        vertical-align: middle;\n",
       "    }\n",
       "\n",
       "    .dataframe tbody tr th {\n",
       "        vertical-align: top;\n",
       "    }\n",
       "\n",
       "    .dataframe thead th {\n",
       "        text-align: right;\n",
       "    }\n",
       "</style>\n",
       "<table border=\"1\" class=\"dataframe\">\n",
       "  <thead>\n",
       "    <tr style=\"text-align: right;\">\n",
       "      <th></th>\n",
       "      <th>chain</th>\n",
       "      <th>count</th>\n",
       "      <th>percent</th>\n",
       "      <th>cumulative_count</th>\n",
       "      <th>cumulative_percent</th>\n",
       "    </tr>\n",
       "  </thead>\n",
       "  <tbody>\n",
       "    <tr>\n",
       "      <th>0</th>\n",
       "      <td>False</td>\n",
       "      <td>5972</td>\n",
       "      <td>61.898839</td>\n",
       "      <td>5972</td>\n",
       "      <td>61.898839</td>\n",
       "    </tr>\n",
       "    <tr>\n",
       "      <th>1</th>\n",
       "      <td>True</td>\n",
       "      <td>3676</td>\n",
       "      <td>38.101161</td>\n",
       "      <td>9648</td>\n",
       "      <td>100.000000</td>\n",
       "    </tr>\n",
       "  </tbody>\n",
       "</table>\n",
       "</div>"
      ],
      "text/plain": [
       "   chain  count    percent  cumulative_count  cumulative_percent\n",
       "0  False   5972  61.898839              5972           61.898839\n",
       "1   True   3676  38.101161              9648          100.000000"
      ]
     },
     "execution_count": 21,
     "metadata": {},
     "output_type": "execute_result"
    }
   ],
   "source": [
    "type_chain = rest.stb.freq(['chain'])\n",
    "type_chain"
   ]
  },
  {
   "cell_type": "code",
   "execution_count": 22,
   "id": "19ce9e4e",
   "metadata": {},
   "outputs": [
    {
     "data": {
      "image/png": "[encoded data removed]",
      "text/plain": [
       "<Figure size 1008x720 with 1 Axes>"
      ]
     },
     "metadata": {},
     "output_type": "display_data"
    }
   ],
   "source": [
    "#define data\n",
    "values = type_chain['percent']\n",
    "labels = ['Non-chain', 'Chain']\n",
    "\n",
    "#define Seaborn color palette to use\n",
    "colors = sns.color_palette('Set2')\n",
    "\n",
    "#create pie chart\n",
    "plt.figure(figsize=(14, 10))\n",
    "plt.pie(values, labels = labels, colors = colors, autopct='%.2f%%')\n",
    "plt.title(\"Proportion of chain vs. non-chain in LA foodservices\")\n",
    "plt.show();"
   ]
  },
  {
   "cell_type": "markdown",
   "id": "40b83613",
   "metadata": {},
   "source": [
    "### 2.3 - Which type of establishment is typically a chain?\n"
   ]
  },
  {
   "cell_type": "code",
   "execution_count": 23,
   "id": "41c20810",
   "metadata": {},
   "outputs": [
    {
     "data": {
      "text/html": [
       "<div>\n",
       "<style scoped>\n",
       "    .dataframe tbody tr th:only-of-type {\n",
       "        vertical-align: middle;\n",
       "    }\n",
       "\n",
       "    .dataframe tbody tr th {\n",
       "        vertical-align: top;\n",
       "    }\n",
       "\n",
       "    .dataframe thead th {\n",
       "        text-align: right;\n",
       "    }\n",
       "</style>\n",
       "<table border=\"1\" class=\"dataframe\">\n",
       "  <thead>\n",
       "    <tr style=\"text-align: right;\">\n",
       "      <th></th>\n",
       "      <th>object_type</th>\n",
       "      <th>chain</th>\n",
       "      <th>shop_count</th>\n",
       "      <th>chain_percent_type</th>\n",
       "    </tr>\n",
       "  </thead>\n",
       "  <tbody>\n",
       "    <tr>\n",
       "      <th>0</th>\n",
       "      <td>Bakery</td>\n",
       "      <td>False</td>\n",
       "      <td>0</td>\n",
       "      <td>0.0</td>\n",
       "    </tr>\n",
       "    <tr>\n",
       "      <th>1</th>\n",
       "      <td>Bakery</td>\n",
       "      <td>True</td>\n",
       "      <td>283</td>\n",
       "      <td>100.0</td>\n",
       "    </tr>\n",
       "    <tr>\n",
       "      <th>2</th>\n",
       "      <td>Bar</td>\n",
       "      <td>False</td>\n",
       "      <td>215</td>\n",
       "      <td>74.0</td>\n",
       "    </tr>\n",
       "    <tr>\n",
       "      <th>3</th>\n",
       "      <td>Bar</td>\n",
       "      <td>True</td>\n",
       "      <td>77</td>\n",
       "      <td>26.0</td>\n",
       "    </tr>\n",
       "    <tr>\n",
       "      <th>4</th>\n",
       "      <td>Cafe</td>\n",
       "      <td>False</td>\n",
       "      <td>169</td>\n",
       "      <td>39.0</td>\n",
       "    </tr>\n",
       "    <tr>\n",
       "      <th>5</th>\n",
       "      <td>Cafe</td>\n",
       "      <td>True</td>\n",
       "      <td>266</td>\n",
       "      <td>61.0</td>\n",
       "    </tr>\n",
       "    <tr>\n",
       "      <th>6</th>\n",
       "      <td>Fast Food</td>\n",
       "      <td>False</td>\n",
       "      <td>461</td>\n",
       "      <td>43.0</td>\n",
       "    </tr>\n",
       "    <tr>\n",
       "      <th>7</th>\n",
       "      <td>Fast Food</td>\n",
       "      <td>True</td>\n",
       "      <td>605</td>\n",
       "      <td>57.0</td>\n",
       "    </tr>\n",
       "    <tr>\n",
       "      <th>8</th>\n",
       "      <td>Pizza</td>\n",
       "      <td>False</td>\n",
       "      <td>166</td>\n",
       "      <td>52.0</td>\n",
       "    </tr>\n",
       "    <tr>\n",
       "      <th>9</th>\n",
       "      <td>Pizza</td>\n",
       "      <td>True</td>\n",
       "      <td>153</td>\n",
       "      <td>48.0</td>\n",
       "    </tr>\n",
       "    <tr>\n",
       "      <th>10</th>\n",
       "      <td>Restaurant</td>\n",
       "      <td>False</td>\n",
       "      <td>4961</td>\n",
       "      <td>68.0</td>\n",
       "    </tr>\n",
       "    <tr>\n",
       "      <th>11</th>\n",
       "      <td>Restaurant</td>\n",
       "      <td>True</td>\n",
       "      <td>2292</td>\n",
       "      <td>32.0</td>\n",
       "    </tr>\n",
       "  </tbody>\n",
       "</table>\n",
       "</div>"
      ],
      "text/plain": [
       "   object_type  chain  shop_count  chain_percent_type\n",
       "0       Bakery  False           0                 0.0\n",
       "1       Bakery   True         283               100.0\n",
       "2          Bar  False         215                74.0\n",
       "3          Bar   True          77                26.0\n",
       "4         Cafe  False         169                39.0\n",
       "5         Cafe   True         266                61.0\n",
       "6    Fast Food  False         461                43.0\n",
       "7    Fast Food   True         605                57.0\n",
       "8        Pizza  False         166                52.0\n",
       "9        Pizza   True         153                48.0\n",
       "10  Restaurant  False        4961                68.0\n",
       "11  Restaurant   True        2292                32.0"
      ]
     },
     "execution_count": 23,
     "metadata": {},
     "output_type": "execute_result"
    }
   ],
   "source": [
    "# creating dataset:\n",
    "chain_p_type = rest.groupby(['object_type', 'chain'])['chain'].agg(['count']).reset_index()\n",
    "chain_p_type= chain_p_type.rename(columns={\"count\": \"shop_count\"})\n",
    "\n",
    "# creating a percent column:\n",
    "chain_p_type['chain_percent_type'] = 100* (round(chain_p_type['shop_count']/ chain_p_type.groupby('object_type')['shop_count'].transform('sum'), 2))\n",
    "chain_p_type\n"
   ]
  },
  {
   "cell_type": "code",
   "execution_count": 24,
   "id": "92d33315",
   "metadata": {},
   "outputs": [
    {
     "data": {
      "image/png": "[encoded data removed]"
     },
     "metadata": {},
     "output_type": "display_data"
    }
   ],
   "source": [
    "# creating a stacked bar graph of the number of chains per foodservice type:\n",
    "fig = px.bar(chain_p_type, x=\"object_type\", y=\"chain_percent_type\", color=\"chain\", \n",
    "             # text_auto=True, ## COMMENTEED BY REVIEWER\n",
    "             title= \"Stacked bar of amount and percentage of chains(=red) per foodservice type\",\n",
    "             hover_data=['shop_count'])\n",
    "fig.show(\"png\");\n"
   ]
  },
  {
   "cell_type": "markdown",
   "id": "197017c1",
   "metadata": {},
   "source": [
    "**Summary: Which type of establishment is typically a chain?**\n",
    "- Although the vast magority of establishments are restaurants, only 32% of them are part of a chain. \n",
    "- Cafe shops, however, as well as Fast food joints, are more often part of a chain (61% and 57%, respectively).\n",
    "- All bakeries registered in LA (283) belong to chains.\n",
    "- Bars and Pizza joints had a higher frequency of non-chain establishment (74% and 52% non chains, respectively)."
   ]
  },
  {
   "cell_type": "markdown",
   "id": "91d1fa4f",
   "metadata": {},
   "source": [
    "### 2.4 What characterizes chains: many establishments with a small number of seats or a few establishments with a lot of seats?"
   ]
  },
  {
   "cell_type": "code",
   "execution_count": 25,
   "id": "b2080555",
   "metadata": {},
   "outputs": [
    {
     "data": {
      "image/png": "[encoded data removed]"
     },
     "metadata": {},
     "output_type": "display_data"
    }
   ],
   "source": [
    "# histograms of the number of seats in establishments, according to if it is/not part of a chain:\n",
    "fig= px.histogram(rest, x='number', color='chain', nbins=40, title='The number of seats in food service places by being/not part of a chain')\n",
    "fig.update_layout(\n",
    "    xaxis_title=\"Number of seats (in groups of 10)\",\n",
    "    yaxis_title=\"Frequency\",\n",
    "    legend_title=\"Is it a chain?\")\n",
    "fig.show(\"png\");"
   ]
  },
  {
   "cell_type": "code",
   "execution_count": 26,
   "id": "efd5c71e",
   "metadata": {},
   "outputs": [
    {
     "name": "stdout",
     "output_type": "stream",
     "text": [
      "The average number of seats according to chain/ non-chain businesses:\n"
     ]
    },
    {
     "data": {
      "text/plain": [
       "chain\n",
       "False    46.171467\n",
       "True     39.694233\n",
       "Name: number, dtype: float64"
      ]
     },
     "execution_count": 26,
     "metadata": {},
     "output_type": "execute_result"
    },
    {
     "name": "stdout",
     "output_type": "stream",
     "text": [
      "\n",
      "The median of the number of seats according to chain/ non-chain businesses:\n"
     ]
    },
    {
     "data": {
      "text/plain": [
       "chain\n",
       "False    28.0\n",
       "True     25.0\n",
       "Name: number, dtype: float64"
      ]
     },
     "execution_count": 26,
     "metadata": {},
     "output_type": "execute_result"
    }
   ],
   "source": [
    "# calculating general mean and median:\n",
    "print(\"The average number of seats according to chain/ non-chain businesses:\")\n",
    "rest.groupby('chain')['number'].mean()\n",
    "print()\n",
    "print(\"The median of the number of seats according to chain/ non-chain businesses:\")\n",
    "rest.groupby('chain')['number'].median()"
   ]
  },
  {
   "cell_type": "markdown",
   "id": "2d5ca262",
   "metadata": {},
   "source": [
    "**- The histogram and calculations shows that foodservices that are part of chains tend to offer LESS seating options to their customers, compared to non-chains.** \n",
    "- For example, in the category of businesses that offer between 10-19 seats, there are 1121 non-chain businesses and only 767 chain businesses. \n"
   ]
  },
  {
   "cell_type": "code",
   "execution_count": 27,
   "id": "fd84fb0a",
   "metadata": {},
   "outputs": [
    {
     "data": {
      "text/html": [
       "<div>\n",
       "<style scoped>\n",
       "    .dataframe tbody tr th:only-of-type {\n",
       "        vertical-align: middle;\n",
       "    }\n",
       "\n",
       "    .dataframe tbody tr th {\n",
       "        vertical-align: top;\n",
       "    }\n",
       "\n",
       "    .dataframe thead th {\n",
       "        text-align: right;\n",
       "    }\n",
       "</style>\n",
       "<table border=\"1\" class=\"dataframe\">\n",
       "  <thead>\n",
       "    <tr style=\"text-align: right;\">\n",
       "      <th></th>\n",
       "      <th>chain</th>\n",
       "      <th>est_num</th>\n",
       "    </tr>\n",
       "  </thead>\n",
       "  <tbody>\n",
       "    <tr>\n",
       "      <th>0</th>\n",
       "      <td>False</td>\n",
       "      <td>5972</td>\n",
       "    </tr>\n",
       "    <tr>\n",
       "      <th>1</th>\n",
       "      <td>True</td>\n",
       "      <td>3676</td>\n",
       "    </tr>\n",
       "  </tbody>\n",
       "</table>\n",
       "</div>"
      ],
      "text/plain": [
       "   chain  est_num\n",
       "0  False     5972\n",
       "1   True     3676"
      ]
     },
     "execution_count": 27,
     "metadata": {},
     "output_type": "execute_result"
    }
   ],
   "source": [
    "id_b_chain=rest.groupby('chain')['id'].count().reset_index().rename(columns={\"id\": \"est_num\"})\n",
    "id_b_chain"
   ]
  },
  {
   "cell_type": "code",
   "execution_count": 28,
   "id": "127b5331",
   "metadata": {},
   "outputs": [
    {
     "data": {
      "image/png": "[encoded data removed]"
     },
     "metadata": {},
     "output_type": "display_data"
    }
   ],
   "source": [
    "# histograms of the number of seats in establishments, according to if it is/not part of a chain:\n",
    "fig= px.bar(id_b_chain, x='chain', y='est_num',\n",
    "            title='The number of chain and non-chain food service places',\n",
    "           color='chain')\n",
    "fig.update_layout(\n",
    "    xaxis_title=\"Is it a chain?\",\n",
    "    yaxis_title=\"Number of foodservice businesses\",\n",
    "    legend_title=\"Is it a chain?\")\n",
    "\n",
    "fig.show(\"png\");\n"
   ]
  },
  {
   "cell_type": "markdown",
   "id": "03e22fe7",
   "metadata": {},
   "source": [
    "**Summary- Chain foodservice businesses tend to have less shops in LA (3676) and to offer less seating optiona, compared with businesses that were not part of a chain. (yet, i haven't checked for statistical significance)** "
   ]
  },
  {
   "cell_type": "code",
   "execution_count": 29,
   "id": "9ec69d4b",
   "metadata": {},
   "outputs": [
    {
     "data": {
      "text/html": [
       "<div>\n",
       "<style scoped>\n",
       "    .dataframe tbody tr th:only-of-type {\n",
       "        vertical-align: middle;\n",
       "    }\n",
       "\n",
       "    .dataframe tbody tr th {\n",
       "        vertical-align: top;\n",
       "    }\n",
       "\n",
       "    .dataframe thead th {\n",
       "        text-align: right;\n",
       "    }\n",
       "</style>\n",
       "<table border=\"1\" class=\"dataframe\">\n",
       "  <thead>\n",
       "    <tr style=\"text-align: right;\">\n",
       "      <th></th>\n",
       "      <th>object_name</th>\n",
       "      <th>object_type</th>\n",
       "      <th>number</th>\n",
       "      <th>id</th>\n",
       "      <th>clean_name</th>\n",
       "    </tr>\n",
       "  </thead>\n",
       "  <tbody>\n",
       "    <tr>\n",
       "      <th>8</th>\n",
       "      <td>ABC DONUTS</td>\n",
       "      <td>Fast Food</td>\n",
       "      <td>1</td>\n",
       "      <td>11794</td>\n",
       "      <td>ABC DONUTS</td>\n",
       "    </tr>\n",
       "    <tr>\n",
       "      <th>10</th>\n",
       "      <td>EL POLLO LOCO</td>\n",
       "      <td>Restaurant</td>\n",
       "      <td>38</td>\n",
       "      <td>11796</td>\n",
       "      <td>EL POLLO LOCO</td>\n",
       "    </tr>\n",
       "    <tr>\n",
       "      <th>11</th>\n",
       "      <td>POONG NYUN BAKERY</td>\n",
       "      <td>Bakery</td>\n",
       "      <td>17</td>\n",
       "      <td>11797</td>\n",
       "      <td>POONG NYUN BAKERY</td>\n",
       "    </tr>\n",
       "  </tbody>\n",
       "</table>\n",
       "</div>"
      ],
      "text/plain": [
       "          object_name object_type  number     id         clean_name\n",
       "8          ABC DONUTS   Fast Food       1  11794         ABC DONUTS\n",
       "10      EL POLLO LOCO  Restaurant      38  11796      EL POLLO LOCO\n",
       "11  POONG NYUN BAKERY      Bakery      17  11797  POONG NYUN BAKERY"
      ]
     },
     "execution_count": 29,
     "metadata": {},
     "output_type": "execute_result"
    }
   ],
   "source": [
    "# A reminder of the relevant subset of data:\n",
    "chains.head(3)"
   ]
  },
  {
   "cell_type": "code",
   "execution_count": 30,
   "id": "099ba67c",
   "metadata": {},
   "outputs": [],
   "source": [
    "# calculating the number of shops per chain and average seats:\n",
    "chains_scatter = chains[['clean_name', 'number', 'id']].groupby('clean_name').agg({'id':'count', 'number':'mean'}).reset_index()\n",
    "chains_scatter = chains_scatter.rename(columns={'id':'shops_per_chain', 'number': 'seats_avg'})"
   ]
  },
  {
   "cell_type": "code",
   "execution_count": 31,
   "id": "8a3bd851",
   "metadata": {},
   "outputs": [
    {
     "data": {
      "text/html": [
       "<div>\n",
       "<style scoped>\n",
       "    .dataframe tbody tr th:only-of-type {\n",
       "        vertical-align: middle;\n",
       "    }\n",
       "\n",
       "    .dataframe tbody tr th {\n",
       "        vertical-align: top;\n",
       "    }\n",
       "\n",
       "    .dataframe thead th {\n",
       "        text-align: right;\n",
       "    }\n",
       "</style>\n",
       "<table border=\"1\" class=\"dataframe\">\n",
       "  <thead>\n",
       "    <tr style=\"text-align: right;\">\n",
       "      <th></th>\n",
       "      <th>clean_name</th>\n",
       "      <th>shops_per_chain</th>\n",
       "      <th>seats_avg</th>\n",
       "    </tr>\n",
       "  </thead>\n",
       "  <tbody>\n",
       "    <tr>\n",
       "      <th>1376</th>\n",
       "      <td>PANDA EXPRESS</td>\n",
       "      <td>23</td>\n",
       "      <td>36.043478</td>\n",
       "    </tr>\n",
       "  </tbody>\n",
       "</table>\n",
       "</div>"
      ],
      "text/plain": [
       "         clean_name  shops_per_chain  seats_avg\n",
       "1376  PANDA EXPRESS               23  36.043478"
      ]
     },
     "execution_count": 31,
     "metadata": {},
     "output_type": "execute_result"
    }
   ],
   "source": [
    "# checking if it worked:\n",
    "chains_scatter.query('clean_name == \"PANDA EXPRESS\"')"
   ]
  },
  {
   "cell_type": "code",
   "execution_count": 32,
   "id": "a715f726",
   "metadata": {},
   "outputs": [
    {
     "data": {
      "text/html": [
       "<div>\n",
       "<style scoped>\n",
       "    .dataframe tbody tr th:only-of-type {\n",
       "        vertical-align: middle;\n",
       "    }\n",
       "\n",
       "    .dataframe tbody tr th {\n",
       "        vertical-align: top;\n",
       "    }\n",
       "\n",
       "    .dataframe thead th {\n",
       "        text-align: right;\n",
       "    }\n",
       "</style>\n",
       "<table border=\"1\" class=\"dataframe\">\n",
       "  <thead>\n",
       "    <tr style=\"text-align: right;\">\n",
       "      <th></th>\n",
       "      <th>clean_name</th>\n",
       "      <th>shops_per_chain</th>\n",
       "      <th>seats_avg</th>\n",
       "    </tr>\n",
       "  </thead>\n",
       "  <tbody>\n",
       "    <tr>\n",
       "      <th>0</th>\n",
       "      <td>#1 CHINESE FAST FOOD</td>\n",
       "      <td>1</td>\n",
       "      <td>6.0</td>\n",
       "    </tr>\n",
       "    <tr>\n",
       "      <th>1</th>\n",
       "      <td>1810 RESTAURANT</td>\n",
       "      <td>1</td>\n",
       "      <td>45.0</td>\n",
       "    </tr>\n",
       "    <tr>\n",
       "      <th>2</th>\n",
       "      <td>333</td>\n",
       "      <td>1</td>\n",
       "      <td>180.0</td>\n",
       "    </tr>\n",
       "    <tr>\n",
       "      <th>3</th>\n",
       "      <td>3RD ST MARKETDELI</td>\n",
       "      <td>1</td>\n",
       "      <td>7.0</td>\n",
       "    </tr>\n",
       "    <tr>\n",
       "      <th>4</th>\n",
       "      <td>4 CAMINOS RESTAURANT</td>\n",
       "      <td>1</td>\n",
       "      <td>18.0</td>\n",
       "    </tr>\n",
       "    <tr>\n",
       "      <th>5</th>\n",
       "      <td>5 LINE RESTAURANT</td>\n",
       "      <td>1</td>\n",
       "      <td>41.0</td>\n",
       "    </tr>\n",
       "    <tr>\n",
       "      <th>6</th>\n",
       "      <td>5684 YORK RESTAURANT</td>\n",
       "      <td>1</td>\n",
       "      <td>115.0</td>\n",
       "    </tr>\n",
       "    <tr>\n",
       "      <th>7</th>\n",
       "      <td>85 C BAKERY CAFE</td>\n",
       "      <td>1</td>\n",
       "      <td>45.0</td>\n",
       "    </tr>\n",
       "    <tr>\n",
       "      <th>8</th>\n",
       "      <td>85 CELSIUS BAKERY CAFE</td>\n",
       "      <td>1</td>\n",
       "      <td>37.0</td>\n",
       "    </tr>\n",
       "    <tr>\n",
       "      <th>9</th>\n",
       "      <td>A MI JAPANESE RESTAURANT</td>\n",
       "      <td>1</td>\n",
       "      <td>204.0</td>\n",
       "    </tr>\n",
       "    <tr>\n",
       "      <th>10</th>\n",
       "      <td>A WON JAPANASE RESTAURANT</td>\n",
       "      <td>1</td>\n",
       "      <td>105.0</td>\n",
       "    </tr>\n",
       "    <tr>\n",
       "      <th>11</th>\n",
       "      <td>A WON JAPANESE RESTAURANT</td>\n",
       "      <td>1</td>\n",
       "      <td>97.0</td>\n",
       "    </tr>\n",
       "    <tr>\n",
       "      <th>12</th>\n",
       "      <td>A-1 BBQ AND FOOD TO GO</td>\n",
       "      <td>1</td>\n",
       "      <td>3.0</td>\n",
       "    </tr>\n",
       "    <tr>\n",
       "      <th>13</th>\n",
       "      <td>AA CHINESE EXPRESS FAST FOOD</td>\n",
       "      <td>1</td>\n",
       "      <td>15.0</td>\n",
       "    </tr>\n",
       "    <tr>\n",
       "      <th>14</th>\n",
       "      <td>ABC CHINESE FOOD</td>\n",
       "      <td>1</td>\n",
       "      <td>13.0</td>\n",
       "    </tr>\n",
       "    <tr>\n",
       "      <th>15</th>\n",
       "      <td>ABC DONUTS</td>\n",
       "      <td>2</td>\n",
       "      <td>11.0</td>\n",
       "    </tr>\n",
       "    <tr>\n",
       "      <th>16</th>\n",
       "      <td>ABC EXPRESS CHINESE FOOD</td>\n",
       "      <td>1</td>\n",
       "      <td>15.0</td>\n",
       "    </tr>\n",
       "    <tr>\n",
       "      <th>17</th>\n",
       "      <td>ABC RESTAURANT</td>\n",
       "      <td>1</td>\n",
       "      <td>159.0</td>\n",
       "    </tr>\n",
       "    <tr>\n",
       "      <th>18</th>\n",
       "      <td>ACA GRILL</td>\n",
       "      <td>2</td>\n",
       "      <td>71.5</td>\n",
       "    </tr>\n",
       "    <tr>\n",
       "      <th>19</th>\n",
       "      <td>ACAPULCO RESTAURANT</td>\n",
       "      <td>1</td>\n",
       "      <td>211.0</td>\n",
       "    </tr>\n",
       "    <tr>\n",
       "      <th>20</th>\n",
       "      <td>ACHA'S BAKERY</td>\n",
       "      <td>1</td>\n",
       "      <td>12.0</td>\n",
       "    </tr>\n",
       "    <tr>\n",
       "      <th>21</th>\n",
       "      <td>ADAMS LAS RANAS CAFE RESTAURANT</td>\n",
       "      <td>1</td>\n",
       "      <td>35.0</td>\n",
       "    </tr>\n",
       "    <tr>\n",
       "      <th>22</th>\n",
       "      <td>ADDY'S BAKERY</td>\n",
       "      <td>1</td>\n",
       "      <td>11.0</td>\n",
       "    </tr>\n",
       "    <tr>\n",
       "      <th>23</th>\n",
       "      <td>ADVANCE FOOD MARKET</td>\n",
       "      <td>1</td>\n",
       "      <td>5.0</td>\n",
       "    </tr>\n",
       "    <tr>\n",
       "      <th>24</th>\n",
       "      <td>AHIMAHI FISH GRILL</td>\n",
       "      <td>1</td>\n",
       "      <td>2.0</td>\n",
       "    </tr>\n",
       "    <tr>\n",
       "      <th>25</th>\n",
       "      <td>AKI RESTAURANT</td>\n",
       "      <td>1</td>\n",
       "      <td>122.0</td>\n",
       "    </tr>\n",
       "    <tr>\n",
       "      <th>26</th>\n",
       "      <td>AL AND BEAS RESTAURANT</td>\n",
       "      <td>1</td>\n",
       "      <td>15.0</td>\n",
       "    </tr>\n",
       "    <tr>\n",
       "      <th>27</th>\n",
       "      <td>ALANA'S COFFEE ROASTING</td>\n",
       "      <td>1</td>\n",
       "      <td>12.0</td>\n",
       "    </tr>\n",
       "    <tr>\n",
       "      <th>28</th>\n",
       "      <td>ALASKA SEAFOOD RESTAURANT</td>\n",
       "      <td>1</td>\n",
       "      <td>115.0</td>\n",
       "    </tr>\n",
       "    <tr>\n",
       "      <th>29</th>\n",
       "      <td>ALCOVE CAFEBAKERY</td>\n",
       "      <td>1</td>\n",
       "      <td>41.0</td>\n",
       "    </tr>\n",
       "    <tr>\n",
       "      <th>30</th>\n",
       "      <td>ALDEWANIA RESTAURANT</td>\n",
       "      <td>1</td>\n",
       "      <td>42.0</td>\n",
       "    </tr>\n",
       "    <tr>\n",
       "      <th>31</th>\n",
       "      <td>ALEJANDRA'S BAKERY</td>\n",
       "      <td>1</td>\n",
       "      <td>16.0</td>\n",
       "    </tr>\n",
       "    <tr>\n",
       "      <th>32</th>\n",
       "      <td>ALVAREZ BAKERY</td>\n",
       "      <td>1</td>\n",
       "      <td>3.0</td>\n",
       "    </tr>\n",
       "    <tr>\n",
       "      <th>33</th>\n",
       "      <td>AMALIA'S RESTAURANT</td>\n",
       "      <td>1</td>\n",
       "      <td>64.0</td>\n",
       "    </tr>\n",
       "    <tr>\n",
       "      <th>34</th>\n",
       "      <td>AMALIA'S RESTAURANTS</td>\n",
       "      <td>1</td>\n",
       "      <td>105.0</td>\n",
       "    </tr>\n",
       "    <tr>\n",
       "      <th>35</th>\n",
       "      <td>AMAPOLA DELIMARKET</td>\n",
       "      <td>1</td>\n",
       "      <td>21.0</td>\n",
       "    </tr>\n",
       "    <tr>\n",
       "      <th>36</th>\n",
       "      <td>AMAR DESH INDIAN RESTAURANT</td>\n",
       "      <td>1</td>\n",
       "      <td>14.0</td>\n",
       "    </tr>\n",
       "    <tr>\n",
       "      <th>37</th>\n",
       "      <td>AMERICAN DELI</td>\n",
       "      <td>1</td>\n",
       "      <td>12.0</td>\n",
       "    </tr>\n",
       "    <tr>\n",
       "      <th>38</th>\n",
       "      <td>AMERICAN RANCHSEAFOOD MKT OF LA</td>\n",
       "      <td>1</td>\n",
       "      <td>46.0</td>\n",
       "    </tr>\n",
       "    <tr>\n",
       "      <th>39</th>\n",
       "      <td>AMY'S BAKERY</td>\n",
       "      <td>1</td>\n",
       "      <td>1.0</td>\n",
       "    </tr>\n",
       "    <tr>\n",
       "      <th>40</th>\n",
       "      <td>AN DONG GOOK SI</td>\n",
       "      <td>1</td>\n",
       "      <td>7.0</td>\n",
       "    </tr>\n",
       "    <tr>\n",
       "      <th>41</th>\n",
       "      <td>AN DONG KOOK SI</td>\n",
       "      <td>1</td>\n",
       "      <td>29.0</td>\n",
       "    </tr>\n",
       "    <tr>\n",
       "      <th>42</th>\n",
       "      <td>ANAR INDIAN RESTAURANT</td>\n",
       "      <td>1</td>\n",
       "      <td>36.0</td>\n",
       "    </tr>\n",
       "    <tr>\n",
       "      <th>43</th>\n",
       "      <td>ANARBAGH RESTAURANT</td>\n",
       "      <td>1</td>\n",
       "      <td>13.0</td>\n",
       "    </tr>\n",
       "    <tr>\n",
       "      <th>44</th>\n",
       "      <td>ANDANTE COFFEE ROASTERS</td>\n",
       "      <td>1</td>\n",
       "      <td>4.0</td>\n",
       "    </tr>\n",
       "    <tr>\n",
       "      <th>45</th>\n",
       "      <td>ANDANTE COFFEE ROASTERS, INC</td>\n",
       "      <td>1</td>\n",
       "      <td>24.0</td>\n",
       "    </tr>\n",
       "    <tr>\n",
       "      <th>46</th>\n",
       "      <td>ANDERS JUICE BAR</td>\n",
       "      <td>1</td>\n",
       "      <td>16.0</td>\n",
       "    </tr>\n",
       "    <tr>\n",
       "      <th>47</th>\n",
       "      <td>ANDY'S BAKERY</td>\n",
       "      <td>1</td>\n",
       "      <td>2.0</td>\n",
       "    </tr>\n",
       "    <tr>\n",
       "      <th>48</th>\n",
       "      <td>ANGEL BAKERY</td>\n",
       "      <td>1</td>\n",
       "      <td>25.0</td>\n",
       "    </tr>\n",
       "    <tr>\n",
       "      <th>49</th>\n",
       "      <td>ANGEL CITY BAKERY COMPANY</td>\n",
       "      <td>1</td>\n",
       "      <td>28.0</td>\n",
       "    </tr>\n",
       "    <tr>\n",
       "      <th>50</th>\n",
       "      <td>ANGEL FOOD DONUT</td>\n",
       "      <td>1</td>\n",
       "      <td>26.0</td>\n",
       "    </tr>\n",
       "    <tr>\n",
       "      <th>51</th>\n",
       "      <td>ANGEL MAID BAKERY</td>\n",
       "      <td>1</td>\n",
       "      <td>24.0</td>\n",
       "    </tr>\n",
       "    <tr>\n",
       "      <th>52</th>\n",
       "      <td>ANGEL'S JUICE BAR</td>\n",
       "      <td>1</td>\n",
       "      <td>10.0</td>\n",
       "    </tr>\n",
       "    <tr>\n",
       "      <th>53</th>\n",
       "      <td>ANGELES BAKERY</td>\n",
       "      <td>2</td>\n",
       "      <td>17.0</td>\n",
       "    </tr>\n",
       "    <tr>\n",
       "      <th>54</th>\n",
       "      <td>ANGELICA'S BAKERY</td>\n",
       "      <td>1</td>\n",
       "      <td>1.0</td>\n",
       "    </tr>\n",
       "    <tr>\n",
       "      <th>55</th>\n",
       "      <td>ANGELINI ALIMENTARI</td>\n",
       "      <td>2</td>\n",
       "      <td>20.0</td>\n",
       "    </tr>\n",
       "    <tr>\n",
       "      <th>56</th>\n",
       "      <td>ANGELO'S BAKERY</td>\n",
       "      <td>1</td>\n",
       "      <td>3.0</td>\n",
       "    </tr>\n",
       "    <tr>\n",
       "      <th>57</th>\n",
       "      <td>ANGELO'S BAKERYFOOD</td>\n",
       "      <td>1</td>\n",
       "      <td>20.0</td>\n",
       "    </tr>\n",
       "    <tr>\n",
       "      <th>58</th>\n",
       "      <td>ANNIES BAKERY CAFE</td>\n",
       "      <td>1</td>\n",
       "      <td>21.0</td>\n",
       "    </tr>\n",
       "    <tr>\n",
       "      <th>59</th>\n",
       "      <td>ANTIGUA BREAD</td>\n",
       "      <td>2</td>\n",
       "      <td>23.5</td>\n",
       "    </tr>\n",
       "  </tbody>\n",
       "</table>\n",
       "</div>"
      ],
      "text/plain": [
       "                         clean_name  shops_per_chain  seats_avg\n",
       "0              #1 CHINESE FAST FOOD                1        6.0\n",
       "1                   1810 RESTAURANT                1       45.0\n",
       "2                               333                1      180.0\n",
       "3                 3RD ST MARKETDELI                1        7.0\n",
       "4              4 CAMINOS RESTAURANT                1       18.0\n",
       "5                 5 LINE RESTAURANT                1       41.0\n",
       "6              5684 YORK RESTAURANT                1      115.0\n",
       "7                  85 C BAKERY CAFE                1       45.0\n",
       "8            85 CELSIUS BAKERY CAFE                1       37.0\n",
       "9          A MI JAPANESE RESTAURANT                1      204.0\n",
       "10        A WON JAPANASE RESTAURANT                1      105.0\n",
       "11        A WON JAPANESE RESTAURANT                1       97.0\n",
       "12           A-1 BBQ AND FOOD TO GO                1        3.0\n",
       "13     AA CHINESE EXPRESS FAST FOOD                1       15.0\n",
       "14                 ABC CHINESE FOOD                1       13.0\n",
       "15                       ABC DONUTS                2       11.0\n",
       "16         ABC EXPRESS CHINESE FOOD                1       15.0\n",
       "17                   ABC RESTAURANT                1      159.0\n",
       "18                        ACA GRILL                2       71.5\n",
       "19              ACAPULCO RESTAURANT                1      211.0\n",
       "20                    ACHA'S BAKERY                1       12.0\n",
       "21  ADAMS LAS RANAS CAFE RESTAURANT                1       35.0\n",
       "22                    ADDY'S BAKERY                1       11.0\n",
       "23              ADVANCE FOOD MARKET                1        5.0\n",
       "24               AHIMAHI FISH GRILL                1        2.0\n",
       "25                   AKI RESTAURANT                1      122.0\n",
       "26           AL AND BEAS RESTAURANT                1       15.0\n",
       "27          ALANA'S COFFEE ROASTING                1       12.0\n",
       "28        ALASKA SEAFOOD RESTAURANT                1      115.0\n",
       "29                ALCOVE CAFEBAKERY                1       41.0\n",
       "30             ALDEWANIA RESTAURANT                1       42.0\n",
       "31               ALEJANDRA'S BAKERY                1       16.0\n",
       "32                   ALVAREZ BAKERY                1        3.0\n",
       "33              AMALIA'S RESTAURANT                1       64.0\n",
       "34             AMALIA'S RESTAURANTS                1      105.0\n",
       "35               AMAPOLA DELIMARKET                1       21.0\n",
       "36      AMAR DESH INDIAN RESTAURANT                1       14.0\n",
       "37                    AMERICAN DELI                1       12.0\n",
       "38  AMERICAN RANCHSEAFOOD MKT OF LA                1       46.0\n",
       "39                     AMY'S BAKERY                1        1.0\n",
       "40                  AN DONG GOOK SI                1        7.0\n",
       "41                  AN DONG KOOK SI                1       29.0\n",
       "42           ANAR INDIAN RESTAURANT                1       36.0\n",
       "43              ANARBAGH RESTAURANT                1       13.0\n",
       "44          ANDANTE COFFEE ROASTERS                1        4.0\n",
       "45     ANDANTE COFFEE ROASTERS, INC                1       24.0\n",
       "46                 ANDERS JUICE BAR                1       16.0\n",
       "47                    ANDY'S BAKERY                1        2.0\n",
       "48                     ANGEL BAKERY                1       25.0\n",
       "49        ANGEL CITY BAKERY COMPANY                1       28.0\n",
       "50                 ANGEL FOOD DONUT                1       26.0\n",
       "51                ANGEL MAID BAKERY                1       24.0\n",
       "52                ANGEL'S JUICE BAR                1       10.0\n",
       "53                   ANGELES BAKERY                2       17.0\n",
       "54                ANGELICA'S BAKERY                1        1.0\n",
       "55              ANGELINI ALIMENTARI                2       20.0\n",
       "56                  ANGELO'S BAKERY                1        3.0\n",
       "57              ANGELO'S BAKERYFOOD                1       20.0\n",
       "58               ANNIES BAKERY CAFE                1       21.0\n",
       "59                    ANTIGUA BREAD                2       23.5"
      ]
     },
     "execution_count": 32,
     "metadata": {},
     "output_type": "execute_result"
    },
    {
     "data": {
      "text/html": [
       "<div>\n",
       "<style scoped>\n",
       "    .dataframe tbody tr th:only-of-type {\n",
       "        vertical-align: middle;\n",
       "    }\n",
       "\n",
       "    .dataframe tbody tr th {\n",
       "        vertical-align: top;\n",
       "    }\n",
       "\n",
       "    .dataframe thead th {\n",
       "        text-align: right;\n",
       "    }\n",
       "</style>\n",
       "<table border=\"1\" class=\"dataframe\">\n",
       "  <thead>\n",
       "    <tr style=\"text-align: right;\">\n",
       "      <th></th>\n",
       "      <th>clean_name</th>\n",
       "      <th>shops_per_chain</th>\n",
       "      <th>seats_avg</th>\n",
       "    </tr>\n",
       "  </thead>\n",
       "  <tbody>\n",
       "    <tr>\n",
       "      <th>2011</th>\n",
       "      <td>WOO REE RESTAURANT</td>\n",
       "      <td>1</td>\n",
       "      <td>14.000000</td>\n",
       "    </tr>\n",
       "    <tr>\n",
       "      <th>2012</th>\n",
       "      <td>WOOL UM MA RESTAURANT</td>\n",
       "      <td>1</td>\n",
       "      <td>27.000000</td>\n",
       "    </tr>\n",
       "    <tr>\n",
       "      <th>2013</th>\n",
       "      <td>WORLD SEAFOOD</td>\n",
       "      <td>1</td>\n",
       "      <td>29.000000</td>\n",
       "    </tr>\n",
       "    <tr>\n",
       "      <th>2014</th>\n",
       "      <td>WOW BOWL RESTAURANT</td>\n",
       "      <td>1</td>\n",
       "      <td>43.000000</td>\n",
       "    </tr>\n",
       "    <tr>\n",
       "      <th>2015</th>\n",
       "      <td>XIAOYAO INC</td>\n",
       "      <td>1</td>\n",
       "      <td>43.000000</td>\n",
       "    </tr>\n",
       "    <tr>\n",
       "      <th>2016</th>\n",
       "      <td>YABU RESTAURANT</td>\n",
       "      <td>1</td>\n",
       "      <td>33.000000</td>\n",
       "    </tr>\n",
       "    <tr>\n",
       "      <th>2017</th>\n",
       "      <td>YAI THAI FOOD</td>\n",
       "      <td>1</td>\n",
       "      <td>22.000000</td>\n",
       "    </tr>\n",
       "    <tr>\n",
       "      <th>2018</th>\n",
       "      <td>YAKI CAFE</td>\n",
       "      <td>2</td>\n",
       "      <td>10.000000</td>\n",
       "    </tr>\n",
       "    <tr>\n",
       "      <th>2019</th>\n",
       "      <td>YAMAKASE</td>\n",
       "      <td>3</td>\n",
       "      <td>12.333333</td>\n",
       "    </tr>\n",
       "    <tr>\n",
       "      <th>2020</th>\n",
       "      <td>YAMATO RESTAURANT</td>\n",
       "      <td>1</td>\n",
       "      <td>177.000000</td>\n",
       "    </tr>\n",
       "    <tr>\n",
       "      <th>2021</th>\n",
       "      <td>YANG CHOW RESTAURANT</td>\n",
       "      <td>1</td>\n",
       "      <td>72.000000</td>\n",
       "    </tr>\n",
       "    <tr>\n",
       "      <th>2022</th>\n",
       "      <td>YANUSA SUSHI RESTAURANT</td>\n",
       "      <td>1</td>\n",
       "      <td>23.000000</td>\n",
       "    </tr>\n",
       "    <tr>\n",
       "      <th>2023</th>\n",
       "      <td>YEE'S CHINESE FOOD</td>\n",
       "      <td>1</td>\n",
       "      <td>46.000000</td>\n",
       "    </tr>\n",
       "    <tr>\n",
       "      <th>2024</th>\n",
       "      <td>YEKTA RESTAURANT</td>\n",
       "      <td>1</td>\n",
       "      <td>10.000000</td>\n",
       "    </tr>\n",
       "    <tr>\n",
       "      <th>2025</th>\n",
       "      <td>YEKTA RESTAURANT PREP KICHEN</td>\n",
       "      <td>1</td>\n",
       "      <td>17.000000</td>\n",
       "    </tr>\n",
       "    <tr>\n",
       "      <th>2026</th>\n",
       "      <td>YEN SUSHI</td>\n",
       "      <td>1</td>\n",
       "      <td>48.000000</td>\n",
       "    </tr>\n",
       "    <tr>\n",
       "      <th>2027</th>\n",
       "      <td>YEN SUSHISAKE BAR</td>\n",
       "      <td>1</td>\n",
       "      <td>135.000000</td>\n",
       "    </tr>\n",
       "    <tr>\n",
       "      <th>2028</th>\n",
       "      <td>YETGOL RESTAURANT</td>\n",
       "      <td>1</td>\n",
       "      <td>114.000000</td>\n",
       "    </tr>\n",
       "    <tr>\n",
       "      <th>2029</th>\n",
       "      <td>YIAN BIAN RESTAURANT</td>\n",
       "      <td>1</td>\n",
       "      <td>38.000000</td>\n",
       "    </tr>\n",
       "    <tr>\n",
       "      <th>2030</th>\n",
       "      <td>YOGURT LAND</td>\n",
       "      <td>2</td>\n",
       "      <td>18.000000</td>\n",
       "    </tr>\n",
       "    <tr>\n",
       "      <th>2031</th>\n",
       "      <td>YOGURT TUTTI FRUTTI</td>\n",
       "      <td>1</td>\n",
       "      <td>9.000000</td>\n",
       "    </tr>\n",
       "    <tr>\n",
       "      <th>2032</th>\n",
       "      <td>YOGURTLAND</td>\n",
       "      <td>12</td>\n",
       "      <td>16.416667</td>\n",
       "    </tr>\n",
       "    <tr>\n",
       "      <th>2033</th>\n",
       "      <td>YOGURTLAND BALDWIN HILLS</td>\n",
       "      <td>1</td>\n",
       "      <td>10.000000</td>\n",
       "    </tr>\n",
       "    <tr>\n",
       "      <th>2034</th>\n",
       "      <td>YOGURTLAND BOYLE HEIGHTS</td>\n",
       "      <td>1</td>\n",
       "      <td>26.000000</td>\n",
       "    </tr>\n",
       "    <tr>\n",
       "      <th>2035</th>\n",
       "      <td>YOGURTLAND CENTRALSLAUSON</td>\n",
       "      <td>1</td>\n",
       "      <td>4.000000</td>\n",
       "    </tr>\n",
       "    <tr>\n",
       "      <th>2036</th>\n",
       "      <td>YOGURTLAND LADERA HEIGHTS</td>\n",
       "      <td>1</td>\n",
       "      <td>23.000000</td>\n",
       "    </tr>\n",
       "    <tr>\n",
       "      <th>2037</th>\n",
       "      <td>YOGURTLAND LITTLE TOKYO</td>\n",
       "      <td>1</td>\n",
       "      <td>20.000000</td>\n",
       "    </tr>\n",
       "    <tr>\n",
       "      <th>2038</th>\n",
       "      <td>YOGURTLAND SUNSET</td>\n",
       "      <td>1</td>\n",
       "      <td>11.000000</td>\n",
       "    </tr>\n",
       "    <tr>\n",
       "      <th>2039</th>\n",
       "      <td>YOGURTLAND USC GATEWAY</td>\n",
       "      <td>1</td>\n",
       "      <td>7.000000</td>\n",
       "    </tr>\n",
       "    <tr>\n",
       "      <th>2040</th>\n",
       "      <td>YOGURTLAND WESTCHESTER</td>\n",
       "      <td>2</td>\n",
       "      <td>10.500000</td>\n",
       "    </tr>\n",
       "    <tr>\n",
       "      <th>2041</th>\n",
       "      <td>YOLI'S MEXICAN FOOD</td>\n",
       "      <td>1</td>\n",
       "      <td>19.000000</td>\n",
       "    </tr>\n",
       "    <tr>\n",
       "      <th>2042</th>\n",
       "      <td>YOONI RESTAURANT</td>\n",
       "      <td>1</td>\n",
       "      <td>14.000000</td>\n",
       "    </tr>\n",
       "    <tr>\n",
       "      <th>2043</th>\n",
       "      <td>YOSHINOYA</td>\n",
       "      <td>28</td>\n",
       "      <td>46.857143</td>\n",
       "    </tr>\n",
       "    <tr>\n",
       "      <th>2044</th>\n",
       "      <td>YOSHINOYA BEEF BOWL</td>\n",
       "      <td>1</td>\n",
       "      <td>40.000000</td>\n",
       "    </tr>\n",
       "    <tr>\n",
       "      <th>2045</th>\n",
       "      <td>YOU JUNG RESTAURANT</td>\n",
       "      <td>1</td>\n",
       "      <td>64.000000</td>\n",
       "    </tr>\n",
       "    <tr>\n",
       "      <th>2046</th>\n",
       "      <td>YOUNG DONG RESTAURANT</td>\n",
       "      <td>1</td>\n",
       "      <td>43.000000</td>\n",
       "    </tr>\n",
       "    <tr>\n",
       "      <th>2047</th>\n",
       "      <td>YOUNG KING CHINESE RESTAURANT</td>\n",
       "      <td>1</td>\n",
       "      <td>74.000000</td>\n",
       "    </tr>\n",
       "    <tr>\n",
       "      <th>2048</th>\n",
       "      <td>YUKINOHANA JAPANESE RESTAURANT</td>\n",
       "      <td>1</td>\n",
       "      <td>36.000000</td>\n",
       "    </tr>\n",
       "    <tr>\n",
       "      <th>2049</th>\n",
       "      <td>YUKO KITCHEN</td>\n",
       "      <td>2</td>\n",
       "      <td>21.000000</td>\n",
       "    </tr>\n",
       "    <tr>\n",
       "      <th>2050</th>\n",
       "      <td>YUM YUM CHINESE FOOD</td>\n",
       "      <td>1</td>\n",
       "      <td>28.000000</td>\n",
       "    </tr>\n",
       "    <tr>\n",
       "      <th>2051</th>\n",
       "      <td>YUM YUM DONUTS</td>\n",
       "      <td>4</td>\n",
       "      <td>18.500000</td>\n",
       "    </tr>\n",
       "    <tr>\n",
       "      <th>2052</th>\n",
       "      <td>YUM YUM DONUTS FRANCHISE</td>\n",
       "      <td>2</td>\n",
       "      <td>10.500000</td>\n",
       "    </tr>\n",
       "    <tr>\n",
       "      <th>2053</th>\n",
       "      <td>YUM YUM DONUTS FRANCHISEE</td>\n",
       "      <td>1</td>\n",
       "      <td>6.000000</td>\n",
       "    </tr>\n",
       "    <tr>\n",
       "      <th>2054</th>\n",
       "      <td>YUM YUM DONUTSB</td>\n",
       "      <td>1</td>\n",
       "      <td>26.000000</td>\n",
       "    </tr>\n",
       "    <tr>\n",
       "      <th>2055</th>\n",
       "      <td>YUM YUM DONUTSC FRANCHISE</td>\n",
       "      <td>1</td>\n",
       "      <td>22.000000</td>\n",
       "    </tr>\n",
       "    <tr>\n",
       "      <th>2056</th>\n",
       "      <td>YUM YUM DONUTSD</td>\n",
       "      <td>2</td>\n",
       "      <td>20.500000</td>\n",
       "    </tr>\n",
       "    <tr>\n",
       "      <th>2057</th>\n",
       "      <td>YUM YUM DONUTSE</td>\n",
       "      <td>2</td>\n",
       "      <td>20.000000</td>\n",
       "    </tr>\n",
       "    <tr>\n",
       "      <th>2058</th>\n",
       "      <td>YUM YUM DONUTSP</td>\n",
       "      <td>1</td>\n",
       "      <td>2.000000</td>\n",
       "    </tr>\n",
       "    <tr>\n",
       "      <th>2059</th>\n",
       "      <td>YUM YUM DONUTSSTORAGE</td>\n",
       "      <td>1</td>\n",
       "      <td>5.000000</td>\n",
       "    </tr>\n",
       "    <tr>\n",
       "      <th>2060</th>\n",
       "      <td>YUMMIE SANDWICHFOOD TO GO</td>\n",
       "      <td>1</td>\n",
       "      <td>28.000000</td>\n",
       "    </tr>\n",
       "    <tr>\n",
       "      <th>2061</th>\n",
       "      <td>YUMMY FOODS MARKET</td>\n",
       "      <td>1</td>\n",
       "      <td>2.000000</td>\n",
       "    </tr>\n",
       "    <tr>\n",
       "      <th>2062</th>\n",
       "      <td>YURI'S AUTHENTIC TACOS AND MEXICAN RESTAURANT</td>\n",
       "      <td>1</td>\n",
       "      <td>29.000000</td>\n",
       "    </tr>\n",
       "    <tr>\n",
       "      <th>2063</th>\n",
       "      <td>Z PIZZA</td>\n",
       "      <td>3</td>\n",
       "      <td>41.000000</td>\n",
       "    </tr>\n",
       "    <tr>\n",
       "      <th>2064</th>\n",
       "      <td>ZAHN CAFE</td>\n",
       "      <td>1</td>\n",
       "      <td>94.000000</td>\n",
       "    </tr>\n",
       "    <tr>\n",
       "      <th>2065</th>\n",
       "      <td>ZAHN EMERGENCY SHELTER</td>\n",
       "      <td>1</td>\n",
       "      <td>61.000000</td>\n",
       "    </tr>\n",
       "    <tr>\n",
       "      <th>2066</th>\n",
       "      <td>ZANKOU CHICKEN</td>\n",
       "      <td>2</td>\n",
       "      <td>53.500000</td>\n",
       "    </tr>\n",
       "    <tr>\n",
       "      <th>2067</th>\n",
       "      <td>ZEN BAKERYRETAIL)</td>\n",
       "      <td>1</td>\n",
       "      <td>19.000000</td>\n",
       "    </tr>\n",
       "    <tr>\n",
       "      <th>2068</th>\n",
       "      <td>ZERMENOS RESTAURANT INC</td>\n",
       "      <td>1</td>\n",
       "      <td>10.000000</td>\n",
       "    </tr>\n",
       "    <tr>\n",
       "      <th>2069</th>\n",
       "      <td>ZION MARKET DELIISLAND</td>\n",
       "      <td>1</td>\n",
       "      <td>16.000000</td>\n",
       "    </tr>\n",
       "    <tr>\n",
       "      <th>2070</th>\n",
       "      <td>ZIP SUSHIIZAKAYA</td>\n",
       "      <td>1</td>\n",
       "      <td>98.000000</td>\n",
       "    </tr>\n",
       "  </tbody>\n",
       "</table>\n",
       "</div>"
      ],
      "text/plain": [
       "                                         clean_name  shops_per_chain  \\\n",
       "2011                             WOO REE RESTAURANT                1   \n",
       "2012                          WOOL UM MA RESTAURANT                1   \n",
       "2013                                  WORLD SEAFOOD                1   \n",
       "2014                            WOW BOWL RESTAURANT                1   \n",
       "2015                                    XIAOYAO INC                1   \n",
       "2016                                YABU RESTAURANT                1   \n",
       "2017                                  YAI THAI FOOD                1   \n",
       "2018                                      YAKI CAFE                2   \n",
       "2019                                       YAMAKASE                3   \n",
       "2020                              YAMATO RESTAURANT                1   \n",
       "2021                           YANG CHOW RESTAURANT                1   \n",
       "2022                        YANUSA SUSHI RESTAURANT                1   \n",
       "2023                             YEE'S CHINESE FOOD                1   \n",
       "2024                               YEKTA RESTAURANT                1   \n",
       "2025                   YEKTA RESTAURANT PREP KICHEN                1   \n",
       "2026                                      YEN SUSHI                1   \n",
       "2027                              YEN SUSHISAKE BAR                1   \n",
       "2028                              YETGOL RESTAURANT                1   \n",
       "2029                           YIAN BIAN RESTAURANT                1   \n",
       "2030                                    YOGURT LAND                2   \n",
       "2031                            YOGURT TUTTI FRUTTI                1   \n",
       "2032                                     YOGURTLAND               12   \n",
       "2033                       YOGURTLAND BALDWIN HILLS                1   \n",
       "2034                       YOGURTLAND BOYLE HEIGHTS                1   \n",
       "2035                      YOGURTLAND CENTRALSLAUSON                1   \n",
       "2036                      YOGURTLAND LADERA HEIGHTS                1   \n",
       "2037                        YOGURTLAND LITTLE TOKYO                1   \n",
       "2038                              YOGURTLAND SUNSET                1   \n",
       "2039                         YOGURTLAND USC GATEWAY                1   \n",
       "2040                         YOGURTLAND WESTCHESTER                2   \n",
       "2041                            YOLI'S MEXICAN FOOD                1   \n",
       "2042                               YOONI RESTAURANT                1   \n",
       "2043                                      YOSHINOYA               28   \n",
       "2044                            YOSHINOYA BEEF BOWL                1   \n",
       "2045                            YOU JUNG RESTAURANT                1   \n",
       "2046                          YOUNG DONG RESTAURANT                1   \n",
       "2047                  YOUNG KING CHINESE RESTAURANT                1   \n",
       "2048                 YUKINOHANA JAPANESE RESTAURANT                1   \n",
       "2049                                   YUKO KITCHEN                2   \n",
       "2050                           YUM YUM CHINESE FOOD                1   \n",
       "2051                                 YUM YUM DONUTS                4   \n",
       "2052                       YUM YUM DONUTS FRANCHISE                2   \n",
       "2053                      YUM YUM DONUTS FRANCHISEE                1   \n",
       "2054                                YUM YUM DONUTSB                1   \n",
       "2055                      YUM YUM DONUTSC FRANCHISE                1   \n",
       "2056                                YUM YUM DONUTSD                2   \n",
       "2057                                YUM YUM DONUTSE                2   \n",
       "2058                                YUM YUM DONUTSP                1   \n",
       "2059                          YUM YUM DONUTSSTORAGE                1   \n",
       "2060                      YUMMIE SANDWICHFOOD TO GO                1   \n",
       "2061                             YUMMY FOODS MARKET                1   \n",
       "2062  YURI'S AUTHENTIC TACOS AND MEXICAN RESTAURANT                1   \n",
       "2063                                        Z PIZZA                3   \n",
       "2064                                      ZAHN CAFE                1   \n",
       "2065                         ZAHN EMERGENCY SHELTER                1   \n",
       "2066                                 ZANKOU CHICKEN                2   \n",
       "2067                              ZEN BAKERYRETAIL)                1   \n",
       "2068                        ZERMENOS RESTAURANT INC                1   \n",
       "2069                         ZION MARKET DELIISLAND                1   \n",
       "2070                               ZIP SUSHIIZAKAYA                1   \n",
       "\n",
       "       seats_avg  \n",
       "2011   14.000000  \n",
       "2012   27.000000  \n",
       "2013   29.000000  \n",
       "2014   43.000000  \n",
       "2015   43.000000  \n",
       "2016   33.000000  \n",
       "2017   22.000000  \n",
       "2018   10.000000  \n",
       "2019   12.333333  \n",
       "2020  177.000000  \n",
       "2021   72.000000  \n",
       "2022   23.000000  \n",
       "2023   46.000000  \n",
       "2024   10.000000  \n",
       "2025   17.000000  \n",
       "2026   48.000000  \n",
       "2027  135.000000  \n",
       "2028  114.000000  \n",
       "2029   38.000000  \n",
       "2030   18.000000  \n",
       "2031    9.000000  \n",
       "2032   16.416667  \n",
       "2033   10.000000  \n",
       "2034   26.000000  \n",
       "2035    4.000000  \n",
       "2036   23.000000  \n",
       "2037   20.000000  \n",
       "2038   11.000000  \n",
       "2039    7.000000  \n",
       "2040   10.500000  \n",
       "2041   19.000000  \n",
       "2042   14.000000  \n",
       "2043   46.857143  \n",
       "2044   40.000000  \n",
       "2045   64.000000  \n",
       "2046   43.000000  \n",
       "2047   74.000000  \n",
       "2048   36.000000  \n",
       "2049   21.000000  \n",
       "2050   28.000000  \n",
       "2051   18.500000  \n",
       "2052   10.500000  \n",
       "2053    6.000000  \n",
       "2054   26.000000  \n",
       "2055   22.000000  \n",
       "2056   20.500000  \n",
       "2057   20.000000  \n",
       "2058    2.000000  \n",
       "2059    5.000000  \n",
       "2060   28.000000  \n",
       "2061    2.000000  \n",
       "2062   29.000000  \n",
       "2063   41.000000  \n",
       "2064   94.000000  \n",
       "2065   61.000000  \n",
       "2066   53.500000  \n",
       "2067   19.000000  \n",
       "2068   10.000000  \n",
       "2069   16.000000  \n",
       "2070   98.000000  "
      ]
     },
     "execution_count": 32,
     "metadata": {},
     "output_type": "execute_result"
    }
   ],
   "source": [
    "# trying to identify additional similar names that the function missed, but belong to the same chain:\n",
    "chains_scatter.head(60)\n",
    "chains_scatter.tail(60)"
   ]
  },
  {
   "cell_type": "code",
   "execution_count": 33,
   "id": "178dbfc9",
   "metadata": {},
   "outputs": [
    {
     "data": {
      "text/html": [
       "<div>\n",
       "<style scoped>\n",
       "    .dataframe tbody tr th:only-of-type {\n",
       "        vertical-align: middle;\n",
       "    }\n",
       "\n",
       "    .dataframe tbody tr th {\n",
       "        vertical-align: top;\n",
       "    }\n",
       "\n",
       "    .dataframe thead th {\n",
       "        text-align: right;\n",
       "    }\n",
       "</style>\n",
       "<table border=\"1\" class=\"dataframe\">\n",
       "  <thead>\n",
       "    <tr style=\"text-align: right;\">\n",
       "      <th></th>\n",
       "      <th>clean_name</th>\n",
       "      <th>shops_per_chain</th>\n",
       "      <th>seats_avg</th>\n",
       "    </tr>\n",
       "  </thead>\n",
       "  <tbody>\n",
       "    <tr>\n",
       "      <th>2051</th>\n",
       "      <td>YUM YUM DONUTS</td>\n",
       "      <td>4</td>\n",
       "      <td>18.5</td>\n",
       "    </tr>\n",
       "    <tr>\n",
       "      <th>2052</th>\n",
       "      <td>YUM YUM DONUTS FRANCHISE</td>\n",
       "      <td>2</td>\n",
       "      <td>10.5</td>\n",
       "    </tr>\n",
       "    <tr>\n",
       "      <th>2053</th>\n",
       "      <td>YUM YUM DONUTS FRANCHISEE</td>\n",
       "      <td>1</td>\n",
       "      <td>6.0</td>\n",
       "    </tr>\n",
       "    <tr>\n",
       "      <th>2054</th>\n",
       "      <td>YUM YUM DONUTSB</td>\n",
       "      <td>1</td>\n",
       "      <td>26.0</td>\n",
       "    </tr>\n",
       "    <tr>\n",
       "      <th>2055</th>\n",
       "      <td>YUM YUM DONUTSC FRANCHISE</td>\n",
       "      <td>1</td>\n",
       "      <td>22.0</td>\n",
       "    </tr>\n",
       "    <tr>\n",
       "      <th>2056</th>\n",
       "      <td>YUM YUM DONUTSD</td>\n",
       "      <td>2</td>\n",
       "      <td>20.5</td>\n",
       "    </tr>\n",
       "    <tr>\n",
       "      <th>2057</th>\n",
       "      <td>YUM YUM DONUTSE</td>\n",
       "      <td>2</td>\n",
       "      <td>20.0</td>\n",
       "    </tr>\n",
       "    <tr>\n",
       "      <th>2058</th>\n",
       "      <td>YUM YUM DONUTSP</td>\n",
       "      <td>1</td>\n",
       "      <td>2.0</td>\n",
       "    </tr>\n",
       "    <tr>\n",
       "      <th>2059</th>\n",
       "      <td>YUM YUM DONUTSSTORAGE</td>\n",
       "      <td>1</td>\n",
       "      <td>5.0</td>\n",
       "    </tr>\n",
       "  </tbody>\n",
       "</table>\n",
       "</div>"
      ],
      "text/plain": [
       "                     clean_name  shops_per_chain  seats_avg\n",
       "2051             YUM YUM DONUTS                4       18.5\n",
       "2052   YUM YUM DONUTS FRANCHISE                2       10.5\n",
       "2053  YUM YUM DONUTS FRANCHISEE                1        6.0\n",
       "2054            YUM YUM DONUTSB                1       26.0\n",
       "2055  YUM YUM DONUTSC FRANCHISE                1       22.0\n",
       "2056            YUM YUM DONUTSD                2       20.5\n",
       "2057            YUM YUM DONUTSE                2       20.0\n",
       "2058            YUM YUM DONUTSP                1        2.0\n",
       "2059      YUM YUM DONUTSSTORAGE                1        5.0"
      ]
     },
     "execution_count": 33,
     "metadata": {},
     "output_type": "execute_result"
    }
   ],
   "source": [
    "#YUM YUM DONUTS\n",
    "chains_scatter[chains_scatter['clean_name'].str.contains(\"YUM YUM DONUTS\")]"
   ]
  },
  {
   "cell_type": "code",
   "execution_count": 34,
   "id": "a23f25c7",
   "metadata": {},
   "outputs": [
    {
     "data": {
      "text/html": [
       "<div>\n",
       "<style scoped>\n",
       "    .dataframe tbody tr th:only-of-type {\n",
       "        vertical-align: middle;\n",
       "    }\n",
       "\n",
       "    .dataframe tbody tr th {\n",
       "        vertical-align: top;\n",
       "    }\n",
       "\n",
       "    .dataframe thead th {\n",
       "        text-align: right;\n",
       "    }\n",
       "</style>\n",
       "<table border=\"1\" class=\"dataframe\">\n",
       "  <thead>\n",
       "    <tr style=\"text-align: right;\">\n",
       "      <th></th>\n",
       "      <th>clean_name</th>\n",
       "      <th>shops_per_chain</th>\n",
       "      <th>seats_avg</th>\n",
       "    </tr>\n",
       "  </thead>\n",
       "  <tbody>\n",
       "    <tr>\n",
       "      <th>88</th>\n",
       "      <td>AUNTIE ANNE'S PRETZEL</td>\n",
       "      <td>2</td>\n",
       "      <td>20.000000</td>\n",
       "    </tr>\n",
       "    <tr>\n",
       "      <th>1990</th>\n",
       "      <td>WETZEL'S PRETZELS</td>\n",
       "      <td>6</td>\n",
       "      <td>14.666667</td>\n",
       "    </tr>\n",
       "    <tr>\n",
       "      <th>1991</th>\n",
       "      <td>WETZELS PRETZEL'S</td>\n",
       "      <td>1</td>\n",
       "      <td>4.000000</td>\n",
       "    </tr>\n",
       "    <tr>\n",
       "      <th>1992</th>\n",
       "      <td>WETZELS PRETZELS</td>\n",
       "      <td>4</td>\n",
       "      <td>14.000000</td>\n",
       "    </tr>\n",
       "  </tbody>\n",
       "</table>\n",
       "</div>"
      ],
      "text/plain": [
       "                 clean_name  shops_per_chain  seats_avg\n",
       "88    AUNTIE ANNE'S PRETZEL                2  20.000000\n",
       "1990      WETZEL'S PRETZELS                6  14.666667\n",
       "1991      WETZELS PRETZEL'S                1   4.000000\n",
       "1992       WETZELS PRETZELS                4  14.000000"
      ]
     },
     "execution_count": 34,
     "metadata": {},
     "output_type": "execute_result"
    }
   ],
   "source": [
    "# tried random common names (PIZZA, SUSHI, JUICE, BAKERY.. there must be a more elegant way..)\n",
    "chains_scatter[chains_scatter['clean_name'].str.contains(\"PRETZEL\")]"
   ]
  },
  {
   "cell_type": "code",
   "execution_count": 35,
   "id": "89b1cc85",
   "metadata": {},
   "outputs": [],
   "source": [
    "#replacing a few items:\n",
    "chains_scatter = chains_scatter.replace({'clean_name':{\"A WON JAPANASE RESTAURANT\":\"A WON JAPANESE RESTAURANT\",\n",
    "                                                      \"WETZELS PRETZEL'S\": \"WETZEL'S PRETZELS\",\n",
    "                                                      \"WETZELS PRETZELS\": \"WETZEL'S PRETZELS\"}})"
   ]
  },
  {
   "cell_type": "code",
   "execution_count": 36,
   "id": "927cf9d6",
   "metadata": {},
   "outputs": [],
   "source": [
    "# a few more replacements:\n",
    "chains_scatter = chains_scatter.replace({'clean_name':{\"YUM YUM DONUTSB\":\"YUM YUM DONUTS\",\n",
    "                                                      \"YUM YUM DONUTSD\": \"YUM YUM DONUTS\",\n",
    "                                                      \"YUM YUM DONUTSE\": \"YUM YUM DONUTS\",\n",
    "                                                      \"YUM YUM DONUTSP\": \"YUM YUM DONUTS\",\n",
    "                                                      \"YUM YUM DONUTS FRANCHISEE\":\"YUM YUM DONUTS FRANCHISE\", \n",
    "                                                      \"YUM YUM DONUTSC FRANCHISE\": \"YUM YUM DONUTS FRANCHISE\"}})   "
   ]
  },
  {
   "cell_type": "code",
   "execution_count": 37,
   "id": "ab524e83",
   "metadata": {},
   "outputs": [
    {
     "data": {
      "text/html": [
       "<div>\n",
       "<style scoped>\n",
       "    .dataframe tbody tr th:only-of-type {\n",
       "        vertical-align: middle;\n",
       "    }\n",
       "\n",
       "    .dataframe tbody tr th {\n",
       "        vertical-align: top;\n",
       "    }\n",
       "\n",
       "    .dataframe thead th {\n",
       "        text-align: right;\n",
       "    }\n",
       "</style>\n",
       "<table border=\"1\" class=\"dataframe\">\n",
       "  <thead>\n",
       "    <tr style=\"text-align: right;\">\n",
       "      <th></th>\n",
       "      <th>clean_name</th>\n",
       "      <th>shops_per_chain</th>\n",
       "      <th>seats_avg</th>\n",
       "    </tr>\n",
       "  </thead>\n",
       "  <tbody>\n",
       "    <tr>\n",
       "      <th>1727</th>\n",
       "      <td>SUBWAY</td>\n",
       "      <td>121</td>\n",
       "      <td>16.826446</td>\n",
       "    </tr>\n",
       "    <tr>\n",
       "      <th>1709</th>\n",
       "      <td>STARBUCKS COFFEE</td>\n",
       "      <td>87</td>\n",
       "      <td>24.850575</td>\n",
       "    </tr>\n",
       "    <tr>\n",
       "      <th>1176</th>\n",
       "      <td>MCDONALD'S</td>\n",
       "      <td>80</td>\n",
       "      <td>94.487500</td>\n",
       "    </tr>\n",
       "    <tr>\n",
       "      <th>789</th>\n",
       "      <td>JACK IN THE BOX</td>\n",
       "      <td>53</td>\n",
       "      <td>65.981132</td>\n",
       "    </tr>\n",
       "    <tr>\n",
       "      <th>1834</th>\n",
       "      <td>THE COFFEE BEANTEA LEAF</td>\n",
       "      <td>51</td>\n",
       "      <td>26.235294</td>\n",
       "    </tr>\n",
       "    <tr>\n",
       "      <th>...</th>\n",
       "      <td>...</td>\n",
       "      <td>...</td>\n",
       "      <td>...</td>\n",
       "    </tr>\n",
       "    <tr>\n",
       "      <th>785</th>\n",
       "      <td>IZAKAYA OSEN</td>\n",
       "      <td>1</td>\n",
       "      <td>46.000000</td>\n",
       "    </tr>\n",
       "    <tr>\n",
       "      <th>784</th>\n",
       "      <td>IVAN'S RESTAURANT</td>\n",
       "      <td>1</td>\n",
       "      <td>10.000000</td>\n",
       "    </tr>\n",
       "    <tr>\n",
       "      <th>783</th>\n",
       "      <td>ITS BOBA TIME</td>\n",
       "      <td>1</td>\n",
       "      <td>24.000000</td>\n",
       "    </tr>\n",
       "    <tr>\n",
       "      <th>782</th>\n",
       "      <td>IT'S THAI HOME RESTAURANT</td>\n",
       "      <td>1</td>\n",
       "      <td>32.000000</td>\n",
       "    </tr>\n",
       "    <tr>\n",
       "      <th>2061</th>\n",
       "      <td>ZIP SUSHIIZAKAYA</td>\n",
       "      <td>1</td>\n",
       "      <td>98.000000</td>\n",
       "    </tr>\n",
       "  </tbody>\n",
       "</table>\n",
       "<p>2062 rows × 3 columns</p>\n",
       "</div>"
      ],
      "text/plain": [
       "                     clean_name  shops_per_chain  seats_avg\n",
       "1727                     SUBWAY              121  16.826446\n",
       "1709           STARBUCKS COFFEE               87  24.850575\n",
       "1176                 MCDONALD'S               80  94.487500\n",
       "789             JACK IN THE BOX               53  65.981132\n",
       "1834    THE COFFEE BEANTEA LEAF               51  26.235294\n",
       "...                         ...              ...        ...\n",
       "785                IZAKAYA OSEN                1  46.000000\n",
       "784           IVAN'S RESTAURANT                1  10.000000\n",
       "783               ITS BOBA TIME                1  24.000000\n",
       "782   IT'S THAI HOME RESTAURANT                1  32.000000\n",
       "2061           ZIP SUSHIIZAKAYA                1  98.000000\n",
       "\n",
       "[2062 rows x 3 columns]"
      ]
     },
     "execution_count": 37,
     "metadata": {},
     "output_type": "execute_result"
    }
   ],
   "source": [
    "chains_scatter = chains_scatter.groupby('clean_name').agg({'shops_per_chain':'sum', 'seats_avg':'mean'}).reset_index()\n",
    "chains_scatter.sort_values(by='shops_per_chain', ascending=False)"
   ]
  },
  {
   "cell_type": "code",
   "execution_count": 38,
   "id": "1b2554d5",
   "metadata": {},
   "outputs": [
    {
     "data": {
      "text/html": [
       "<div>\n",
       "<style scoped>\n",
       "    .dataframe tbody tr th:only-of-type {\n",
       "        vertical-align: middle;\n",
       "    }\n",
       "\n",
       "    .dataframe tbody tr th {\n",
       "        vertical-align: top;\n",
       "    }\n",
       "\n",
       "    .dataframe thead th {\n",
       "        text-align: right;\n",
       "    }\n",
       "</style>\n",
       "<table border=\"1\" class=\"dataframe\">\n",
       "  <thead>\n",
       "    <tr style=\"text-align: right;\">\n",
       "      <th></th>\n",
       "      <th>clean_name</th>\n",
       "      <th>shops_per_chain</th>\n",
       "      <th>seats_avg</th>\n",
       "    </tr>\n",
       "  </thead>\n",
       "  <tbody>\n",
       "    <tr>\n",
       "      <th>2048</th>\n",
       "      <td>YUM YUM DONUTS</td>\n",
       "      <td>10</td>\n",
       "      <td>17.400000</td>\n",
       "    </tr>\n",
       "    <tr>\n",
       "      <th>2049</th>\n",
       "      <td>YUM YUM DONUTS FRANCHISE</td>\n",
       "      <td>4</td>\n",
       "      <td>12.833333</td>\n",
       "    </tr>\n",
       "    <tr>\n",
       "      <th>2050</th>\n",
       "      <td>YUM YUM DONUTSSTORAGE</td>\n",
       "      <td>1</td>\n",
       "      <td>5.000000</td>\n",
       "    </tr>\n",
       "  </tbody>\n",
       "</table>\n",
       "</div>"
      ],
      "text/plain": [
       "                    clean_name  shops_per_chain  seats_avg\n",
       "2048            YUM YUM DONUTS               10  17.400000\n",
       "2049  YUM YUM DONUTS FRANCHISE                4  12.833333\n",
       "2050     YUM YUM DONUTSSTORAGE                1   5.000000"
      ]
     },
     "execution_count": 38,
     "metadata": {},
     "output_type": "execute_result"
    }
   ],
   "source": [
    "# checking:\n",
    "chains_scatter[chains_scatter['clean_name'].str.contains(\"YUM YUM DONUTS\")]"
   ]
  },
  {
   "cell_type": "code",
   "execution_count": 39,
   "id": "009b07cc",
   "metadata": {
    "scrolled": false
   },
   "outputs": [
    {
     "data": {
      "image/png": "[encoded data removed]",
      "text/plain": [
       "<Figure size 720x576 with 1 Axes>"
      ]
     },
     "metadata": {
      "needs_background": "light"
     },
     "output_type": "display_data"
    }
   ],
   "source": [
    "sns.relplot(data = chains_scatter, x=\"shops_per_chain\", y=\"seats_avg\",\n",
    "            height = 8, aspect = 1.25).set(title= \"The relationship between the number of shops per chain and the average seat number\")\n",
    "sns.set(style=\"whitegrid\", font_scale=2);"
   ]
  },
  {
   "cell_type": "code",
   "execution_count": 40,
   "id": "da9656ef",
   "metadata": {},
   "outputs": [
    {
     "data": {
      "text/html": [
       "<div>\n",
       "<style scoped>\n",
       "    .dataframe tbody tr th:only-of-type {\n",
       "        vertical-align: middle;\n",
       "    }\n",
       "\n",
       "    .dataframe tbody tr th {\n",
       "        vertical-align: top;\n",
       "    }\n",
       "\n",
       "    .dataframe thead th {\n",
       "        text-align: right;\n",
       "    }\n",
       "</style>\n",
       "<table border=\"1\" class=\"dataframe\">\n",
       "  <thead>\n",
       "    <tr style=\"text-align: right;\">\n",
       "      <th></th>\n",
       "      <th>shops_per_chain</th>\n",
       "      <th>seats_avg</th>\n",
       "    </tr>\n",
       "  </thead>\n",
       "  <tbody>\n",
       "    <tr>\n",
       "      <th>count</th>\n",
       "      <td>2062.000000</td>\n",
       "      <td>2062.000000</td>\n",
       "    </tr>\n",
       "    <tr>\n",
       "      <th>mean</th>\n",
       "      <td>1.782735</td>\n",
       "      <td>39.816004</td>\n",
       "    </tr>\n",
       "    <tr>\n",
       "      <th>std</th>\n",
       "      <td>4.634463</td>\n",
       "      <td>43.760867</td>\n",
       "    </tr>\n",
       "    <tr>\n",
       "      <th>min</th>\n",
       "      <td>1.000000</td>\n",
       "      <td>1.000000</td>\n",
       "    </tr>\n",
       "    <tr>\n",
       "      <th>25%</th>\n",
       "      <td>1.000000</td>\n",
       "      <td>14.000000</td>\n",
       "    </tr>\n",
       "    <tr>\n",
       "      <th>50%</th>\n",
       "      <td>1.000000</td>\n",
       "      <td>24.000000</td>\n",
       "    </tr>\n",
       "    <tr>\n",
       "      <th>75%</th>\n",
       "      <td>1.000000</td>\n",
       "      <td>43.075000</td>\n",
       "    </tr>\n",
       "    <tr>\n",
       "      <th>max</th>\n",
       "      <td>121.000000</td>\n",
       "      <td>229.000000</td>\n",
       "    </tr>\n",
       "  </tbody>\n",
       "</table>\n",
       "</div>"
      ],
      "text/plain": [
       "       shops_per_chain    seats_avg\n",
       "count      2062.000000  2062.000000\n",
       "mean          1.782735    39.816004\n",
       "std           4.634463    43.760867\n",
       "min           1.000000     1.000000\n",
       "25%           1.000000    14.000000\n",
       "50%           1.000000    24.000000\n",
       "75%           1.000000    43.075000\n",
       "max         121.000000   229.000000"
      ]
     },
     "execution_count": 40,
     "metadata": {},
     "output_type": "execute_result"
    }
   ],
   "source": [
    "chains_scatter.describe()"
   ]
  },
  {
   "cell_type": "markdown",
   "id": "a4f152dd",
   "metadata": {},
   "source": [
    "**Within the shops that are part of chains, there doesn't seem to be a linear relation between chain size and seats. We can see that the vast majority of chains have 1 shop in LA, with a wide variety of seat number (IQR between 14 and 43 seats, but climb way beyond). Also, chains with a great number of shops don't tend to offer above 100 seats. However, since there are only a few of such chains, it would be problematic to call it a trend. "
   ]
  },
  {
   "cell_type": "markdown",
   "id": "bf6073c4",
   "metadata": {},
   "source": [
    "### 2.5 Determine the average number of seats for each type of restaurant. On average, which type of restaurant has the greatest number of seats? Plot graphs."
   ]
  },
  {
   "cell_type": "code",
   "execution_count": 41,
   "id": "17a6d0d0",
   "metadata": {},
   "outputs": [
    {
     "data": {
      "text/html": [
       "<div>\n",
       "<style scoped>\n",
       "    .dataframe tbody tr th:only-of-type {\n",
       "        vertical-align: middle;\n",
       "    }\n",
       "\n",
       "    .dataframe tbody tr th {\n",
       "        vertical-align: top;\n",
       "    }\n",
       "\n",
       "    .dataframe thead th {\n",
       "        text-align: right;\n",
       "    }\n",
       "</style>\n",
       "<table border=\"1\" class=\"dataframe\">\n",
       "  <thead>\n",
       "    <tr style=\"text-align: right;\">\n",
       "      <th></th>\n",
       "      <th>object_type</th>\n",
       "      <th>avg_seats</th>\n",
       "    </tr>\n",
       "  </thead>\n",
       "  <tbody>\n",
       "    <tr>\n",
       "      <th>5</th>\n",
       "      <td>Restaurant</td>\n",
       "      <td>48.048807</td>\n",
       "    </tr>\n",
       "    <tr>\n",
       "      <th>1</th>\n",
       "      <td>Bar</td>\n",
       "      <td>44.767123</td>\n",
       "    </tr>\n",
       "    <tr>\n",
       "      <th>3</th>\n",
       "      <td>Fast Food</td>\n",
       "      <td>31.837711</td>\n",
       "    </tr>\n",
       "    <tr>\n",
       "      <th>4</th>\n",
       "      <td>Pizza</td>\n",
       "      <td>28.545455</td>\n",
       "    </tr>\n",
       "    <tr>\n",
       "      <th>2</th>\n",
       "      <td>Cafe</td>\n",
       "      <td>25.000000</td>\n",
       "    </tr>\n",
       "    <tr>\n",
       "      <th>0</th>\n",
       "      <td>Bakery</td>\n",
       "      <td>21.773852</td>\n",
       "    </tr>\n",
       "  </tbody>\n",
       "</table>\n",
       "</div>"
      ],
      "text/plain": [
       "  object_type  avg_seats\n",
       "5  Restaurant  48.048807\n",
       "1         Bar  44.767123\n",
       "3   Fast Food  31.837711\n",
       "4       Pizza  28.545455\n",
       "2        Cafe  25.000000\n",
       "0      Bakery  21.773852"
      ]
     },
     "execution_count": 41,
     "metadata": {},
     "output_type": "execute_result"
    }
   ],
   "source": [
    "seat_b_type= rest.groupby('object_type')['number'].agg('mean').reset_index().rename(\n",
    "    columns={\"number\": \"avg_seats\"}).sort_values(by='avg_seats', ascending= False)\n",
    "\n",
    "seat_b_type                         "
   ]
  },
  {
   "cell_type": "code",
   "execution_count": 42,
   "id": "ece4ffb3",
   "metadata": {},
   "outputs": [
    {
     "data": {
      "image/png": "[encoded data removed]"
     },
     "metadata": {},
     "output_type": "display_data"
    }
   ],
   "source": [
    "fig= px.bar(seat_b_type, x='object_type', y='avg_seats',\n",
    "            title='The average number of seats by foodservice type',\n",
    "            color='object_type')\n",
    "fig.add_hline(y=seat_b_type['avg_seats'].mean(),line_dash=\"dash\", line_color=\"purple\", annotation_text=\"General mean value of the number of seats\",\n",
    "             annotation_position=\"top left\")\n",
    "fig.show(\"png\");"
   ]
  },
  {
   "cell_type": "markdown",
   "id": "1ecc154f",
   "metadata": {},
   "source": [
    "**Summary- On average, restaurants and bars offer above average seating options, whereas Fast food, pizza joints, cafe shops and bakeries offer the smallest amount (in this order). It looks like LA has a richer night than day life, in terms of foodservices, or maybe averaging data from the whole city, masks different dynamics in different neighborhoods**"
   ]
  },
  {
   "cell_type": "markdown",
   "id": "45f02d88",
   "metadata": {},
   "source": [
    "### 2.6 Put the data on street names from the address column in a separate column."
   ]
  },
  {
   "cell_type": "code",
   "execution_count": 43,
   "id": "99dccaa8",
   "metadata": {},
   "outputs": [
    {
     "data": {
      "text/html": [
       "<div>\n",
       "<style scoped>\n",
       "    .dataframe tbody tr th:only-of-type {\n",
       "        vertical-align: middle;\n",
       "    }\n",
       "\n",
       "    .dataframe tbody tr th {\n",
       "        vertical-align: top;\n",
       "    }\n",
       "\n",
       "    .dataframe thead th {\n",
       "        text-align: right;\n",
       "    }\n",
       "</style>\n",
       "<table border=\"1\" class=\"dataframe\">\n",
       "  <thead>\n",
       "    <tr style=\"text-align: right;\">\n",
       "      <th></th>\n",
       "      <th>id</th>\n",
       "      <th>object_name</th>\n",
       "      <th>address</th>\n",
       "      <th>chain</th>\n",
       "      <th>object_type</th>\n",
       "      <th>number</th>\n",
       "    </tr>\n",
       "  </thead>\n",
       "  <tbody>\n",
       "    <tr>\n",
       "      <th>0</th>\n",
       "      <td>11786</td>\n",
       "      <td>HABITAT COFFEE SHOP</td>\n",
       "      <td>3708 N EAGLE ROCK BLVD</td>\n",
       "      <td>False</td>\n",
       "      <td>Cafe</td>\n",
       "      <td>26</td>\n",
       "    </tr>\n",
       "    <tr>\n",
       "      <th>1</th>\n",
       "      <td>11787</td>\n",
       "      <td>REILLY'S</td>\n",
       "      <td>100 WORLD WAY # 120</td>\n",
       "      <td>False</td>\n",
       "      <td>Restaurant</td>\n",
       "      <td>9</td>\n",
       "    </tr>\n",
       "    <tr>\n",
       "      <th>2</th>\n",
       "      <td>11788</td>\n",
       "      <td>STREET CHURROS</td>\n",
       "      <td>6801 HOLLYWOOD BLVD # 253</td>\n",
       "      <td>False</td>\n",
       "      <td>Fast Food</td>\n",
       "      <td>20</td>\n",
       "    </tr>\n",
       "    <tr>\n",
       "      <th>3</th>\n",
       "      <td>11789</td>\n",
       "      <td>TRINITI ECHO PARK</td>\n",
       "      <td>1814 W SUNSET BLVD</td>\n",
       "      <td>False</td>\n",
       "      <td>Restaurant</td>\n",
       "      <td>22</td>\n",
       "    </tr>\n",
       "    <tr>\n",
       "      <th>4</th>\n",
       "      <td>11790</td>\n",
       "      <td>POLLEN</td>\n",
       "      <td>2100 ECHO PARK AVE</td>\n",
       "      <td>False</td>\n",
       "      <td>Restaurant</td>\n",
       "      <td>20</td>\n",
       "    </tr>\n",
       "  </tbody>\n",
       "</table>\n",
       "</div>"
      ],
      "text/plain": [
       "      id          object_name                    address  chain object_type  \\\n",
       "0  11786  HABITAT COFFEE SHOP     3708 N EAGLE ROCK BLVD  False        Cafe   \n",
       "1  11787             REILLY'S        100 WORLD WAY # 120  False  Restaurant   \n",
       "2  11788       STREET CHURROS  6801 HOLLYWOOD BLVD # 253  False   Fast Food   \n",
       "3  11789    TRINITI ECHO PARK         1814 W SUNSET BLVD  False  Restaurant   \n",
       "4  11790               POLLEN         2100 ECHO PARK AVE  False  Restaurant   \n",
       "\n",
       "   number  \n",
       "0      26  \n",
       "1       9  \n",
       "2      20  \n",
       "3      22  \n",
       "4      20  "
      ]
     },
     "execution_count": 43,
     "metadata": {},
     "output_type": "execute_result"
    }
   ],
   "source": [
    "#loading the data again to see what format of address we have\n",
    "rest.head()"
   ]
  },
  {
   "cell_type": "code",
   "execution_count": 44,
   "id": "a08b39af",
   "metadata": {},
   "outputs": [
    {
     "data": {
      "text/plain": [
       "'3708 N EAGLE ROCK BLVD'"
      ]
     },
     "execution_count": 44,
     "metadata": {},
     "output_type": "execute_result"
    }
   ],
   "source": [
    "#creating a street example to work with:\n",
    "street_example=rest.loc[0,'address']\n",
    "street_example"
   ]
  },
  {
   "cell_type": "code",
   "execution_count": 45,
   "id": "fd452c98",
   "metadata": {},
   "outputs": [
    {
     "data": {
      "text/plain": [
       "[('3708', 'AddressNumber'),\n",
       " ('N', 'StreetNamePreDirectional'),\n",
       " ('EAGLE', 'StreetName'),\n",
       " ('ROCK', 'StreetName'),\n",
       " ('BLVD', 'StreetNamePostType')]"
      ]
     },
     "execution_count": 45,
     "metadata": {},
     "output_type": "execute_result"
    }
   ],
   "source": [
    "# parsing it via usaddress:\n",
    "raw_address = usaddress.parse(street_example)\n",
    "raw_address"
   ]
  },
  {
   "cell_type": "code",
   "execution_count": 46,
   "id": "b01b622b",
   "metadata": {},
   "outputs": [
    {
     "data": {
      "text/plain": [
       "{'AddressNumber': '3708',\n",
       " 'StreetNamePreDirectional': 'N',\n",
       " 'StreetName': 'EAGLE ROCK',\n",
       " 'StreetNamePostType': 'BLVD'}"
      ]
     },
     "execution_count": 46,
     "metadata": {},
     "output_type": "execute_result"
    }
   ],
   "source": [
    "#create a new dictionary to assist in later extracting the needed component:\n",
    "dict_address={}\n",
    "for i in raw_address:\n",
    "    if i[1] not in dict_address.keys():\n",
    "        dict_address.update({i[1]:i[0]})\n",
    "    else:\n",
    "        old_value = dict_address[i[1]]\n",
    "        dict_address.update({i[1]:old_value+ ' ' + i[0]})\n",
    "dict_address"
   ]
  },
  {
   "cell_type": "code",
   "execution_count": 47,
   "id": "5184f744",
   "metadata": {},
   "outputs": [],
   "source": [
    "# incorporating it in a function:\n",
    "# (some rows didn't have all the address info, and i got an error, so i had to expand the function to include more options)\n",
    "def cleaning_add(raw):\n",
    "    raw_address=usaddress.parse(raw)\n",
    "    dict_address={}\n",
    "    for i in raw_address:\n",
    "        if i[1] not in dict_address.keys():\n",
    "            dict_address.update({i[1]:i[0]})\n",
    "        else:\n",
    "            old_value = dict_address[i[1]]\n",
    "            dict_address.update({i[1]:old_value+ ' ' + i[0]})\n",
    "    if 'StreetName' in dict_address.keys() and 'StreetNamePostType' in dict_address.keys():\n",
    "        street_name=str(dict_address['StreetName'])+ \" \"+ str(dict_address['StreetNamePostType'])\n",
    "        return street_name\n",
    "    elif 'StreetName' in dict_address.keys():\n",
    "        street_name= str(dict_address['StreetName'])\n",
    "        return street_name\n",
    "    else:\n",
    "        return 'no street'\n",
    "    "
   ]
  },
  {
   "cell_type": "code",
   "execution_count": 48,
   "id": "e9373920",
   "metadata": {},
   "outputs": [
    {
     "data": {
      "text/plain": [
       "0    EAGLE ROCK BLVD\n",
       "1          WORLD WAY\n",
       "2     HOLLYWOOD BLVD\n",
       "3        SUNSET BLVD\n",
       "4      ECHO PARK AVE\n",
       "Name: address, dtype: object"
      ]
     },
     "execution_count": 48,
     "metadata": {},
     "output_type": "execute_result"
    }
   ],
   "source": [
    "# applying the function to a random set:\n",
    "rest.address.head(5).apply(cleaning_add)"
   ]
  },
  {
   "cell_type": "code",
   "execution_count": 49,
   "id": "8a183a73",
   "metadata": {},
   "outputs": [
    {
     "data": {
      "text/html": [
       "<div>\n",
       "<style scoped>\n",
       "    .dataframe tbody tr th:only-of-type {\n",
       "        vertical-align: middle;\n",
       "    }\n",
       "\n",
       "    .dataframe tbody tr th {\n",
       "        vertical-align: top;\n",
       "    }\n",
       "\n",
       "    .dataframe thead th {\n",
       "        text-align: right;\n",
       "    }\n",
       "</style>\n",
       "<table border=\"1\" class=\"dataframe\">\n",
       "  <thead>\n",
       "    <tr style=\"text-align: right;\">\n",
       "      <th></th>\n",
       "      <th>id</th>\n",
       "      <th>object_name</th>\n",
       "      <th>address</th>\n",
       "      <th>chain</th>\n",
       "      <th>object_type</th>\n",
       "      <th>number</th>\n",
       "      <th>street_name</th>\n",
       "    </tr>\n",
       "  </thead>\n",
       "  <tbody>\n",
       "    <tr>\n",
       "      <th>9641</th>\n",
       "      <td>21427</td>\n",
       "      <td>OCEAN BASKETS</td>\n",
       "      <td>2851 CRENSHAW BLVD</td>\n",
       "      <td>False</td>\n",
       "      <td>Restaurant</td>\n",
       "      <td>15</td>\n",
       "      <td>CRENSHAW BLVD</td>\n",
       "    </tr>\n",
       "    <tr>\n",
       "      <th>9642</th>\n",
       "      <td>21428</td>\n",
       "      <td>TOLOSA</td>\n",
       "      <td>2635 WHITTIER BLVD</td>\n",
       "      <td>False</td>\n",
       "      <td>Restaurant</td>\n",
       "      <td>19</td>\n",
       "      <td>WHITTIER BLVD</td>\n",
       "    </tr>\n",
       "    <tr>\n",
       "      <th>9643</th>\n",
       "      <td>21429</td>\n",
       "      <td>DIVINE DIPS</td>\n",
       "      <td>601 S LOS ANGELES ST</td>\n",
       "      <td>False</td>\n",
       "      <td>Restaurant</td>\n",
       "      <td>25</td>\n",
       "      <td>LOS ANGELES ST</td>\n",
       "    </tr>\n",
       "    <tr>\n",
       "      <th>9644</th>\n",
       "      <td>21430</td>\n",
       "      <td>LA BUFADORA BAR</td>\n",
       "      <td>3470 E 1ST ST</td>\n",
       "      <td>False</td>\n",
       "      <td>Bar</td>\n",
       "      <td>24</td>\n",
       "      <td>1ST ST</td>\n",
       "    </tr>\n",
       "    <tr>\n",
       "      <th>9645</th>\n",
       "      <td>21431</td>\n",
       "      <td>SAINT MARC</td>\n",
       "      <td>10250 SANTA MONICA BLVD # 1025</td>\n",
       "      <td>False</td>\n",
       "      <td>Restaurant</td>\n",
       "      <td>225</td>\n",
       "      <td>SANTA MONICA BLVD</td>\n",
       "    </tr>\n",
       "    <tr>\n",
       "      <th>9646</th>\n",
       "      <td>21432</td>\n",
       "      <td>HALL OF JUSTICE</td>\n",
       "      <td>217 W TEMPLE AVE</td>\n",
       "      <td>False</td>\n",
       "      <td>Restaurant</td>\n",
       "      <td>122</td>\n",
       "      <td>TEMPLE AVE</td>\n",
       "    </tr>\n",
       "    <tr>\n",
       "      <th>9647</th>\n",
       "      <td>21433</td>\n",
       "      <td>FIN-MELROSE</td>\n",
       "      <td>5750 MELROSE AVE</td>\n",
       "      <td>False</td>\n",
       "      <td>Restaurant</td>\n",
       "      <td>93</td>\n",
       "      <td>MELROSE AVE</td>\n",
       "    </tr>\n",
       "    <tr>\n",
       "      <th>9648</th>\n",
       "      <td>21434</td>\n",
       "      <td>JUICY WINGZ</td>\n",
       "      <td>6741 HOLLYWOOD BLVD</td>\n",
       "      <td>True</td>\n",
       "      <td>Fast Food</td>\n",
       "      <td>15</td>\n",
       "      <td>HOLLYWOOD BLVD</td>\n",
       "    </tr>\n",
       "    <tr>\n",
       "      <th>9649</th>\n",
       "      <td>21435</td>\n",
       "      <td>MEDIDATE COFFEE</td>\n",
       "      <td>548 S SPRING ST STE 100</td>\n",
       "      <td>False</td>\n",
       "      <td>Cafe</td>\n",
       "      <td>6</td>\n",
       "      <td>SPRING ST</td>\n",
       "    </tr>\n",
       "    <tr>\n",
       "      <th>9650</th>\n",
       "      <td>21436</td>\n",
       "      <td>CAFE SPROUTS</td>\n",
       "      <td>1300 S SAN PEDRO ST STE 111</td>\n",
       "      <td>True</td>\n",
       "      <td>Restaurant</td>\n",
       "      <td>19</td>\n",
       "      <td>SAN PEDRO ST</td>\n",
       "    </tr>\n",
       "  </tbody>\n",
       "</table>\n",
       "</div>"
      ],
      "text/plain": [
       "         id      object_name                         address  chain  \\\n",
       "9641  21427    OCEAN BASKETS              2851 CRENSHAW BLVD  False   \n",
       "9642  21428           TOLOSA              2635 WHITTIER BLVD  False   \n",
       "9643  21429      DIVINE DIPS            601 S LOS ANGELES ST  False   \n",
       "9644  21430  LA BUFADORA BAR                   3470 E 1ST ST  False   \n",
       "9645  21431       SAINT MARC  10250 SANTA MONICA BLVD # 1025  False   \n",
       "9646  21432  HALL OF JUSTICE                217 W TEMPLE AVE  False   \n",
       "9647  21433      FIN-MELROSE                5750 MELROSE AVE  False   \n",
       "9648  21434      JUICY WINGZ             6741 HOLLYWOOD BLVD   True   \n",
       "9649  21435  MEDIDATE COFFEE         548 S SPRING ST STE 100  False   \n",
       "9650  21436     CAFE SPROUTS     1300 S SAN PEDRO ST STE 111   True   \n",
       "\n",
       "     object_type  number        street_name  \n",
       "9641  Restaurant      15      CRENSHAW BLVD  \n",
       "9642  Restaurant      19      WHITTIER BLVD  \n",
       "9643  Restaurant      25     LOS ANGELES ST  \n",
       "9644         Bar      24             1ST ST  \n",
       "9645  Restaurant     225  SANTA MONICA BLVD  \n",
       "9646  Restaurant     122         TEMPLE AVE  \n",
       "9647  Restaurant      93        MELROSE AVE  \n",
       "9648   Fast Food      15     HOLLYWOOD BLVD  \n",
       "9649        Cafe       6          SPRING ST  \n",
       "9650  Restaurant      19       SAN PEDRO ST  "
      ]
     },
     "execution_count": 49,
     "metadata": {},
     "output_type": "execute_result"
    }
   ],
   "source": [
    "# applying to whole column:\n",
    "rest['street_name']= rest.address.apply(cleaning_add)\n",
    "rest.tail(10)"
   ]
  },
  {
   "cell_type": "markdown",
   "id": "afcbf946",
   "metadata": {},
   "source": [
    "### 2.7 Plot a graph of the top ten streets by number of restaurants."
   ]
  },
  {
   "cell_type": "code",
   "execution_count": 50,
   "id": "4c34ec8f",
   "metadata": {},
   "outputs": [
    {
     "data": {
      "text/html": [
       "<div>\n",
       "<style scoped>\n",
       "    .dataframe tbody tr th:only-of-type {\n",
       "        vertical-align: middle;\n",
       "    }\n",
       "\n",
       "    .dataframe tbody tr th {\n",
       "        vertical-align: top;\n",
       "    }\n",
       "\n",
       "    .dataframe thead th {\n",
       "        text-align: right;\n",
       "    }\n",
       "</style>\n",
       "<table border=\"1\" class=\"dataframe\">\n",
       "  <thead>\n",
       "    <tr style=\"text-align: right;\">\n",
       "      <th></th>\n",
       "      <th>street_name</th>\n",
       "      <th>num_streets</th>\n",
       "    </tr>\n",
       "  </thead>\n",
       "  <tbody>\n",
       "    <tr>\n",
       "      <th>475</th>\n",
       "      <td>SUNSET BLVD</td>\n",
       "      <td>403</td>\n",
       "    </tr>\n",
       "    <tr>\n",
       "      <th>537</th>\n",
       "      <td>WILSHIRE BLVD</td>\n",
       "      <td>397</td>\n",
       "    </tr>\n",
       "    <tr>\n",
       "      <th>411</th>\n",
       "      <td>PICO BLVD</td>\n",
       "      <td>370</td>\n",
       "    </tr>\n",
       "    <tr>\n",
       "      <th>523</th>\n",
       "      <td>WESTERN AVE</td>\n",
       "      <td>367</td>\n",
       "    </tr>\n",
       "    <tr>\n",
       "      <th>211</th>\n",
       "      <td>FIGUEROA ST</td>\n",
       "      <td>332</td>\n",
       "    </tr>\n",
       "    <tr>\n",
       "      <th>393</th>\n",
       "      <td>OLYMPIC BLVD</td>\n",
       "      <td>309</td>\n",
       "    </tr>\n",
       "    <tr>\n",
       "      <th>502</th>\n",
       "      <td>VERMONT AVE</td>\n",
       "      <td>286</td>\n",
       "    </tr>\n",
       "    <tr>\n",
       "      <th>442</th>\n",
       "      <td>SANTA MONICA BLVD</td>\n",
       "      <td>264</td>\n",
       "    </tr>\n",
       "    <tr>\n",
       "      <th>27</th>\n",
       "      <td>3RD ST</td>\n",
       "      <td>260</td>\n",
       "    </tr>\n",
       "    <tr>\n",
       "      <th>261</th>\n",
       "      <td>HOLLYWOOD BLVD</td>\n",
       "      <td>253</td>\n",
       "    </tr>\n",
       "  </tbody>\n",
       "</table>\n",
       "</div>"
      ],
      "text/plain": [
       "           street_name  num_streets\n",
       "475        SUNSET BLVD          403\n",
       "537      WILSHIRE BLVD          397\n",
       "411          PICO BLVD          370\n",
       "523        WESTERN AVE          367\n",
       "211        FIGUEROA ST          332\n",
       "393       OLYMPIC BLVD          309\n",
       "502        VERMONT AVE          286\n",
       "442  SANTA MONICA BLVD          264\n",
       "27              3RD ST          260\n",
       "261     HOLLYWOOD BLVD          253"
      ]
     },
     "execution_count": 50,
     "metadata": {},
     "output_type": "execute_result"
    }
   ],
   "source": [
    "# calculating the number of foodservice shops per street:\n",
    "top_strts= rest.groupby(\n",
    "    'street_name')[['street_name','id']].agg({'id': 'count'}).reset_index().sort_values(by='id', ascending=False).head(10)\n",
    "top_strts= top_strts.rename(columns={'id': 'num_streets'})\n",
    "top_strts"
   ]
  },
  {
   "cell_type": "code",
   "execution_count": 51,
   "id": "84f7c554",
   "metadata": {},
   "outputs": [
    {
     "data": {
      "image/png": "[encoded data removed]"
     },
     "metadata": {},
     "output_type": "display_data"
    }
   ],
   "source": [
    "# A plot of the top 10 streets for foodservices:\n",
    "fig= px.bar(top_strts, x='street_name', y='num_streets',\n",
    "            title='Number of foodservice shops by street: Top ten streets',\n",
    "            color='street_name')\n",
    "fig.show(\"png\");"
   ]
  },
  {
   "cell_type": "markdown",
   "id": "307a30c8",
   "metadata": {},
   "source": [
    "**The top 10 selling streets in LA hold between 253 and 403 foodservice shops. Many of them are long Blvd, or Ave."
   ]
  },
  {
   "cell_type": "markdown",
   "id": "40521baa",
   "metadata": {},
   "source": [
    "### 2.8 Find the number of streets that only have one restaurant."
   ]
  },
  {
   "cell_type": "code",
   "execution_count": 52,
   "id": "e3ad4916",
   "metadata": {},
   "outputs": [
    {
     "name": "stdout",
     "output_type": "stream",
     "text": [
      "There are 250 streets that have only ONE foodservice shop\n"
     ]
    }
   ],
   "source": [
    "rest_p_strt= rest.groupby(\n",
    "    'street_name')[['street_name','id']].agg({'id': 'count'}).reset_index().rename(columns={'id': 'num_strts'})\n",
    "one_rest = rest_p_strt.query('num_strts == 1')\n",
    "print(\"There are {} streets that have only ONE foodservice shop\".format(len(one_rest)))"
   ]
  },
  {
   "cell_type": "markdown",
   "id": "ba393620",
   "metadata": {},
   "source": [
    "### 2.9 For streets with a lot of restaurants, look at the distribution of the number of seats. What trends can you see?"
   ]
  },
  {
   "cell_type": "code",
   "execution_count": 53,
   "id": "dae84d52",
   "metadata": {},
   "outputs": [
    {
     "data": {
      "text/plain": [
       "['SUNSET BLVD',\n",
       " 'WILSHIRE BLVD',\n",
       " 'PICO BLVD',\n",
       " 'WESTERN AVE',\n",
       " 'FIGUEROA ST',\n",
       " 'OLYMPIC BLVD',\n",
       " 'VERMONT AVE',\n",
       " 'SANTA MONICA BLVD',\n",
       " '3RD ST',\n",
       " 'HOLLYWOOD BLVD']"
      ]
     },
     "execution_count": 53,
     "metadata": {},
     "output_type": "execute_result"
    }
   ],
   "source": [
    "# choosing top 10 streets, and turning them to a list:\n",
    "list_top10 = top_strts.street_name.to_list()\n",
    "list_top10"
   ]
  },
  {
   "cell_type": "code",
   "execution_count": 54,
   "id": "c48c9f39",
   "metadata": {
    "scrolled": true
   },
   "outputs": [
    {
     "data": {
      "text/html": [
       "<div>\n",
       "<style scoped>\n",
       "    .dataframe tbody tr th:only-of-type {\n",
       "        vertical-align: middle;\n",
       "    }\n",
       "\n",
       "    .dataframe tbody tr th {\n",
       "        vertical-align: top;\n",
       "    }\n",
       "\n",
       "    .dataframe thead th {\n",
       "        text-align: right;\n",
       "    }\n",
       "</style>\n",
       "<table border=\"1\" class=\"dataframe\">\n",
       "  <thead>\n",
       "    <tr style=\"text-align: right;\">\n",
       "      <th></th>\n",
       "      <th>id</th>\n",
       "      <th>number</th>\n",
       "    </tr>\n",
       "  </thead>\n",
       "  <tbody>\n",
       "    <tr>\n",
       "      <th>count</th>\n",
       "      <td>3241.000000</td>\n",
       "      <td>3241.000000</td>\n",
       "    </tr>\n",
       "    <tr>\n",
       "      <th>mean</th>\n",
       "      <td>16563.081765</td>\n",
       "      <td>45.616168</td>\n",
       "    </tr>\n",
       "    <tr>\n",
       "      <th>std</th>\n",
       "      <td>2781.059645</td>\n",
       "      <td>48.026338</td>\n",
       "    </tr>\n",
       "    <tr>\n",
       "      <th>min</th>\n",
       "      <td>11788.000000</td>\n",
       "      <td>1.000000</td>\n",
       "    </tr>\n",
       "    <tr>\n",
       "      <th>25%</th>\n",
       "      <td>14125.000000</td>\n",
       "      <td>15.000000</td>\n",
       "    </tr>\n",
       "    <tr>\n",
       "      <th>50%</th>\n",
       "      <td>16451.000000</td>\n",
       "      <td>29.000000</td>\n",
       "    </tr>\n",
       "    <tr>\n",
       "      <th>75%</th>\n",
       "      <td>19017.000000</td>\n",
       "      <td>47.000000</td>\n",
       "    </tr>\n",
       "    <tr>\n",
       "      <th>max</th>\n",
       "      <td>21434.000000</td>\n",
       "      <td>229.000000</td>\n",
       "    </tr>\n",
       "  </tbody>\n",
       "</table>\n",
       "</div>"
      ],
      "text/plain": [
       "                 id       number\n",
       "count   3241.000000  3241.000000\n",
       "mean   16563.081765    45.616168\n",
       "std     2781.059645    48.026338\n",
       "min    11788.000000     1.000000\n",
       "25%    14125.000000    15.000000\n",
       "50%    16451.000000    29.000000\n",
       "75%    19017.000000    47.000000\n",
       "max    21434.000000   229.000000"
      ]
     },
     "execution_count": 54,
     "metadata": {},
     "output_type": "execute_result"
    }
   ],
   "source": [
    "# creating a dataset of these streets and descriptive statistics as well:\n",
    "df_top10 = rest.query('street_name in @list_top10')\n",
    "df_top10.describe()\n"
   ]
  },
  {
   "cell_type": "code",
   "execution_count": 55,
   "id": "a6120617",
   "metadata": {},
   "outputs": [
    {
     "data": {
      "image/png": "[encoded data removed]",
      "text/plain": [
       "<Figure size 864x576 with 1 Axes>"
      ]
     },
     "metadata": {},
     "output_type": "display_data"
    }
   ],
   "source": [
    "# A boxplot illustrating the seat distribution in the 5 top streets:\n",
    "plt.figure(figsize=(12, 8))\n",
    "sns.set(style='whitegrid', rc={\"grid.linewidth\": 0.1}, palette=\"Set2\")\n",
    "sns.set_context(\"paper\", font_scale=1.5)                                                  \n",
    "ax= sns.boxplot(x='number', y='street_name', data=df_top10)\n",
    "\n",
    "plt.title(\"The distribution of the number of seats per shop in the 10 top streets for foodservice shops\")\n",
    "plt.ylabel(\"Number of seats per shop\");"
   ]
  },
  {
   "cell_type": "markdown",
   "id": "4089eddd",
   "metadata": {},
   "source": [
    "**- The boxplot plot shows the distributions of seat numbers in foddservice shops of each of the 10 streets chosen. It seems that in most streets the majority of the shops offer between 15-47 seats, with median values of 10-35, and max value of 229. \n",
    "The seat distributions of Wilshire BLVD's shops and of Hollywood Blvd's shops stand out, having much wider interquartile ranges (IQR) and longer upper whiskers as well. Their median value is somewhat higher too.  Santa Monica Blvd, has a somewhat lower number of seats, reflected in a lower median, a narrower IQR and shorter whiskers. Outlier values are observed in all streets, stretching towards the upper side of the axis**"
   ]
  },
  {
   "cell_type": "code",
   "execution_count": 56,
   "id": "c37e132c",
   "metadata": {},
   "outputs": [
    {
     "data": {
      "text/html": [
       "<div>\n",
       "<style scoped>\n",
       "    .dataframe tbody tr th:only-of-type {\n",
       "        vertical-align: middle;\n",
       "    }\n",
       "\n",
       "    .dataframe tbody tr th {\n",
       "        vertical-align: top;\n",
       "    }\n",
       "\n",
       "    .dataframe thead th {\n",
       "        text-align: right;\n",
       "    }\n",
       "</style>\n",
       "<table border=\"1\" class=\"dataframe\">\n",
       "  <thead>\n",
       "    <tr style=\"text-align: right;\">\n",
       "      <th></th>\n",
       "      <th>street_name</th>\n",
       "      <th>foodservice_type</th>\n",
       "      <th>avg_seats</th>\n",
       "      <th>num_shops</th>\n",
       "      <th>percent_shops</th>\n",
       "    </tr>\n",
       "  </thead>\n",
       "  <tbody>\n",
       "    <tr>\n",
       "      <th>0</th>\n",
       "      <td>3RD ST</td>\n",
       "      <td>Bakery</td>\n",
       "      <td>41.090909</td>\n",
       "      <td>11</td>\n",
       "      <td>4.0</td>\n",
       "    </tr>\n",
       "    <tr>\n",
       "      <th>1</th>\n",
       "      <td>3RD ST</td>\n",
       "      <td>Bar</td>\n",
       "      <td>19.600000</td>\n",
       "      <td>5</td>\n",
       "      <td>2.0</td>\n",
       "    </tr>\n",
       "    <tr>\n",
       "      <th>2</th>\n",
       "      <td>3RD ST</td>\n",
       "      <td>Cafe</td>\n",
       "      <td>19.846154</td>\n",
       "      <td>13</td>\n",
       "      <td>5.0</td>\n",
       "    </tr>\n",
       "    <tr>\n",
       "      <th>3</th>\n",
       "      <td>3RD ST</td>\n",
       "      <td>Fast Food</td>\n",
       "      <td>39.352941</td>\n",
       "      <td>17</td>\n",
       "      <td>7.0</td>\n",
       "    </tr>\n",
       "    <tr>\n",
       "      <th>4</th>\n",
       "      <td>3RD ST</td>\n",
       "      <td>Pizza</td>\n",
       "      <td>24.750000</td>\n",
       "      <td>8</td>\n",
       "      <td>3.0</td>\n",
       "    </tr>\n",
       "  </tbody>\n",
       "</table>\n",
       "</div>"
      ],
      "text/plain": [
       "  street_name foodservice_type  avg_seats  num_shops  percent_shops\n",
       "0      3RD ST           Bakery  41.090909         11            4.0\n",
       "1      3RD ST              Bar  19.600000          5            2.0\n",
       "2      3RD ST             Cafe  19.846154         13            5.0\n",
       "3      3RD ST        Fast Food  39.352941         17            7.0\n",
       "4      3RD ST            Pizza  24.750000          8            3.0"
      ]
     },
     "execution_count": 56,
     "metadata": {},
     "output_type": "execute_result"
    }
   ],
   "source": [
    "# preparing data for a bar plot with average number of seats included:\n",
    "df_top10_2 = df_top10[['object_type', 'number','street_name']].groupby(['street_name', 'object_type']).agg({'number':['mean', 'count']}).reset_index()\n",
    "df_top10_2.columns=['street_name', 'foodservice_type', 'avg_seats', 'num_shops']\n",
    "df_top10_2['percent_shops'] = 100* (round(df_top10_2['num_shops'] / df_top10_2.groupby('street_name')['num_shops'].transform('sum'), 2))\n",
    "df_top10_2.head()\n"
   ]
  },
  {
   "cell_type": "code",
   "execution_count": 57,
   "id": "0bba39c2",
   "metadata": {},
   "outputs": [
    {
     "data": {
      "image/png": "[encoded data removed]"
     },
     "metadata": {},
     "output_type": "display_data"
    },
    {
     "data": {
      "text/plain": [
       "<Figure size 864x576 with 0 Axes>"
      ]
     },
     "metadata": {},
     "output_type": "display_data"
    }
   ],
   "source": [
    "                                                 \n",
    "plt.figure(figsize=(12, 8))  \n",
    "fig=px.bar(\n",
    "    df_top10_2, x=\"street_name\", y=\"avg_seats\", color='foodservice_type', title='Top 10 streets for foodservice shops: average number of seats',\n",
    "    hover_data=['num_shops', 'percent_shops'],\n",
    ")\n",
    "fig.show(\"png\");\n",
    "    \n",
    "\n"
   ]
  },
  {
   "cell_type": "markdown",
   "id": "c3fc2f73",
   "metadata": {},
   "source": [
    "**The bar plots adds info about the general availability (mean) of seats according to both- street and the type of foodservice.\n",
    "- As can be seen, in each street the distribution of the mean number of seats varies between the different foodservice type. For example: In Figueroa and Pico, the greatest number of seats are found in bars (maybe that's a good place for night-life activities), whereas in Sunset, Western and Wilshire the greatest amount of seats are found in restaurants. (It could be interesting to have data on peak hours of activity)\n",
    "- The order of seats per street does not correlate with the order of the number of shops per streets. Figueroa St., for example, has the lowest number of shops, but the highest number of seats.\n",
    "Focusing on Cafes: \n",
    "- Seats: Vermont and Western ave. offer the largest amount of seats compared to other streets (41 and 37, respectively), while 3rd St. and Santa Monica Blvd.'s coffee shops offer on average the lowest number of seats (19-20). Most cafes offer around 22 seats. \n",
    "- Number of coffee shops: Sunset Blvd. and Wilshire Blvd. hold (by far) the highest amount of coffee shops (28 and 25, respectively). This might indicate that these streets are not the best option for openning a new cafe. Most streets have between 7-13 coffee shops.\n",
    "- Percentage of cafes in each street: In each street the coffee shops inhabit between 2%-7% of all the foodservice types, with a general average of 4.5% (see pie plot in section 1.2). This might mean that streets in which the number of cafes is only 2% or 3% are not saturated and there is room to grow (Vermont, Western and Figueroa).\n"
   ]
  },
  {
   "cell_type": "markdown",
   "id": "61b28163",
   "metadata": {},
   "source": [
    "## 3. Conclusions:\n"
   ]
  },
  {
   "cell_type": "markdown",
   "id": "1a99ab7f",
   "metadata": {},
   "source": [
    "This project's aim was to assist decision makers regarding the opening of a small robot-run cafe in Los Angeles, by preparing market research. In order to attract investors, we are interested in providing a clear picture about the current market conditions- specifically: The distribution of foodservice shops across different types of foodservices, as well as across different streets in the city. Also, we would like to know more about the distribution of chain and non-chain shops, and the number of seats in each establishment. \n",
    "Relevant data was extracted from open-source data on restaurants in LA.\n",
    "\n",
    "**Research included 2 stages:**\n",
    "-\tPreprocessing data (dealing with missing values, looking for duplicates and changing data types).\n",
    "-\tData analysis: focusing on the distribution of shops and number of seats, across different streets, foodservice type and comparing chains to non-chain shops.\n",
    "\n",
    "**Preprocessing:** \n",
    "After dropping 3 rows with missing values, we were left with 9648 data rows of foodservice shops in Los Angeles. No duplicates were identified.\n",
    "\n",
    "**Data Analysis:**\n",
    "##### General distribution of foodservice type:\n",
    "The most popular foodservice type was a restaurant (75.18%), in a big gap from fast food (11.05%), Café (4.51%), Pizza- why isn't it fast food too.. (3.31%), bar (3.03%) and bakeries (2.93%).\n",
    "\n",
    "\n",
    "##### General distribution of shops that are part of a chain:\n",
    "- 61.9% of foodservice shops were found to belong to a chain (38.1%- non-chains). \n",
    "- Chain foodservice businesses tended to offer less seating options, compared with businesses that were not part of a chain.\n",
    "\n",
    "##### The division of shops between chain/non-chain depended on the foodservice type: \n",
    "•\tBars, restaurants and Pizza joints had a higher chance of being non-chain establishment (74% , 68% and 52% non chains, respectively).\n",
    "•\tBakeries, Cafe shops and fast food joints, on the other hand, were more often part of a chain (100%, 61% and 57%, respectively).\n",
    "\n",
    "##### General number of seats:\n",
    "\n",
    "- On average, restaurants and bars offer above average seating options, whereas fast food, pizza joints, cafe shops and bakeries offered the smallest amount (in this order). Maybe LA has a richer night than day life, in terms of foodservices, or maybe averaging data from the whole city, masks different dynamics in different neighborhoods \n",
    "- There were 186 businesses that offered only one seated customer (maybe a take away place..?), and they were from all foodservice types and chain.\n",
    "\n",
    "##### Distribution across different streets:\n",
    "\n",
    "- The top 10 street, in terms of the number of foodservice shops, had between 250 and 403 shops.\n",
    "- There were 250 streets that have only ONE foodservice shop.\n",
    "\n",
    "- Looking closer into the more crowded streets:\n",
    " - - The majority of foodservice shops offer between 15-47 seats, with median values of 10-35, and max value of 229. \n",
    " - - The seat distributions of Wilshire BLVD's shops and of Hollywood Blvd's shops stand out, having much wider interquartile ranges (IQR) and longer upper whiskers as well. Their median value is somewhat higher too.\n",
    " - - Santa Monica Blvd, has a somewhat lower number of seats, reflected in a lower median, a narrower IQR and shorter whiskers.\n",
    " - - Outlier values are observed in all streets, stretching towards the upper side of the axis.\n",
    "\n",
    "##### Street and seats interaction:\n",
    "- In each street the distribution of the mean number of seats varied between the different foodservice type. \n",
    "- For example: In Figueroa and Pico, the greatest number of seats were found in bars (maybe that's a good place for night-life activities), whereas in Sunset, Western and Wilshire the greatest number of seats were found in restaurants.\n",
    "\n",
    "##### Street, seat and number of shops:\n",
    "\n",
    "- The order of seats per street did not correlate with the order of the number of shops per streets. \n",
    "- Figueroa St., for example, has the lowest number of shops, but the highest number of seats.\n",
    "\n",
    "##### Street, seat, foodservice type and number of shops:\n",
    "\n",
    "- In general, the number of shops for each foodservice type and the average number of seats per foodservice type tended to vary between streets. \n",
    "- This implies that each street has its own characteristics that are reflected in the specific mixture of foodservices offered.\n",
    "\n",
    "**Focusing on Cafes:** \n",
    "- Seats: Vermont and Western ave. offer the largest amount of seats compared to other streets (41 and 37, respectively), while 3rd St. and Santa Monica Blvd.'s coffee shops offer on average the lowest number of seats (19-20). Most cafes offer around 22 seats. \n",
    "- Number of coffee shops: Sunset Blvd. and Wilshire Blvd. hold (by far) the highest amount of coffee shops (28 and 25, respectively). This might indicate that these streets are not the best option for opening a new cafe. Most streets have between 7-13 coffee shops.\n",
    "- Percentage of cafes in each street: In each street the coffee shops inhabit between 2%-7% of all the foodservice types, with a general average of 4.5% (see pie plot in section 1.2). This might mean that streets in which the number of cafes is only 2% or 3% are not saturated and there is room to grow (Vermont, Western and Figueroa).\n",
    "\n",
    "**Recommendations:**\n",
    "-\t1- According to this short research, it seems that a lot of the streets are not fully saturated yet, and there is room for an innovative Café, as we offer. We would suggest choosing busy areas, that are not saturated already with coffee shops (around 2-3% of the total foodservices in the street).  \n",
    "-\t2- We suggest studying deeper the characteristics of cafés customers, in different locations in the city: looking into ages and peak hours. We assume that a robo-café would be best tested in a young and vibrant area, such as a high tech or university area, where people are more apt to trying technological solutions.\n",
    "-\t3- Location wise, Since a lot of the crowded and busy streets are very long Blvd and Ave, it would be a good idea, once we choose a general location, to study the different parts of the designated street (or.. not to research by street name, but by area).\n",
    "-\t5- Cafés tend to offer around 25 seats per shop, so we suggest to follow the same custom. We should find out how common the take away option is, and maybe locate the robot kitchen in a more visible place for customers to see.\n",
    "-\t6- Most of the coffee shops are part of chains, so it might be wise to aim for it as well.\n",
    "-\t7- It is advisable to look into the financial aspects of starting a business, as well as to explore the seasonal aspects of living in a highly touristic and industrial city like LA. \n",
    "\n"
   ]
  },
  {
   "cell_type": "markdown",
   "id": "4a37d5f7",
   "metadata": {},
   "source": [
    "#### A link to the powerpoint presentation:\n",
    "https://drive.google.com/file/d/1AwNtUFEsrZFGEvUKT_3EihLCpcEOwise/view?usp=sharing"
   ]
  }
 ],
 "metadata": {
  "ExecuteTimeLog": [
   {
    "duration": 132,
    "start_time": "2022-05-17T11:05:35.530Z"
   },
   {
    "duration": 612,
    "start_time": "2022-05-17T11:05:46.499Z"
   },
   {
    "duration": 0,
    "start_time": "2022-05-17T11:05:47.115Z"
   },
   {
    "duration": 0,
    "start_time": "2022-05-17T11:05:47.116Z"
   },
   {
    "duration": 0,
    "start_time": "2022-05-17T11:05:47.119Z"
   },
   {
    "duration": 0,
    "start_time": "2022-05-17T11:05:47.120Z"
   },
   {
    "duration": 0,
    "start_time": "2022-05-17T11:05:47.121Z"
   },
   {
    "duration": 0,
    "start_time": "2022-05-17T11:05:47.123Z"
   },
   {
    "duration": 0,
    "start_time": "2022-05-17T11:05:47.125Z"
   },
   {
    "duration": 0,
    "start_time": "2022-05-17T11:05:47.127Z"
   },
   {
    "duration": 0,
    "start_time": "2022-05-17T11:05:47.128Z"
   },
   {
    "duration": 0,
    "start_time": "2022-05-17T11:05:47.130Z"
   },
   {
    "duration": 1,
    "start_time": "2022-05-17T11:05:47.161Z"
   },
   {
    "duration": 0,
    "start_time": "2022-05-17T11:05:47.164Z"
   },
   {
    "duration": 0,
    "start_time": "2022-05-17T11:05:47.166Z"
   },
   {
    "duration": 0,
    "start_time": "2022-05-17T11:05:47.168Z"
   },
   {
    "duration": 0,
    "start_time": "2022-05-17T11:05:47.170Z"
   },
   {
    "duration": 0,
    "start_time": "2022-05-17T11:05:47.172Z"
   },
   {
    "duration": 0,
    "start_time": "2022-05-17T11:05:47.174Z"
   },
   {
    "duration": 0,
    "start_time": "2022-05-17T11:05:47.175Z"
   },
   {
    "duration": 0,
    "start_time": "2022-05-17T11:05:47.177Z"
   },
   {
    "duration": 0,
    "start_time": "2022-05-17T11:05:47.179Z"
   },
   {
    "duration": 0,
    "start_time": "2022-05-17T11:05:47.181Z"
   },
   {
    "duration": 0,
    "start_time": "2022-05-17T11:05:47.182Z"
   },
   {
    "duration": 0,
    "start_time": "2022-05-17T11:05:47.184Z"
   },
   {
    "duration": 0,
    "start_time": "2022-05-17T11:05:47.185Z"
   },
   {
    "duration": 0,
    "start_time": "2022-05-17T11:05:47.186Z"
   },
   {
    "duration": 0,
    "start_time": "2022-05-17T11:05:47.188Z"
   },
   {
    "duration": 0,
    "start_time": "2022-05-17T11:05:47.189Z"
   },
   {
    "duration": 0,
    "start_time": "2022-05-17T11:05:47.191Z"
   },
   {
    "duration": 0,
    "start_time": "2022-05-17T11:05:47.192Z"
   },
   {
    "duration": 0,
    "start_time": "2022-05-17T11:05:47.193Z"
   },
   {
    "duration": 0,
    "start_time": "2022-05-17T11:05:47.195Z"
   },
   {
    "duration": 0,
    "start_time": "2022-05-17T11:05:47.196Z"
   },
   {
    "duration": 0,
    "start_time": "2022-05-17T11:05:47.198Z"
   },
   {
    "duration": 0,
    "start_time": "2022-05-17T11:05:47.260Z"
   },
   {
    "duration": 0,
    "start_time": "2022-05-17T11:05:47.261Z"
   },
   {
    "duration": 0,
    "start_time": "2022-05-17T11:05:47.263Z"
   },
   {
    "duration": 0,
    "start_time": "2022-05-17T11:05:47.264Z"
   },
   {
    "duration": 0,
    "start_time": "2022-05-17T11:05:47.266Z"
   },
   {
    "duration": 0,
    "start_time": "2022-05-17T11:05:47.270Z"
   },
   {
    "duration": 0,
    "start_time": "2022-05-17T11:05:47.273Z"
   },
   {
    "duration": 7669,
    "start_time": "2022-05-17T11:08:40.084Z"
   },
   {
    "duration": 1104,
    "start_time": "2022-05-17T11:08:48.521Z"
   },
   {
    "duration": 3549,
    "start_time": "2022-05-17T11:08:57.668Z"
   },
   {
    "duration": 1710,
    "start_time": "2022-05-17T11:09:01.220Z"
   },
   {
    "duration": 111,
    "start_time": "2022-05-17T11:09:02.932Z"
   },
   {
    "duration": 96,
    "start_time": "2022-05-17T11:09:03.046Z"
   },
   {
    "duration": 36,
    "start_time": "2022-05-17T11:09:03.144Z"
   },
   {
    "duration": 57,
    "start_time": "2022-05-17T11:09:03.183Z"
   },
   {
    "duration": 124,
    "start_time": "2022-05-17T11:09:03.243Z"
   },
   {
    "duration": 47,
    "start_time": "2022-05-17T11:09:03.369Z"
   },
   {
    "duration": 58,
    "start_time": "2022-05-17T11:09:03.418Z"
   },
   {
    "duration": 27,
    "start_time": "2022-05-17T11:09:03.479Z"
   },
   {
    "duration": 27,
    "start_time": "2022-05-17T11:09:03.508Z"
   },
   {
    "duration": 32,
    "start_time": "2022-05-17T11:09:03.537Z"
   },
   {
    "duration": 42,
    "start_time": "2022-05-17T11:09:03.571Z"
   },
   {
    "duration": 60,
    "start_time": "2022-05-17T11:09:03.616Z"
   },
   {
    "duration": 26,
    "start_time": "2022-05-17T11:09:03.679Z"
   },
   {
    "duration": 57,
    "start_time": "2022-05-17T11:09:03.708Z"
   },
   {
    "duration": 285,
    "start_time": "2022-05-17T11:09:03.768Z"
   },
   {
    "duration": 23,
    "start_time": "2022-05-17T11:09:04.059Z"
   },
   {
    "duration": 211,
    "start_time": "2022-05-17T11:09:04.085Z"
   },
   {
    "duration": 34,
    "start_time": "2022-05-17T11:09:04.299Z"
   },
   {
    "duration": 162,
    "start_time": "2022-05-17T11:09:04.358Z"
   },
   {
    "duration": 0,
    "start_time": "2022-05-17T11:09:04.524Z"
   },
   {
    "duration": 0,
    "start_time": "2022-05-17T11:09:04.526Z"
   },
   {
    "duration": 0,
    "start_time": "2022-05-17T11:09:04.528Z"
   },
   {
    "duration": 0,
    "start_time": "2022-05-17T11:09:04.531Z"
   },
   {
    "duration": 0,
    "start_time": "2022-05-17T11:09:04.533Z"
   },
   {
    "duration": 0,
    "start_time": "2022-05-17T11:09:04.535Z"
   },
   {
    "duration": 0,
    "start_time": "2022-05-17T11:09:04.559Z"
   },
   {
    "duration": 0,
    "start_time": "2022-05-17T11:09:04.561Z"
   },
   {
    "duration": 0,
    "start_time": "2022-05-17T11:09:04.564Z"
   },
   {
    "duration": 0,
    "start_time": "2022-05-17T11:09:04.566Z"
   },
   {
    "duration": 0,
    "start_time": "2022-05-17T11:09:04.569Z"
   },
   {
    "duration": 0,
    "start_time": "2022-05-17T11:09:04.571Z"
   },
   {
    "duration": 0,
    "start_time": "2022-05-17T11:09:04.573Z"
   },
   {
    "duration": 0,
    "start_time": "2022-05-17T11:09:04.575Z"
   },
   {
    "duration": 0,
    "start_time": "2022-05-17T11:09:04.578Z"
   },
   {
    "duration": 0,
    "start_time": "2022-05-17T11:09:04.580Z"
   },
   {
    "duration": 0,
    "start_time": "2022-05-17T11:09:04.582Z"
   },
   {
    "duration": 0,
    "start_time": "2022-05-17T11:09:04.584Z"
   },
   {
    "duration": 0,
    "start_time": "2022-05-17T11:09:04.586Z"
   },
   {
    "duration": 0,
    "start_time": "2022-05-17T11:09:04.588Z"
   },
   {
    "duration": 0,
    "start_time": "2022-05-17T11:09:04.590Z"
   },
   {
    "duration": 622,
    "start_time": "2022-05-17T11:13:09.024Z"
   },
   {
    "duration": 150,
    "start_time": "2022-05-17T11:16:39.829Z"
   },
   {
    "duration": 21,
    "start_time": "2022-05-17T11:16:39.981Z"
   },
   {
    "duration": 15,
    "start_time": "2022-05-17T11:16:40.005Z"
   },
   {
    "duration": 101,
    "start_time": "2022-05-17T11:16:40.058Z"
   },
   {
    "duration": 17,
    "start_time": "2022-05-17T11:16:40.162Z"
   },
   {
    "duration": 163,
    "start_time": "2022-05-17T11:16:40.182Z"
   },
   {
    "duration": 18,
    "start_time": "2022-05-17T11:16:40.348Z"
   },
   {
    "duration": 9,
    "start_time": "2022-05-17T11:16:40.369Z"
   },
   {
    "duration": 9,
    "start_time": "2022-05-17T11:16:40.380Z"
   },
   {
    "duration": 13,
    "start_time": "2022-05-17T11:16:40.391Z"
   },
   {
    "duration": 7,
    "start_time": "2022-05-17T11:16:40.406Z"
   },
   {
    "duration": 13,
    "start_time": "2022-05-17T11:16:40.416Z"
   },
   {
    "duration": 2129,
    "start_time": "2022-05-17T11:16:40.979Z"
   },
   {
    "duration": 21,
    "start_time": "2022-05-17T11:16:43.111Z"
   },
   {
    "duration": 145,
    "start_time": "2022-05-17T11:16:43.134Z"
   },
   {
    "duration": 19,
    "start_time": "2022-05-17T11:16:43.283Z"
   },
   {
    "duration": 9,
    "start_time": "2022-05-17T11:16:43.304Z"
   },
   {
    "duration": 61,
    "start_time": "2022-05-17T11:16:43.315Z"
   },
   {
    "duration": 500,
    "start_time": "2022-05-17T11:16:43.378Z"
   },
   {
    "duration": 36,
    "start_time": "2022-05-17T11:16:43.881Z"
   },
   {
    "duration": 147,
    "start_time": "2022-05-17T11:16:43.919Z"
   },
   {
    "duration": 47,
    "start_time": "2022-05-17T11:46:52.224Z"
   },
   {
    "duration": 9094,
    "start_time": "2022-05-17T12:31:08.434Z"
   },
   {
    "duration": 7008,
    "start_time": "2022-05-17T12:31:30.504Z"
   },
   {
    "duration": 6275,
    "start_time": "2022-05-17T12:31:37.515Z"
   },
   {
    "duration": 469,
    "start_time": "2022-05-17T12:31:43.792Z"
   },
   {
    "duration": 0,
    "start_time": "2022-05-17T12:31:44.264Z"
   },
   {
    "duration": 0,
    "start_time": "2022-05-17T12:31:44.264Z"
   },
   {
    "duration": 0,
    "start_time": "2022-05-17T12:31:44.265Z"
   },
   {
    "duration": 0,
    "start_time": "2022-05-17T12:31:44.267Z"
   },
   {
    "duration": 0,
    "start_time": "2022-05-17T12:31:44.267Z"
   },
   {
    "duration": 0,
    "start_time": "2022-05-17T12:31:44.268Z"
   },
   {
    "duration": 0,
    "start_time": "2022-05-17T12:31:44.270Z"
   },
   {
    "duration": 0,
    "start_time": "2022-05-17T12:31:44.271Z"
   },
   {
    "duration": 0,
    "start_time": "2022-05-17T12:31:44.272Z"
   },
   {
    "duration": 0,
    "start_time": "2022-05-17T12:31:44.273Z"
   },
   {
    "duration": 0,
    "start_time": "2022-05-17T12:31:44.274Z"
   },
   {
    "duration": 0,
    "start_time": "2022-05-17T12:31:44.275Z"
   },
   {
    "duration": 0,
    "start_time": "2022-05-17T12:31:44.276Z"
   },
   {
    "duration": 0,
    "start_time": "2022-05-17T12:31:44.277Z"
   },
   {
    "duration": 0,
    "start_time": "2022-05-17T12:31:44.278Z"
   },
   {
    "duration": 0,
    "start_time": "2022-05-17T12:31:44.279Z"
   },
   {
    "duration": 0,
    "start_time": "2022-05-17T12:31:44.280Z"
   },
   {
    "duration": 0,
    "start_time": "2022-05-17T12:31:44.281Z"
   },
   {
    "duration": 0,
    "start_time": "2022-05-17T12:31:44.283Z"
   },
   {
    "duration": 0,
    "start_time": "2022-05-17T12:31:44.284Z"
   },
   {
    "duration": 0,
    "start_time": "2022-05-17T12:31:44.284Z"
   },
   {
    "duration": 0,
    "start_time": "2022-05-17T12:31:44.285Z"
   },
   {
    "duration": 0,
    "start_time": "2022-05-17T12:31:44.287Z"
   },
   {
    "duration": 0,
    "start_time": "2022-05-17T12:31:44.288Z"
   },
   {
    "duration": 0,
    "start_time": "2022-05-17T12:31:44.289Z"
   },
   {
    "duration": 0,
    "start_time": "2022-05-17T12:31:44.290Z"
   },
   {
    "duration": 0,
    "start_time": "2022-05-17T12:31:44.291Z"
   },
   {
    "duration": 0,
    "start_time": "2022-05-17T12:31:44.292Z"
   },
   {
    "duration": 0,
    "start_time": "2022-05-17T12:31:44.293Z"
   },
   {
    "duration": 0,
    "start_time": "2022-05-17T12:31:44.342Z"
   },
   {
    "duration": 0,
    "start_time": "2022-05-17T12:31:44.344Z"
   },
   {
    "duration": 0,
    "start_time": "2022-05-17T12:31:44.345Z"
   },
   {
    "duration": 0,
    "start_time": "2022-05-17T12:31:44.346Z"
   },
   {
    "duration": 0,
    "start_time": "2022-05-17T12:31:44.347Z"
   },
   {
    "duration": 0,
    "start_time": "2022-05-17T12:31:44.348Z"
   },
   {
    "duration": 0,
    "start_time": "2022-05-17T12:31:44.350Z"
   },
   {
    "duration": 0,
    "start_time": "2022-05-17T12:31:44.351Z"
   },
   {
    "duration": 0,
    "start_time": "2022-05-17T12:31:44.354Z"
   },
   {
    "duration": 0,
    "start_time": "2022-05-17T12:31:44.355Z"
   },
   {
    "duration": 0,
    "start_time": "2022-05-17T12:31:44.356Z"
   },
   {
    "duration": 2365,
    "start_time": "2022-05-17T12:35:31.004Z"
   },
   {
    "duration": 437,
    "start_time": "2022-05-17T12:35:33.372Z"
   },
   {
    "duration": 0,
    "start_time": "2022-05-17T12:35:33.812Z"
   },
   {
    "duration": 0,
    "start_time": "2022-05-17T12:35:33.813Z"
   },
   {
    "duration": 0,
    "start_time": "2022-05-17T12:35:33.814Z"
   },
   {
    "duration": 0,
    "start_time": "2022-05-17T12:35:33.815Z"
   },
   {
    "duration": 0,
    "start_time": "2022-05-17T12:35:33.816Z"
   },
   {
    "duration": 0,
    "start_time": "2022-05-17T12:35:33.817Z"
   },
   {
    "duration": 0,
    "start_time": "2022-05-17T12:35:33.818Z"
   },
   {
    "duration": 0,
    "start_time": "2022-05-17T12:35:33.819Z"
   },
   {
    "duration": 0,
    "start_time": "2022-05-17T12:35:33.820Z"
   },
   {
    "duration": 0,
    "start_time": "2022-05-17T12:35:33.821Z"
   },
   {
    "duration": 0,
    "start_time": "2022-05-17T12:35:33.844Z"
   },
   {
    "duration": 0,
    "start_time": "2022-05-17T12:35:33.846Z"
   },
   {
    "duration": 0,
    "start_time": "2022-05-17T12:35:33.847Z"
   },
   {
    "duration": 0,
    "start_time": "2022-05-17T12:35:33.849Z"
   },
   {
    "duration": 0,
    "start_time": "2022-05-17T12:35:33.853Z"
   },
   {
    "duration": 0,
    "start_time": "2022-05-17T12:35:33.854Z"
   },
   {
    "duration": 0,
    "start_time": "2022-05-17T12:35:33.855Z"
   },
   {
    "duration": 0,
    "start_time": "2022-05-17T12:35:33.855Z"
   },
   {
    "duration": 0,
    "start_time": "2022-05-17T12:35:33.857Z"
   },
   {
    "duration": 0,
    "start_time": "2022-05-17T12:35:33.858Z"
   },
   {
    "duration": 0,
    "start_time": "2022-05-17T12:35:33.860Z"
   },
   {
    "duration": 0,
    "start_time": "2022-05-17T12:35:33.861Z"
   },
   {
    "duration": 0,
    "start_time": "2022-05-17T12:35:33.863Z"
   },
   {
    "duration": 0,
    "start_time": "2022-05-17T12:35:33.864Z"
   },
   {
    "duration": 0,
    "start_time": "2022-05-17T12:35:33.865Z"
   },
   {
    "duration": 0,
    "start_time": "2022-05-17T12:35:33.866Z"
   },
   {
    "duration": 0,
    "start_time": "2022-05-17T12:35:33.867Z"
   },
   {
    "duration": 0,
    "start_time": "2022-05-17T12:35:33.868Z"
   },
   {
    "duration": 0,
    "start_time": "2022-05-17T12:35:33.869Z"
   },
   {
    "duration": 0,
    "start_time": "2022-05-17T12:35:33.870Z"
   },
   {
    "duration": 0,
    "start_time": "2022-05-17T12:35:33.871Z"
   },
   {
    "duration": 0,
    "start_time": "2022-05-17T12:35:33.872Z"
   },
   {
    "duration": 0,
    "start_time": "2022-05-17T12:35:33.873Z"
   },
   {
    "duration": 0,
    "start_time": "2022-05-17T12:35:33.874Z"
   },
   {
    "duration": 0,
    "start_time": "2022-05-17T12:35:33.875Z"
   },
   {
    "duration": 0,
    "start_time": "2022-05-17T12:35:33.876Z"
   },
   {
    "duration": 0,
    "start_time": "2022-05-17T12:35:33.877Z"
   },
   {
    "duration": 0,
    "start_time": "2022-05-17T12:35:33.878Z"
   },
   {
    "duration": 0,
    "start_time": "2022-05-17T12:35:33.879Z"
   },
   {
    "duration": 0,
    "start_time": "2022-05-17T12:35:33.880Z"
   },
   {
    "duration": 3228,
    "start_time": "2022-05-17T12:39:11.360Z"
   },
   {
    "duration": 2243,
    "start_time": "2022-05-17T12:39:28.881Z"
   },
   {
    "duration": 2251,
    "start_time": "2022-05-17T12:39:31.126Z"
   },
   {
    "duration": 1356,
    "start_time": "2022-05-17T12:39:33.379Z"
   },
   {
    "duration": 122,
    "start_time": "2022-05-17T12:39:34.738Z"
   },
   {
    "duration": 24,
    "start_time": "2022-05-17T12:39:34.861Z"
   },
   {
    "duration": 8,
    "start_time": "2022-05-17T12:39:34.886Z"
   },
   {
    "duration": 23,
    "start_time": "2022-05-17T12:39:34.895Z"
   },
   {
    "duration": 9,
    "start_time": "2022-05-17T12:39:34.919Z"
   },
   {
    "duration": 31,
    "start_time": "2022-05-17T12:39:34.929Z"
   },
   {
    "duration": 14,
    "start_time": "2022-05-17T12:39:34.963Z"
   },
   {
    "duration": 4,
    "start_time": "2022-05-17T12:39:34.979Z"
   },
   {
    "duration": 13,
    "start_time": "2022-05-17T12:39:34.985Z"
   },
   {
    "duration": 21,
    "start_time": "2022-05-17T12:39:34.999Z"
   },
   {
    "duration": 31,
    "start_time": "2022-05-17T12:39:35.022Z"
   },
   {
    "duration": 34,
    "start_time": "2022-05-17T12:39:35.056Z"
   },
   {
    "duration": 16,
    "start_time": "2022-05-17T12:39:35.091Z"
   },
   {
    "duration": 38,
    "start_time": "2022-05-17T12:39:35.108Z"
   },
   {
    "duration": 150,
    "start_time": "2022-05-17T12:39:35.149Z"
   },
   {
    "duration": 14,
    "start_time": "2022-05-17T12:39:35.301Z"
   },
   {
    "duration": 113,
    "start_time": "2022-05-17T12:39:35.317Z"
   },
   {
    "duration": 32,
    "start_time": "2022-05-17T12:39:35.431Z"
   },
   {
    "duration": 464,
    "start_time": "2022-05-17T12:39:35.465Z"
   },
   {
    "duration": 145,
    "start_time": "2022-05-17T12:39:35.931Z"
   },
   {
    "duration": 11,
    "start_time": "2022-05-17T12:39:36.078Z"
   },
   {
    "duration": 14,
    "start_time": "2022-05-17T12:39:36.090Z"
   },
   {
    "duration": 83,
    "start_time": "2022-05-17T12:39:36.105Z"
   },
   {
    "duration": 12,
    "start_time": "2022-05-17T12:39:36.190Z"
   },
   {
    "duration": 110,
    "start_time": "2022-05-17T12:39:36.206Z"
   },
   {
    "duration": 10,
    "start_time": "2022-05-17T12:39:36.318Z"
   },
   {
    "duration": 4,
    "start_time": "2022-05-17T12:39:36.330Z"
   },
   {
    "duration": 7,
    "start_time": "2022-05-17T12:39:36.336Z"
   },
   {
    "duration": 18,
    "start_time": "2022-05-17T12:39:36.345Z"
   },
   {
    "duration": 6,
    "start_time": "2022-05-17T12:39:36.364Z"
   },
   {
    "duration": 10,
    "start_time": "2022-05-17T12:39:36.372Z"
   },
   {
    "duration": 1164,
    "start_time": "2022-05-17T12:39:36.383Z"
   },
   {
    "duration": 15,
    "start_time": "2022-05-17T12:39:37.549Z"
   },
   {
    "duration": 89,
    "start_time": "2022-05-17T12:39:37.566Z"
   },
   {
    "duration": 13,
    "start_time": "2022-05-17T12:39:37.658Z"
   },
   {
    "duration": 4,
    "start_time": "2022-05-17T12:39:37.673Z"
   },
   {
    "duration": 17,
    "start_time": "2022-05-17T12:39:37.678Z"
   },
   {
    "duration": 294,
    "start_time": "2022-05-17T12:39:37.697Z"
   },
   {
    "duration": 23,
    "start_time": "2022-05-17T12:39:37.993Z"
   },
   {
    "duration": 88,
    "start_time": "2022-05-17T12:39:38.017Z"
   },
   {
    "duration": 3048,
    "start_time": "2022-05-17T12:41:06.927Z"
   },
   {
    "duration": 2383,
    "start_time": "2022-05-17T12:41:20.160Z"
   },
   {
    "duration": 2350,
    "start_time": "2022-05-17T12:41:22.546Z"
   },
   {
    "duration": 2294,
    "start_time": "2022-05-17T12:41:24.897Z"
   },
   {
    "duration": 1235,
    "start_time": "2022-05-17T12:41:27.194Z"
   },
   {
    "duration": 120,
    "start_time": "2022-05-17T12:41:28.431Z"
   },
   {
    "duration": 25,
    "start_time": "2022-05-17T12:41:28.553Z"
   },
   {
    "duration": 8,
    "start_time": "2022-05-17T12:41:28.579Z"
   },
   {
    "duration": 16,
    "start_time": "2022-05-17T12:41:28.589Z"
   },
   {
    "duration": 8,
    "start_time": "2022-05-17T12:41:28.607Z"
   },
   {
    "duration": 28,
    "start_time": "2022-05-17T12:41:28.645Z"
   },
   {
    "duration": 17,
    "start_time": "2022-05-17T12:41:28.675Z"
   },
   {
    "duration": 3,
    "start_time": "2022-05-17T12:41:28.693Z"
   },
   {
    "duration": 7,
    "start_time": "2022-05-17T12:41:28.698Z"
   },
   {
    "duration": 43,
    "start_time": "2022-05-17T12:41:28.707Z"
   },
   {
    "duration": 22,
    "start_time": "2022-05-17T12:41:28.752Z"
   },
   {
    "duration": 31,
    "start_time": "2022-05-17T12:41:28.775Z"
   },
   {
    "duration": 16,
    "start_time": "2022-05-17T12:41:28.808Z"
   },
   {
    "duration": 30,
    "start_time": "2022-05-17T12:41:28.825Z"
   },
   {
    "duration": 161,
    "start_time": "2022-05-17T12:41:28.857Z"
   },
   {
    "duration": 25,
    "start_time": "2022-05-17T12:41:29.020Z"
   },
   {
    "duration": 114,
    "start_time": "2022-05-17T12:41:29.047Z"
   },
   {
    "duration": 23,
    "start_time": "2022-05-17T12:41:29.163Z"
   },
   {
    "duration": 525,
    "start_time": "2022-05-17T12:41:29.188Z"
   },
   {
    "duration": 181,
    "start_time": "2022-05-17T12:41:29.715Z"
   },
   {
    "duration": 12,
    "start_time": "2022-05-17T12:41:29.898Z"
   },
   {
    "duration": 18,
    "start_time": "2022-05-17T12:41:29.943Z"
   },
   {
    "duration": 95,
    "start_time": "2022-05-17T12:41:29.965Z"
   },
   {
    "duration": 13,
    "start_time": "2022-05-17T12:41:30.064Z"
   },
   {
    "duration": 97,
    "start_time": "2022-05-17T12:41:30.079Z"
   },
   {
    "duration": 10,
    "start_time": "2022-05-17T12:41:30.179Z"
   },
   {
    "duration": 26,
    "start_time": "2022-05-17T12:41:30.191Z"
   },
   {
    "duration": 8,
    "start_time": "2022-05-17T12:41:30.219Z"
   },
   {
    "duration": 20,
    "start_time": "2022-05-17T12:41:30.229Z"
   },
   {
    "duration": 15,
    "start_time": "2022-05-17T12:41:30.251Z"
   },
   {
    "duration": 26,
    "start_time": "2022-05-17T12:41:30.268Z"
   },
   {
    "duration": 1603,
    "start_time": "2022-05-17T12:41:30.295Z"
   },
   {
    "duration": 16,
    "start_time": "2022-05-17T12:41:31.900Z"
   },
   {
    "duration": 127,
    "start_time": "2022-05-17T12:41:31.918Z"
   },
   {
    "duration": 15,
    "start_time": "2022-05-17T12:41:32.050Z"
   },
   {
    "duration": 28,
    "start_time": "2022-05-17T12:41:32.067Z"
   },
   {
    "duration": 23,
    "start_time": "2022-05-17T12:41:32.098Z"
   },
   {
    "duration": 296,
    "start_time": "2022-05-17T12:41:32.123Z"
   },
   {
    "duration": 41,
    "start_time": "2022-05-17T12:41:32.421Z"
   },
   {
    "duration": 90,
    "start_time": "2022-05-17T12:41:32.464Z"
   },
   {
    "duration": 18,
    "start_time": "2022-05-17T12:49:31.207Z"
   },
   {
    "duration": 17,
    "start_time": "2022-05-17T12:51:40.692Z"
   },
   {
    "duration": 2291,
    "start_time": "2022-05-17T12:53:38.512Z"
   },
   {
    "duration": 2288,
    "start_time": "2022-05-17T12:53:40.805Z"
   },
   {
    "duration": 2379,
    "start_time": "2022-05-17T12:53:43.095Z"
   },
   {
    "duration": 1247,
    "start_time": "2022-05-17T12:53:45.476Z"
   },
   {
    "duration": 109,
    "start_time": "2022-05-17T12:53:46.725Z"
   },
   {
    "duration": 27,
    "start_time": "2022-05-17T12:53:46.835Z"
   },
   {
    "duration": 7,
    "start_time": "2022-05-17T12:53:46.863Z"
   },
   {
    "duration": 14,
    "start_time": "2022-05-17T12:53:46.871Z"
   },
   {
    "duration": 9,
    "start_time": "2022-05-17T12:53:46.886Z"
   },
   {
    "duration": 18,
    "start_time": "2022-05-17T12:53:46.897Z"
   },
   {
    "duration": 21,
    "start_time": "2022-05-17T12:53:46.943Z"
   },
   {
    "duration": 3,
    "start_time": "2022-05-17T12:53:46.965Z"
   },
   {
    "duration": 6,
    "start_time": "2022-05-17T12:53:46.970Z"
   },
   {
    "duration": 9,
    "start_time": "2022-05-17T12:53:46.977Z"
   },
   {
    "duration": 16,
    "start_time": "2022-05-17T12:53:46.988Z"
   },
   {
    "duration": 63,
    "start_time": "2022-05-17T12:53:47.005Z"
   },
   {
    "duration": 15,
    "start_time": "2022-05-17T12:53:47.070Z"
   },
   {
    "duration": 17,
    "start_time": "2022-05-17T12:53:47.087Z"
   },
   {
    "duration": 175,
    "start_time": "2022-05-17T12:53:47.106Z"
   },
   {
    "duration": 14,
    "start_time": "2022-05-17T12:53:47.283Z"
   },
   {
    "duration": 122,
    "start_time": "2022-05-17T12:53:47.298Z"
   },
   {
    "duration": 34,
    "start_time": "2022-05-17T12:53:47.422Z"
   },
   {
    "duration": 503,
    "start_time": "2022-05-17T12:53:47.458Z"
   },
   {
    "duration": 146,
    "start_time": "2022-05-17T12:53:47.962Z"
   },
   {
    "duration": 46,
    "start_time": "2022-05-17T12:53:48.110Z"
   },
   {
    "duration": 22,
    "start_time": "2022-05-17T12:53:48.157Z"
   },
   {
    "duration": 69,
    "start_time": "2022-05-17T12:53:48.181Z"
   },
   {
    "duration": 14,
    "start_time": "2022-05-17T12:53:48.255Z"
   },
   {
    "duration": 11,
    "start_time": "2022-05-17T12:53:48.271Z"
   },
   {
    "duration": 100,
    "start_time": "2022-05-17T12:53:48.283Z"
   },
   {
    "duration": 10,
    "start_time": "2022-05-17T12:53:48.385Z"
   },
   {
    "duration": 5,
    "start_time": "2022-05-17T12:53:48.397Z"
   },
   {
    "duration": 10,
    "start_time": "2022-05-17T12:53:48.404Z"
   },
   {
    "duration": 11,
    "start_time": "2022-05-17T12:53:48.416Z"
   },
   {
    "duration": 6,
    "start_time": "2022-05-17T12:53:48.443Z"
   },
   {
    "duration": 19,
    "start_time": "2022-05-17T12:53:48.451Z"
   },
   {
    "duration": 1133,
    "start_time": "2022-05-17T12:53:48.471Z"
   },
   {
    "duration": 17,
    "start_time": "2022-05-17T12:53:49.605Z"
   },
   {
    "duration": 91,
    "start_time": "2022-05-17T12:53:49.624Z"
   },
   {
    "duration": 31,
    "start_time": "2022-05-17T12:53:49.717Z"
   },
   {
    "duration": 4,
    "start_time": "2022-05-17T12:53:49.751Z"
   },
   {
    "duration": 21,
    "start_time": "2022-05-17T12:53:49.757Z"
   },
   {
    "duration": 292,
    "start_time": "2022-05-17T12:53:49.780Z"
   },
   {
    "duration": 23,
    "start_time": "2022-05-17T12:53:50.074Z"
   },
   {
    "duration": 93,
    "start_time": "2022-05-17T12:53:50.099Z"
   },
   {
    "duration": 9,
    "start_time": "2022-05-17T12:54:58.657Z"
   },
   {
    "duration": 13,
    "start_time": "2022-05-17T13:01:29.172Z"
   },
   {
    "duration": 16,
    "start_time": "2022-05-17T13:02:02.844Z"
   },
   {
    "duration": 16,
    "start_time": "2022-05-17T13:02:58.991Z"
   },
   {
    "duration": 17,
    "start_time": "2022-05-17T13:03:32.088Z"
   },
   {
    "duration": 22,
    "start_time": "2022-05-17T13:03:48.160Z"
   },
   {
    "duration": 2892,
    "start_time": "2022-05-17T13:06:09.859Z"
   },
   {
    "duration": 9,
    "start_time": "2022-05-17T13:06:24.080Z"
   },
   {
    "duration": 16,
    "start_time": "2022-05-17T13:06:42.249Z"
   },
   {
    "duration": 7,
    "start_time": "2022-05-17T13:07:12.235Z"
   },
   {
    "duration": 8,
    "start_time": "2022-05-17T13:07:20.123Z"
   },
   {
    "duration": 2324,
    "start_time": "2022-05-17T13:07:41.187Z"
   },
   {
    "duration": 2477,
    "start_time": "2022-05-17T13:07:43.513Z"
   },
   {
    "duration": 2362,
    "start_time": "2022-05-17T13:07:45.992Z"
   },
   {
    "duration": 1282,
    "start_time": "2022-05-17T13:07:48.356Z"
   },
   {
    "duration": 125,
    "start_time": "2022-05-17T13:07:49.640Z"
   },
   {
    "duration": 23,
    "start_time": "2022-05-17T13:07:49.767Z"
   },
   {
    "duration": 8,
    "start_time": "2022-05-17T13:07:49.791Z"
   },
   {
    "duration": 35,
    "start_time": "2022-05-17T13:07:49.800Z"
   },
   {
    "duration": 8,
    "start_time": "2022-05-17T13:07:49.837Z"
   },
   {
    "duration": 27,
    "start_time": "2022-05-17T13:07:49.848Z"
   },
   {
    "duration": 13,
    "start_time": "2022-05-17T13:07:49.876Z"
   },
   {
    "duration": 3,
    "start_time": "2022-05-17T13:07:49.891Z"
   },
   {
    "duration": 24,
    "start_time": "2022-05-17T13:07:49.896Z"
   },
   {
    "duration": 19,
    "start_time": "2022-05-17T13:07:49.921Z"
   },
   {
    "duration": 28,
    "start_time": "2022-05-17T13:07:49.942Z"
   },
   {
    "duration": 39,
    "start_time": "2022-05-17T13:07:49.971Z"
   },
   {
    "duration": 19,
    "start_time": "2022-05-17T13:07:50.012Z"
   },
   {
    "duration": 41,
    "start_time": "2022-05-17T13:07:50.033Z"
   },
   {
    "duration": 155,
    "start_time": "2022-05-17T13:07:50.076Z"
   },
   {
    "duration": 22,
    "start_time": "2022-05-17T13:07:50.233Z"
   },
   {
    "duration": 108,
    "start_time": "2022-05-17T13:07:50.256Z"
   },
   {
    "duration": 21,
    "start_time": "2022-05-17T13:07:50.365Z"
   },
   {
    "duration": 507,
    "start_time": "2022-05-17T13:07:50.387Z"
   },
   {
    "duration": 175,
    "start_time": "2022-05-17T13:07:50.895Z"
   },
   {
    "duration": 14,
    "start_time": "2022-05-17T13:07:51.071Z"
   },
   {
    "duration": 12,
    "start_time": "2022-05-17T13:07:51.087Z"
   },
   {
    "duration": 80,
    "start_time": "2022-05-17T13:07:51.100Z"
   },
   {
    "duration": 9,
    "start_time": "2022-05-17T13:07:51.184Z"
   },
   {
    "duration": 18,
    "start_time": "2022-05-17T13:07:51.195Z"
   },
   {
    "duration": 174,
    "start_time": "2022-05-17T13:07:51.215Z"
   },
   {
    "duration": 0,
    "start_time": "2022-05-17T13:07:51.391Z"
   },
   {
    "duration": 0,
    "start_time": "2022-05-17T13:07:51.393Z"
   },
   {
    "duration": 0,
    "start_time": "2022-05-17T13:07:51.394Z"
   },
   {
    "duration": 0,
    "start_time": "2022-05-17T13:07:51.396Z"
   },
   {
    "duration": 0,
    "start_time": "2022-05-17T13:07:51.398Z"
   },
   {
    "duration": 1,
    "start_time": "2022-05-17T13:07:51.399Z"
   },
   {
    "duration": 0,
    "start_time": "2022-05-17T13:07:51.401Z"
   },
   {
    "duration": 0,
    "start_time": "2022-05-17T13:07:51.403Z"
   },
   {
    "duration": 0,
    "start_time": "2022-05-17T13:07:51.404Z"
   },
   {
    "duration": 1,
    "start_time": "2022-05-17T13:07:51.405Z"
   },
   {
    "duration": 0,
    "start_time": "2022-05-17T13:07:51.407Z"
   },
   {
    "duration": 0,
    "start_time": "2022-05-17T13:07:51.409Z"
   },
   {
    "duration": 0,
    "start_time": "2022-05-17T13:07:51.443Z"
   },
   {
    "duration": 0,
    "start_time": "2022-05-17T13:07:51.444Z"
   },
   {
    "duration": 1,
    "start_time": "2022-05-17T13:07:51.445Z"
   },
   {
    "duration": 0,
    "start_time": "2022-05-17T13:07:51.447Z"
   },
   {
    "duration": 0,
    "start_time": "2022-05-17T13:07:51.448Z"
   },
   {
    "duration": 11,
    "start_time": "2022-05-17T13:10:51.772Z"
   },
   {
    "duration": 114,
    "start_time": "2022-05-17T13:12:09.329Z"
   },
   {
    "duration": 14,
    "start_time": "2022-05-17T13:12:21.651Z"
   },
   {
    "duration": 22,
    "start_time": "2022-05-17T13:13:49.708Z"
   },
   {
    "duration": 17,
    "start_time": "2022-05-17T13:14:43.787Z"
   },
   {
    "duration": 17,
    "start_time": "2022-05-17T13:15:00.059Z"
   },
   {
    "duration": 15,
    "start_time": "2022-05-17T13:15:07.480Z"
   },
   {
    "duration": 17,
    "start_time": "2022-05-17T13:15:13.683Z"
   },
   {
    "duration": 17,
    "start_time": "2022-05-17T13:17:00.424Z"
   },
   {
    "duration": 55,
    "start_time": "2022-05-18T07:10:11.923Z"
   },
   {
    "duration": 4866,
    "start_time": "2022-05-18T07:11:04.019Z"
   },
   {
    "duration": 2343,
    "start_time": "2022-05-18T07:11:08.887Z"
   },
   {
    "duration": 2632,
    "start_time": "2022-05-18T07:11:11.233Z"
   },
   {
    "duration": 1408,
    "start_time": "2022-05-18T07:11:13.867Z"
   },
   {
    "duration": 56,
    "start_time": "2022-05-18T07:11:15.277Z"
   },
   {
    "duration": 30,
    "start_time": "2022-05-18T07:11:15.335Z"
   },
   {
    "duration": 9,
    "start_time": "2022-05-18T07:11:15.367Z"
   },
   {
    "duration": 22,
    "start_time": "2022-05-18T07:11:15.378Z"
   },
   {
    "duration": 8,
    "start_time": "2022-05-18T07:11:15.401Z"
   },
   {
    "duration": 17,
    "start_time": "2022-05-18T07:11:15.411Z"
   },
   {
    "duration": 35,
    "start_time": "2022-05-18T07:11:15.429Z"
   },
   {
    "duration": 3,
    "start_time": "2022-05-18T07:11:15.465Z"
   },
   {
    "duration": 7,
    "start_time": "2022-05-18T07:11:15.469Z"
   },
   {
    "duration": 8,
    "start_time": "2022-05-18T07:11:15.477Z"
   },
   {
    "duration": 14,
    "start_time": "2022-05-18T07:11:15.487Z"
   },
   {
    "duration": 28,
    "start_time": "2022-05-18T07:11:15.502Z"
   },
   {
    "duration": 16,
    "start_time": "2022-05-18T07:11:15.559Z"
   },
   {
    "duration": 17,
    "start_time": "2022-05-18T07:11:15.576Z"
   },
   {
    "duration": 168,
    "start_time": "2022-05-18T07:11:15.595Z"
   },
   {
    "duration": 13,
    "start_time": "2022-05-18T07:11:15.764Z"
   },
   {
    "duration": 108,
    "start_time": "2022-05-18T07:11:15.779Z"
   },
   {
    "duration": 20,
    "start_time": "2022-05-18T07:11:15.889Z"
   },
   {
    "duration": 357,
    "start_time": "2022-05-18T07:11:15.911Z"
   },
   {
    "duration": 323,
    "start_time": "2022-05-18T07:11:16.270Z"
   },
   {
    "duration": 12,
    "start_time": "2022-05-18T07:11:16.595Z"
   },
   {
    "duration": 15,
    "start_time": "2022-05-18T07:11:16.609Z"
   },
   {
    "duration": 69,
    "start_time": "2022-05-18T07:11:16.625Z"
   },
   {
    "duration": 18,
    "start_time": "2022-05-18T07:11:16.698Z"
   },
   {
    "duration": 25,
    "start_time": "2022-05-18T07:11:16.717Z"
   },
   {
    "duration": 18,
    "start_time": "2022-05-18T07:11:16.743Z"
   },
   {
    "duration": 27,
    "start_time": "2022-05-18T07:11:16.762Z"
   },
   {
    "duration": 89,
    "start_time": "2022-05-18T07:11:16.790Z"
   },
   {
    "duration": 9,
    "start_time": "2022-05-18T07:11:16.881Z"
   },
   {
    "duration": 12,
    "start_time": "2022-05-18T07:11:16.892Z"
   },
   {
    "duration": 20,
    "start_time": "2022-05-18T07:11:16.905Z"
   },
   {
    "duration": 14,
    "start_time": "2022-05-18T07:11:16.927Z"
   },
   {
    "duration": 23,
    "start_time": "2022-05-18T07:11:16.943Z"
   },
   {
    "duration": 12,
    "start_time": "2022-05-18T07:11:16.967Z"
   },
   {
    "duration": 1181,
    "start_time": "2022-05-18T07:11:16.980Z"
   },
   {
    "duration": 15,
    "start_time": "2022-05-18T07:11:18.162Z"
   },
   {
    "duration": 97,
    "start_time": "2022-05-18T07:11:18.178Z"
   },
   {
    "duration": 11,
    "start_time": "2022-05-18T07:11:18.277Z"
   },
   {
    "duration": 22,
    "start_time": "2022-05-18T07:11:18.289Z"
   },
   {
    "duration": 51,
    "start_time": "2022-05-18T07:11:18.312Z"
   },
   {
    "duration": 286,
    "start_time": "2022-05-18T07:11:18.365Z"
   },
   {
    "duration": 26,
    "start_time": "2022-05-18T07:11:18.653Z"
   },
   {
    "duration": 79,
    "start_time": "2022-05-18T07:11:18.680Z"
   },
   {
    "duration": 28,
    "start_time": "2022-05-18T07:19:49.115Z"
   },
   {
    "duration": 45,
    "start_time": "2022-05-18T07:31:47.457Z"
   },
   {
    "duration": 21,
    "start_time": "2022-05-18T07:32:02.793Z"
   },
   {
    "duration": 23,
    "start_time": "2022-05-18T07:32:21.965Z"
   },
   {
    "duration": 173,
    "start_time": "2022-05-18T07:33:36.513Z"
   },
   {
    "duration": 18,
    "start_time": "2022-05-18T07:37:03.072Z"
   },
   {
    "duration": 523,
    "start_time": "2022-05-18T07:38:24.547Z"
   },
   {
    "duration": 55849,
    "start_time": "2022-05-18T07:40:03.281Z"
   },
   {
    "duration": 9,
    "start_time": "2022-05-18T07:41:24.076Z"
   },
   {
    "duration": 5,
    "start_time": "2022-05-18T07:42:10.691Z"
   },
   {
    "duration": 18,
    "start_time": "2022-05-18T07:43:11.496Z"
   },
   {
    "duration": 19,
    "start_time": "2022-05-18T07:44:16.315Z"
   },
   {
    "duration": 25946,
    "start_time": "2022-05-18T07:46:41.725Z"
   },
   {
    "duration": 12,
    "start_time": "2022-05-18T07:47:07.940Z"
   },
   {
    "duration": 10,
    "start_time": "2022-05-18T07:58:14.065Z"
   },
   {
    "duration": 2150,
    "start_time": "2022-05-18T08:06:31.837Z"
   },
   {
    "duration": 2057,
    "start_time": "2022-05-18T08:06:33.989Z"
   },
   {
    "duration": 2220,
    "start_time": "2022-05-18T08:06:36.048Z"
   },
   {
    "duration": 1200,
    "start_time": "2022-05-18T08:06:38.270Z"
   },
   {
    "duration": 30,
    "start_time": "2022-05-18T08:06:39.472Z"
   },
   {
    "duration": 20,
    "start_time": "2022-05-18T08:06:39.504Z"
   },
   {
    "duration": 7,
    "start_time": "2022-05-18T08:06:39.526Z"
   },
   {
    "duration": 25,
    "start_time": "2022-05-18T08:06:39.534Z"
   },
   {
    "duration": 7,
    "start_time": "2022-05-18T08:06:39.561Z"
   },
   {
    "duration": 16,
    "start_time": "2022-05-18T08:06:39.569Z"
   },
   {
    "duration": 11,
    "start_time": "2022-05-18T08:06:39.587Z"
   },
   {
    "duration": 3,
    "start_time": "2022-05-18T08:06:39.599Z"
   },
   {
    "duration": 8,
    "start_time": "2022-05-18T08:06:39.603Z"
   },
   {
    "duration": 9,
    "start_time": "2022-05-18T08:06:39.614Z"
   },
   {
    "duration": 39,
    "start_time": "2022-05-18T08:06:39.625Z"
   },
   {
    "duration": 28,
    "start_time": "2022-05-18T08:06:39.666Z"
   },
   {
    "duration": 14,
    "start_time": "2022-05-18T08:06:39.696Z"
   },
   {
    "duration": 17,
    "start_time": "2022-05-18T08:06:39.712Z"
   },
   {
    "duration": 242,
    "start_time": "2022-05-18T08:06:39.731Z"
   },
   {
    "duration": 13,
    "start_time": "2022-05-18T08:06:39.975Z"
   },
   {
    "duration": 114,
    "start_time": "2022-05-18T08:06:39.990Z"
   },
   {
    "duration": 20,
    "start_time": "2022-05-18T08:06:40.106Z"
   },
   {
    "duration": 333,
    "start_time": "2022-05-18T08:06:40.128Z"
   },
   {
    "duration": 159,
    "start_time": "2022-05-18T08:06:40.463Z"
   },
   {
    "duration": 12,
    "start_time": "2022-05-18T08:06:40.659Z"
   },
   {
    "duration": 9,
    "start_time": "2022-05-18T08:06:40.673Z"
   },
   {
    "duration": 162,
    "start_time": "2022-05-18T08:06:40.684Z"
   },
   {
    "duration": 24,
    "start_time": "2022-05-18T08:06:40.848Z"
   },
   {
    "duration": 15,
    "start_time": "2022-05-18T08:06:40.874Z"
   },
   {
    "duration": 23555,
    "start_time": "2022-05-18T08:06:40.891Z"
   },
   {
    "duration": 17,
    "start_time": "2022-05-18T08:07:04.448Z"
   },
   {
    "duration": 401,
    "start_time": "2022-05-18T08:07:04.467Z"
   },
   {
    "duration": 0,
    "start_time": "2022-05-18T08:07:04.870Z"
   },
   {
    "duration": 0,
    "start_time": "2022-05-18T08:07:04.872Z"
   },
   {
    "duration": 0,
    "start_time": "2022-05-18T08:07:04.874Z"
   },
   {
    "duration": 0,
    "start_time": "2022-05-18T08:07:04.876Z"
   },
   {
    "duration": 0,
    "start_time": "2022-05-18T08:07:04.877Z"
   },
   {
    "duration": 0,
    "start_time": "2022-05-18T08:07:04.879Z"
   },
   {
    "duration": 1,
    "start_time": "2022-05-18T08:07:04.880Z"
   },
   {
    "duration": 0,
    "start_time": "2022-05-18T08:07:04.882Z"
   },
   {
    "duration": 0,
    "start_time": "2022-05-18T08:07:04.884Z"
   },
   {
    "duration": 0,
    "start_time": "2022-05-18T08:07:04.885Z"
   },
   {
    "duration": 0,
    "start_time": "2022-05-18T08:07:04.886Z"
   },
   {
    "duration": 0,
    "start_time": "2022-05-18T08:07:04.888Z"
   },
   {
    "duration": 0,
    "start_time": "2022-05-18T08:07:04.890Z"
   },
   {
    "duration": 0,
    "start_time": "2022-05-18T08:07:04.891Z"
   },
   {
    "duration": 0,
    "start_time": "2022-05-18T08:07:04.893Z"
   },
   {
    "duration": 0,
    "start_time": "2022-05-18T08:07:04.895Z"
   },
   {
    "duration": 0,
    "start_time": "2022-05-18T08:07:04.896Z"
   },
   {
    "duration": 14,
    "start_time": "2022-05-18T08:28:04.744Z"
   },
   {
    "duration": 15,
    "start_time": "2022-05-18T08:28:25.840Z"
   },
   {
    "duration": 11,
    "start_time": "2022-05-18T08:28:52.014Z"
   },
   {
    "duration": 10,
    "start_time": "2022-05-18T08:29:11.819Z"
   },
   {
    "duration": 10,
    "start_time": "2022-05-18T08:29:18.040Z"
   },
   {
    "duration": 34,
    "start_time": "2022-05-18T08:29:34.089Z"
   },
   {
    "duration": 23063,
    "start_time": "2022-05-18T08:29:38.954Z"
   },
   {
    "duration": 13,
    "start_time": "2022-05-18T08:30:02.019Z"
   },
   {
    "duration": 11,
    "start_time": "2022-05-18T08:34:23.322Z"
   },
   {
    "duration": 11,
    "start_time": "2022-05-18T08:34:27.213Z"
   },
   {
    "duration": 24337,
    "start_time": "2022-05-18T08:34:51.109Z"
   },
   {
    "duration": 25,
    "start_time": "2022-05-18T08:35:15.448Z"
   },
   {
    "duration": 17,
    "start_time": "2022-05-18T08:37:06.038Z"
   },
   {
    "duration": 16,
    "start_time": "2022-05-18T08:38:48.952Z"
   },
   {
    "duration": 19,
    "start_time": "2022-05-18T08:39:23.768Z"
   },
   {
    "duration": 14,
    "start_time": "2022-05-18T08:43:49.406Z"
   },
   {
    "duration": 14,
    "start_time": "2022-05-18T08:44:21.362Z"
   },
   {
    "duration": 13,
    "start_time": "2022-05-18T08:44:35.785Z"
   },
   {
    "duration": 11,
    "start_time": "2022-05-18T08:44:48.389Z"
   },
   {
    "duration": 20,
    "start_time": "2022-05-18T08:45:07.384Z"
   },
   {
    "duration": 728,
    "start_time": "2022-05-18T08:45:34.255Z"
   },
   {
    "duration": 9,
    "start_time": "2022-05-18T08:49:40.848Z"
   },
   {
    "duration": 5,
    "start_time": "2022-05-18T08:51:00.071Z"
   },
   {
    "duration": 57,
    "start_time": "2022-05-18T08:54:50.407Z"
   },
   {
    "duration": 11,
    "start_time": "2022-05-18T08:55:01.892Z"
   },
   {
    "duration": 17,
    "start_time": "2022-05-18T09:00:02.621Z"
   },
   {
    "duration": 22,
    "start_time": "2022-05-18T09:15:27.728Z"
   },
   {
    "duration": 12,
    "start_time": "2022-05-18T09:17:17.017Z"
   },
   {
    "duration": 5,
    "start_time": "2022-05-18T09:17:35.409Z"
   },
   {
    "duration": 11,
    "start_time": "2022-05-18T09:18:36.793Z"
   },
   {
    "duration": 10,
    "start_time": "2022-05-18T09:21:53.810Z"
   },
   {
    "duration": 10,
    "start_time": "2022-05-18T09:30:34.888Z"
   },
   {
    "duration": 6,
    "start_time": "2022-05-18T09:42:00.852Z"
   },
   {
    "duration": 16,
    "start_time": "2022-05-18T09:42:20.101Z"
   },
   {
    "duration": 12,
    "start_time": "2022-05-18T09:44:06.296Z"
   },
   {
    "duration": 15,
    "start_time": "2022-05-18T09:44:08.168Z"
   },
   {
    "duration": 4,
    "start_time": "2022-05-18T09:45:17.444Z"
   },
   {
    "duration": 7,
    "start_time": "2022-05-18T09:45:57.608Z"
   },
   {
    "duration": 12,
    "start_time": "2022-05-18T09:48:00.811Z"
   },
   {
    "duration": 45,
    "start_time": "2022-05-18T09:50:47.446Z"
   },
   {
    "duration": 5,
    "start_time": "2022-05-18T09:51:17.558Z"
   },
   {
    "duration": 6,
    "start_time": "2022-05-18T09:54:40.428Z"
   },
   {
    "duration": 15,
    "start_time": "2022-05-18T09:55:12.041Z"
   },
   {
    "duration": 13,
    "start_time": "2022-05-18T09:55:39.888Z"
   },
   {
    "duration": 2187,
    "start_time": "2022-05-18T09:56:12.141Z"
   },
   {
    "duration": 2086,
    "start_time": "2022-05-18T09:56:14.330Z"
   },
   {
    "duration": 2204,
    "start_time": "2022-05-18T09:56:16.418Z"
   },
   {
    "duration": 1164,
    "start_time": "2022-05-18T09:56:18.624Z"
   },
   {
    "duration": 31,
    "start_time": "2022-05-18T09:56:19.790Z"
   },
   {
    "duration": 21,
    "start_time": "2022-05-18T09:56:19.822Z"
   },
   {
    "duration": 13,
    "start_time": "2022-05-18T09:56:19.845Z"
   },
   {
    "duration": 22,
    "start_time": "2022-05-18T09:56:19.860Z"
   },
   {
    "duration": 8,
    "start_time": "2022-05-18T09:56:19.884Z"
   },
   {
    "duration": 23,
    "start_time": "2022-05-18T09:56:19.894Z"
   },
   {
    "duration": 20,
    "start_time": "2022-05-18T09:56:19.918Z"
   },
   {
    "duration": 6,
    "start_time": "2022-05-18T09:56:19.940Z"
   },
   {
    "duration": 23,
    "start_time": "2022-05-18T09:56:19.947Z"
   },
   {
    "duration": 18,
    "start_time": "2022-05-18T09:56:19.971Z"
   },
   {
    "duration": 29,
    "start_time": "2022-05-18T09:56:19.991Z"
   },
   {
    "duration": 40,
    "start_time": "2022-05-18T09:56:20.022Z"
   },
   {
    "duration": 15,
    "start_time": "2022-05-18T09:56:20.064Z"
   },
   {
    "duration": 41,
    "start_time": "2022-05-18T09:56:20.080Z"
   },
   {
    "duration": 240,
    "start_time": "2022-05-18T09:56:20.122Z"
   },
   {
    "duration": 13,
    "start_time": "2022-05-18T09:56:20.364Z"
   },
   {
    "duration": 113,
    "start_time": "2022-05-18T09:56:20.378Z"
   },
   {
    "duration": 19,
    "start_time": "2022-05-18T09:56:20.493Z"
   },
   {
    "duration": 362,
    "start_time": "2022-05-18T09:56:20.514Z"
   },
   {
    "duration": 132,
    "start_time": "2022-05-18T09:56:20.878Z"
   },
   {
    "duration": 57,
    "start_time": "2022-05-18T09:56:21.011Z"
   },
   {
    "duration": 17,
    "start_time": "2022-05-18T09:56:21.070Z"
   },
   {
    "duration": 150,
    "start_time": "2022-05-18T09:56:21.088Z"
   },
   {
    "duration": 25,
    "start_time": "2022-05-18T09:56:21.241Z"
   },
   {
    "duration": 33,
    "start_time": "2022-05-18T09:56:21.268Z"
   },
   {
    "duration": 31,
    "start_time": "2022-05-18T09:56:21.303Z"
   },
   {
    "duration": 53,
    "start_time": "2022-05-18T09:56:21.335Z"
   },
   {
    "duration": 35,
    "start_time": "2022-05-18T09:56:21.389Z"
   },
   {
    "duration": 26,
    "start_time": "2022-05-18T09:56:21.426Z"
   },
   {
    "duration": 18,
    "start_time": "2022-05-18T09:56:21.454Z"
   },
   {
    "duration": 33,
    "start_time": "2022-05-18T09:56:21.474Z"
   },
   {
    "duration": 67,
    "start_time": "2022-05-18T09:56:21.508Z"
   },
   {
    "duration": 711,
    "start_time": "2022-05-18T09:56:21.577Z"
   },
   {
    "duration": 12,
    "start_time": "2022-05-18T09:56:22.290Z"
   },
   {
    "duration": 97,
    "start_time": "2022-05-18T09:56:22.303Z"
   },
   {
    "duration": 9,
    "start_time": "2022-05-18T09:56:22.402Z"
   },
   {
    "duration": 23,
    "start_time": "2022-05-18T09:56:22.413Z"
   },
   {
    "duration": 34,
    "start_time": "2022-05-18T09:56:22.437Z"
   },
   {
    "duration": 21,
    "start_time": "2022-05-18T09:56:22.473Z"
   },
   {
    "duration": 21,
    "start_time": "2022-05-18T09:56:22.496Z"
   },
   {
    "duration": 30,
    "start_time": "2022-05-18T09:56:22.519Z"
   },
   {
    "duration": 1171,
    "start_time": "2022-05-18T09:56:22.551Z"
   },
   {
    "duration": 13,
    "start_time": "2022-05-18T09:56:23.724Z"
   },
   {
    "duration": 81,
    "start_time": "2022-05-18T09:56:23.739Z"
   },
   {
    "duration": 10,
    "start_time": "2022-05-18T09:56:23.822Z"
   },
   {
    "duration": 8,
    "start_time": "2022-05-18T09:56:23.833Z"
   },
   {
    "duration": 31,
    "start_time": "2022-05-18T09:56:23.842Z"
   },
   {
    "duration": 296,
    "start_time": "2022-05-18T09:56:23.875Z"
   },
   {
    "duration": 24,
    "start_time": "2022-05-18T09:56:24.173Z"
   },
   {
    "duration": 91,
    "start_time": "2022-05-18T09:56:24.198Z"
   },
   {
    "duration": 170,
    "start_time": "2022-05-18T10:03:27.409Z"
   },
   {
    "duration": 9,
    "start_time": "2022-05-18T10:03:41.481Z"
   },
   {
    "duration": 18,
    "start_time": "2022-05-18T10:04:18.018Z"
   },
   {
    "duration": 15,
    "start_time": "2022-05-18T10:04:59.092Z"
   },
   {
    "duration": 19,
    "start_time": "2022-05-18T10:06:29.910Z"
   },
   {
    "duration": 18,
    "start_time": "2022-05-18T10:07:50.666Z"
   },
   {
    "duration": 30,
    "start_time": "2022-05-18T10:08:08.456Z"
   },
   {
    "duration": 8,
    "start_time": "2022-05-18T10:09:16.766Z"
   },
   {
    "duration": 8,
    "start_time": "2022-05-18T10:09:39.291Z"
   },
   {
    "duration": 13,
    "start_time": "2022-05-18T10:10:37.013Z"
   },
   {
    "duration": 8,
    "start_time": "2022-05-18T10:11:32.303Z"
   },
   {
    "duration": 8,
    "start_time": "2022-05-18T10:11:46.196Z"
   },
   {
    "duration": 12,
    "start_time": "2022-05-18T10:12:12.753Z"
   },
   {
    "duration": 11,
    "start_time": "2022-05-18T10:12:21.319Z"
   },
   {
    "duration": 14,
    "start_time": "2022-05-18T10:13:07.736Z"
   },
   {
    "duration": 10,
    "start_time": "2022-05-18T10:13:41.654Z"
   },
   {
    "duration": 27,
    "start_time": "2022-05-18T10:17:09.905Z"
   },
   {
    "duration": 5,
    "start_time": "2022-05-18T10:17:51.464Z"
   },
   {
    "duration": 5,
    "start_time": "2022-05-18T10:17:52.456Z"
   },
   {
    "duration": 9,
    "start_time": "2022-05-18T10:17:54.100Z"
   },
   {
    "duration": 15,
    "start_time": "2022-05-18T10:18:05.326Z"
   },
   {
    "duration": 779,
    "start_time": "2022-05-18T10:18:08.355Z"
   },
   {
    "duration": 9,
    "start_time": "2022-05-18T10:55:37.560Z"
   },
   {
    "duration": 14,
    "start_time": "2022-05-18T10:56:11.580Z"
   },
   {
    "duration": 18,
    "start_time": "2022-05-18T10:58:17.934Z"
   },
   {
    "duration": 12,
    "start_time": "2022-05-18T10:58:22.282Z"
   },
   {
    "duration": 854,
    "start_time": "2022-05-18T10:58:27.477Z"
   },
   {
    "duration": 829,
    "start_time": "2022-05-18T10:59:24.094Z"
   },
   {
    "duration": 544,
    "start_time": "2022-05-18T10:59:53.925Z"
   },
   {
    "duration": 836,
    "start_time": "2022-05-18T11:01:05.728Z"
   },
   {
    "duration": 942,
    "start_time": "2022-05-18T11:01:54.958Z"
   },
   {
    "duration": 797,
    "start_time": "2022-05-18T11:02:13.384Z"
   },
   {
    "duration": 1037,
    "start_time": "2022-05-18T11:02:29.092Z"
   },
   {
    "duration": 766,
    "start_time": "2022-05-18T11:02:48.558Z"
   },
   {
    "duration": 759,
    "start_time": "2022-05-18T11:05:48.316Z"
   },
   {
    "duration": 757,
    "start_time": "2022-05-18T11:06:10.059Z"
   },
   {
    "duration": 410,
    "start_time": "2022-05-18T11:09:03.049Z"
   },
   {
    "duration": 336,
    "start_time": "2022-05-18T11:09:50.858Z"
   },
   {
    "duration": 437,
    "start_time": "2022-05-18T11:10:52.809Z"
   },
   {
    "duration": 12,
    "start_time": "2022-05-18T11:11:35.356Z"
   },
   {
    "duration": 435,
    "start_time": "2022-05-18T11:11:46.843Z"
   },
   {
    "duration": 25,
    "start_time": "2022-05-18T11:19:07.553Z"
   },
   {
    "duration": 413,
    "start_time": "2022-05-18T11:19:19.646Z"
   },
   {
    "duration": 433,
    "start_time": "2022-05-18T11:22:14.112Z"
   },
   {
    "duration": 451,
    "start_time": "2022-05-18T11:22:24.081Z"
   },
   {
    "duration": 41,
    "start_time": "2022-05-18T11:22:50.899Z"
   },
   {
    "duration": 814,
    "start_time": "2022-05-18T11:22:57.048Z"
   },
   {
    "duration": 782,
    "start_time": "2022-05-18T11:23:24.607Z"
   },
   {
    "duration": 947,
    "start_time": "2022-05-18T11:24:00.092Z"
   },
   {
    "duration": 1048,
    "start_time": "2022-05-18T11:29:27.771Z"
   },
   {
    "duration": 1252,
    "start_time": "2022-05-18T11:29:34.112Z"
   },
   {
    "duration": 776,
    "start_time": "2022-05-18T11:31:21.825Z"
   },
   {
    "duration": 834,
    "start_time": "2022-05-18T11:31:33.355Z"
   },
   {
    "duration": 698,
    "start_time": "2022-05-18T11:32:11.937Z"
   },
   {
    "duration": 914,
    "start_time": "2022-05-18T11:32:22.783Z"
   },
   {
    "duration": 43,
    "start_time": "2022-05-18T11:34:42.805Z"
   },
   {
    "duration": 620,
    "start_time": "2022-05-18T11:35:02.687Z"
   },
   {
    "duration": 819,
    "start_time": "2022-05-18T11:35:40.162Z"
   },
   {
    "duration": 930,
    "start_time": "2022-05-18T11:35:58.960Z"
   },
   {
    "duration": 633,
    "start_time": "2022-05-18T11:36:08.225Z"
   },
   {
    "duration": 726,
    "start_time": "2022-05-18T11:36:18.225Z"
   },
   {
    "duration": 930,
    "start_time": "2022-05-18T11:37:11.024Z"
   },
   {
    "duration": 1001,
    "start_time": "2022-05-18T11:37:21.092Z"
   },
   {
    "duration": 15,
    "start_time": "2022-05-18T11:41:27.547Z"
   },
   {
    "duration": 2295,
    "start_time": "2022-05-18T11:54:20.299Z"
   },
   {
    "duration": 2303,
    "start_time": "2022-05-18T11:54:22.597Z"
   },
   {
    "duration": 2322,
    "start_time": "2022-05-18T11:54:24.902Z"
   },
   {
    "duration": 1325,
    "start_time": "2022-05-18T11:54:27.227Z"
   },
   {
    "duration": 38,
    "start_time": "2022-05-18T11:54:28.554Z"
   },
   {
    "duration": 23,
    "start_time": "2022-05-18T11:54:28.594Z"
   },
   {
    "duration": 8,
    "start_time": "2022-05-18T11:54:28.618Z"
   },
   {
    "duration": 18,
    "start_time": "2022-05-18T11:54:28.628Z"
   },
   {
    "duration": 25,
    "start_time": "2022-05-18T11:54:28.648Z"
   },
   {
    "duration": 26,
    "start_time": "2022-05-18T11:54:28.677Z"
   },
   {
    "duration": 16,
    "start_time": "2022-05-18T11:54:28.705Z"
   },
   {
    "duration": 5,
    "start_time": "2022-05-18T11:54:28.724Z"
   },
   {
    "duration": 8,
    "start_time": "2022-05-18T11:54:28.730Z"
   },
   {
    "duration": 26,
    "start_time": "2022-05-18T11:54:28.740Z"
   },
   {
    "duration": 24,
    "start_time": "2022-05-18T11:54:28.768Z"
   },
   {
    "duration": 33,
    "start_time": "2022-05-18T11:54:28.794Z"
   },
   {
    "duration": 16,
    "start_time": "2022-05-18T11:54:28.829Z"
   },
   {
    "duration": 20,
    "start_time": "2022-05-18T11:54:28.859Z"
   },
   {
    "duration": 257,
    "start_time": "2022-05-18T11:54:28.881Z"
   },
   {
    "duration": 34,
    "start_time": "2022-05-18T11:54:29.140Z"
   },
   {
    "duration": 108,
    "start_time": "2022-05-18T11:54:29.175Z"
   },
   {
    "duration": 23,
    "start_time": "2022-05-18T11:54:29.285Z"
   },
   {
    "duration": 366,
    "start_time": "2022-05-18T11:54:29.311Z"
   },
   {
    "duration": 186,
    "start_time": "2022-05-18T11:54:29.679Z"
   },
   {
    "duration": 14,
    "start_time": "2022-05-18T11:54:29.868Z"
   },
   {
    "duration": 42,
    "start_time": "2022-05-18T11:54:29.883Z"
   },
   {
    "duration": 169,
    "start_time": "2022-05-18T11:54:29.926Z"
   },
   {
    "duration": 8,
    "start_time": "2022-05-18T11:54:30.099Z"
   },
   {
    "duration": 55,
    "start_time": "2022-05-18T11:54:30.109Z"
   },
   {
    "duration": 33,
    "start_time": "2022-05-18T11:54:30.168Z"
   },
   {
    "duration": 42,
    "start_time": "2022-05-18T11:54:30.202Z"
   },
   {
    "duration": 35,
    "start_time": "2022-05-18T11:54:30.246Z"
   },
   {
    "duration": 28,
    "start_time": "2022-05-18T11:54:30.282Z"
   },
   {
    "duration": 24,
    "start_time": "2022-05-18T11:54:30.311Z"
   },
   {
    "duration": 47,
    "start_time": "2022-05-18T11:54:30.336Z"
   },
   {
    "duration": 42,
    "start_time": "2022-05-18T11:54:30.385Z"
   },
   {
    "duration": 26,
    "start_time": "2022-05-18T11:54:30.429Z"
   },
   {
    "duration": 355,
    "start_time": "2022-05-18T11:54:30.456Z"
   },
   {
    "duration": 15,
    "start_time": "2022-05-18T11:54:30.813Z"
   },
   {
    "duration": 30,
    "start_time": "2022-05-18T11:54:30.829Z"
   },
   {
    "duration": 111,
    "start_time": "2022-05-18T11:54:30.867Z"
   },
   {
    "duration": 10,
    "start_time": "2022-05-18T11:54:30.981Z"
   },
   {
    "duration": 39,
    "start_time": "2022-05-18T11:54:30.993Z"
   },
   {
    "duration": 49,
    "start_time": "2022-05-18T11:54:31.033Z"
   },
   {
    "duration": 106,
    "start_time": "2022-05-18T11:54:31.084Z"
   },
   {
    "duration": 54,
    "start_time": "2022-05-18T11:54:31.192Z"
   },
   {
    "duration": 72,
    "start_time": "2022-05-18T11:54:31.248Z"
   },
   {
    "duration": 1331,
    "start_time": "2022-05-18T11:54:31.322Z"
   },
   {
    "duration": 19,
    "start_time": "2022-05-18T11:54:32.658Z"
   },
   {
    "duration": 96,
    "start_time": "2022-05-18T11:54:32.679Z"
   },
   {
    "duration": 11,
    "start_time": "2022-05-18T11:54:32.779Z"
   },
   {
    "duration": 9,
    "start_time": "2022-05-18T11:54:32.792Z"
   },
   {
    "duration": 34,
    "start_time": "2022-05-18T11:54:32.802Z"
   },
   {
    "duration": 346,
    "start_time": "2022-05-18T11:54:32.838Z"
   },
   {
    "duration": 26,
    "start_time": "2022-05-18T11:54:33.186Z"
   },
   {
    "duration": 100,
    "start_time": "2022-05-18T11:54:33.213Z"
   },
   {
    "duration": 4771,
    "start_time": "2022-05-18T12:17:49.289Z"
   },
   {
    "duration": 2853,
    "start_time": "2022-05-18T12:17:54.063Z"
   },
   {
    "duration": 2908,
    "start_time": "2022-05-18T12:17:56.918Z"
   },
   {
    "duration": 1481,
    "start_time": "2022-05-18T12:17:59.827Z"
   },
   {
    "duration": 176,
    "start_time": "2022-05-18T12:18:01.310Z"
   },
   {
    "duration": 32,
    "start_time": "2022-05-18T12:18:01.488Z"
   },
   {
    "duration": 7,
    "start_time": "2022-05-18T12:18:01.521Z"
   },
   {
    "duration": 18,
    "start_time": "2022-05-18T12:18:01.530Z"
   },
   {
    "duration": 9,
    "start_time": "2022-05-18T12:18:01.550Z"
   },
   {
    "duration": 34,
    "start_time": "2022-05-18T12:18:01.561Z"
   },
   {
    "duration": 15,
    "start_time": "2022-05-18T12:18:01.597Z"
   },
   {
    "duration": 3,
    "start_time": "2022-05-18T12:18:01.614Z"
   },
   {
    "duration": 13,
    "start_time": "2022-05-18T12:18:01.619Z"
   },
   {
    "duration": 14,
    "start_time": "2022-05-18T12:18:01.636Z"
   },
   {
    "duration": 51,
    "start_time": "2022-05-18T12:18:01.652Z"
   },
   {
    "duration": 36,
    "start_time": "2022-05-18T12:18:01.704Z"
   },
   {
    "duration": 15,
    "start_time": "2022-05-18T12:18:01.741Z"
   },
   {
    "duration": 32,
    "start_time": "2022-05-18T12:18:01.757Z"
   },
   {
    "duration": 189,
    "start_time": "2022-05-18T12:18:01.791Z"
   },
   {
    "duration": 19,
    "start_time": "2022-05-18T12:18:01.982Z"
   },
   {
    "duration": 128,
    "start_time": "2022-05-18T12:18:02.002Z"
   },
   {
    "duration": 20,
    "start_time": "2022-05-18T12:18:02.132Z"
   },
   {
    "duration": 388,
    "start_time": "2022-05-18T12:18:02.153Z"
   },
   {
    "duration": 277,
    "start_time": "2022-05-18T12:18:02.542Z"
   },
   {
    "duration": 14,
    "start_time": "2022-05-18T12:18:02.821Z"
   },
   {
    "duration": 40,
    "start_time": "2022-05-18T12:18:02.837Z"
   },
   {
    "duration": 65,
    "start_time": "2022-05-18T12:18:02.880Z"
   },
   {
    "duration": 29,
    "start_time": "2022-05-18T12:18:02.947Z"
   },
   {
    "duration": 28,
    "start_time": "2022-05-18T12:18:02.978Z"
   },
   {
    "duration": 10,
    "start_time": "2022-05-18T12:18:03.008Z"
   },
   {
    "duration": 31,
    "start_time": "2022-05-18T12:18:03.020Z"
   },
   {
    "duration": 23,
    "start_time": "2022-05-18T12:18:03.052Z"
   },
   {
    "duration": 41,
    "start_time": "2022-05-18T12:18:03.077Z"
   },
   {
    "duration": 12,
    "start_time": "2022-05-18T12:18:03.120Z"
   },
   {
    "duration": 11,
    "start_time": "2022-05-18T12:18:03.133Z"
   },
   {
    "duration": 27,
    "start_time": "2022-05-18T12:18:03.145Z"
   },
   {
    "duration": 14,
    "start_time": "2022-05-18T12:18:03.174Z"
   },
   {
    "duration": 411,
    "start_time": "2022-05-18T12:18:03.190Z"
   },
   {
    "duration": 14,
    "start_time": "2022-05-18T12:18:03.603Z"
   },
   {
    "duration": 11,
    "start_time": "2022-05-18T12:18:03.618Z"
   },
   {
    "duration": 106,
    "start_time": "2022-05-18T12:18:03.632Z"
   },
   {
    "duration": 9,
    "start_time": "2022-05-18T12:18:03.740Z"
   },
   {
    "duration": 9,
    "start_time": "2022-05-18T12:18:03.751Z"
   },
   {
    "duration": 15,
    "start_time": "2022-05-18T12:18:03.775Z"
   },
   {
    "duration": 14,
    "start_time": "2022-05-18T12:18:03.791Z"
   },
   {
    "duration": 6,
    "start_time": "2022-05-18T12:18:03.807Z"
   },
   {
    "duration": 8,
    "start_time": "2022-05-18T12:18:03.815Z"
   },
   {
    "duration": 1338,
    "start_time": "2022-05-18T12:18:03.825Z"
   },
   {
    "duration": 26,
    "start_time": "2022-05-18T12:18:05.164Z"
   },
   {
    "duration": 107,
    "start_time": "2022-05-18T12:18:05.192Z"
   },
   {
    "duration": 16,
    "start_time": "2022-05-18T12:18:05.301Z"
   },
   {
    "duration": 89,
    "start_time": "2022-05-18T12:18:05.320Z"
   },
   {
    "duration": 30,
    "start_time": "2022-05-18T12:18:05.411Z"
   },
   {
    "duration": 422,
    "start_time": "2022-05-18T12:18:05.445Z"
   },
   {
    "duration": 34,
    "start_time": "2022-05-18T12:18:05.868Z"
   },
   {
    "duration": 115,
    "start_time": "2022-05-18T12:18:05.903Z"
   }
  ],
  "kernelspec": {
   "display_name": "Python 3 (ipykernel)",
   "language": "python",
   "name": "python3"
  },
  "language_info": {
   "codemirror_mode": {
    "name": "ipython",
    "version": 3
   },
   "file_extension": ".py",
   "mimetype": "text/x-python",
   "name": "python",
   "nbconvert_exporter": "python",
   "pygments_lexer": "ipython3",
   "version": "3.9.7"
  },
  "toc": {
   "base_numbering": 1,
   "nav_menu": {},
   "number_sections": true,
   "sideBar": true,
   "skip_h1_title": true,
   "title_cell": "Table of Contents",
   "title_sidebar": "Contents",
   "toc_cell": false,
   "toc_position": {},
   "toc_section_display": true,
   "toc_window_display": false
  }
 },
 "nbformat": 4,
 "nbformat_minor": 5
}
